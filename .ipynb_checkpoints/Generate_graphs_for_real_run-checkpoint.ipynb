{
 "cells": [
  {
   "cell_type": "code",
   "execution_count": 7,
   "id": "cbc9b891-178a-4090-a3f8-647d367a7cdd",
   "metadata": {},
   "outputs": [],
   "source": [
    "import matplotlib.pyplot as plt\n",
    "import numpy as np\n",
    "import pandas as pd\n",
    "import sqlite3"
   ]
  },
  {
   "cell_type": "markdown",
   "id": "2b7c9927-1c48-4822-aa64-e5429094f02b",
   "metadata": {},
   "source": [
    "## Create Database Connection"
   ]
  },
  {
   "cell_type": "code",
   "execution_count": 8,
   "id": "36034a96-7496-4ec8-999d-a54d1a4bcfed",
   "metadata": {},
   "outputs": [],
   "source": [
    "def create_db_connection():\n",
    "    con = sqlite3.connect('ibm_real_device_run_results.db')\n",
    "    return con\n",
    "\n",
    "def drop_table(con):\n",
    "    cur = con.cursor()\n",
    "    sql = '''\n",
    "            DROP TABLE run_data\n",
    "          '''\n",
    "    cur.execute(sql)\n",
    "    con.commit()\n",
    "\n",
    "def create_table(con):\n",
    "    cur = con.cursor()\n",
    "    \n",
    "    # counts_experimental = counts with error on real device\n",
    "    # counts_ideal = counts without error on real device\n",
    "    # counts_noisy_simulation = counts with error on simulator\n",
    "    \n",
    "    sql = '''\n",
    "            CREATE TABLE IF NOT EXISTS run_data (id INTEGER PRIMARY KEY AUTOINCREMENT, backend TEXT, state_name TEXT, \n",
    "            tvd REAL, jsd REAL, hellinger REAL, counts_experimental TEXT, counts_ideal TEXT, counts_simulation TEXT)\n",
    "          '''\n",
    "    cur.execute(sql)\n",
    "    con.commit()\n",
    "    \n",
    "def insert_into_table(con, backend, state_name, tvd, jsd, hellinger, counts_experimental, counts_ideal, counts_simulation):\n",
    "    cur = con.cursor()\n",
    "    sql = '''\n",
    "            INSERT INTO run_data (backend, state_name, tvd, jsd, \n",
    "            hellinger, counts_experimental, counts_ideal, counts_simulation) \n",
    "            VALUES (\"{}\", \"{}\", {}, {}, {}, \"{}\", \"{}\", \"{}\")\n",
    "          '''.format(backend, state_name, tvd, jsd, hellinger, counts_experimental, counts_ideal, counts_simulation)\n",
    "    cur.execute(sql)\n",
    "    con.commit()\n",
    "    \n",
    "def show_table_data(con):\n",
    "    cur = con.cursor()\n",
    "    sql = '''\n",
    "            SELECT * FROM run_data\n",
    "          '''\n",
    "    res = cur.execute(sql)\n",
    "    return res.fetchall()\n",
    "    \n",
    "def check_data_for_some_backend_and_state_exists(con, backend, state_name):\n",
    "    cur = con.cursor()\n",
    "    cur.execute(\"SELECT id FROM run_data WHERE backend = ? AND state_name = ?\", (backend, state_name))\n",
    "    data = cur.fetchall()\n",
    "    \n",
    "    if len(data) == 0:\n",
    "        return False\n",
    "    return True\n",
    "\n",
    "def search_data(con, backend, state_name):\n",
    "    cur = con.cursor()\n",
    "    cur.execute(\"SELECT * FROM run_data WHERE backend = ? AND state_name = ?\", (backend, state_name))\n",
    "    data = cur.fetchall()\n",
    "    \n",
    "    return data\n",
    "\n",
    "def create_column():\n",
    "    con = create_db_connection()\n",
    "    sql = ''' ALTER TABLE run_data ADD COLUMN qubits INT '''\n",
    "    cur = con.cursor()\n",
    "    cur.execute(sql)\n",
    "    con.commit()\n",
    "    con.close()"
   ]
  },
  {
   "cell_type": "markdown",
   "id": "5dae38e8-2b72-4745-a02b-f0f0bb9eb621",
   "metadata": {},
   "source": [
    "## Load Data"
   ]
  },
  {
   "cell_type": "code",
   "execution_count": 9,
   "id": "d9e8eae5-a772-4233-9abc-feb5f594944d",
   "metadata": {},
   "outputs": [],
   "source": [
    "con = create_db_connection()\n",
    "data = show_table_data(con)"
   ]
  },
  {
   "cell_type": "code",
   "execution_count": 10,
   "id": "2c6e901c-fa4a-4979-a7de-929809ebce94",
   "metadata": {},
   "outputs": [
    {
     "name": "stdout",
     "output_type": "stream",
     "text": [
      "hellinger for oslo-ghz:  [(36, 'ibmq_oslo', 'ghz_circ', 0.07274218750000001, 0.7426715475895849, 0.18570766223742965, \"{'000': 1787, '001': 124, '010': 23, '011': 88, '100': 102, '101': 15, '110': 36, '111': 1825}\", \"({'000': 1787, '001': 124, '010': 23, '011': 88, '100': 102, '101': 15, '110': 36, '111': 1825}, {'011': 12, '101': 14, '110': 9, '000': 521, '111': 468, '001': 0, '010': 0, '100': 0}, {'111': 503, '000': 521, '001': 0, '010': 0, '011': 0, '100': 0, '101': 0, '110': 0})\", \"{'011': 12, '101': 14, '110': 9, '000': 521, '111': 468, '001': 0, '010': 0, '100': 0}\", None)]\n"
     ]
    }
   ],
   "source": [
    "print(\"hellinger for oslo-ghz: \", search_data(con, 'ibmq_oslo', 'ghz_circ'))"
   ]
  },
  {
   "cell_type": "markdown",
   "id": "75b7493d-e8c3-4858-ae93-2ced286c3aab",
   "metadata": {},
   "source": [
    "## Generate Plot"
   ]
  },
  {
   "cell_type": "code",
   "execution_count": null,
   "id": "7a11c4f0-6ed8-4bba-a695-215a19ad1965",
   "metadata": {},
   "outputs": [],
   "source": [
    "def add_missing_states(qubits, counts_experimental, counts_simulation, counts_ideal):\n",
    "    for number in range(2**qubits):\n",
    "        binary_state = '{0:b}'.format(number).zfill(qubits)\n",
    "\n",
    "        if binary_state not in counts_experimental:\n",
    "            counts_experimental[binary_state] = 0\n",
    "\n",
    "        if binary_state not in counts_simulation:\n",
    "            counts_simulation[binary_state] = 0\n",
    "            \n",
    "        if binary_state not in counts_ideal:\n",
    "            counts_ideal[binary_state] = 0\n",
    "            \n",
    "    return counts_experimental, counts_simulation, counts_ideal"
   ]
  },
  {
   "cell_type": "code",
   "execution_count": null,
   "id": "679126c8-ef60-49ef-8757-9648a1978eb9",
   "metadata": {},
   "outputs": [],
   "source": [
    "def generate_plot(ideal_counts, calculated_counts, backend_name, circ_name):\n",
    "    ideal_counts = dict(sorted(ideal_counts.items()))\n",
    "    calculated_counts = dict(sorted(calculated_counts.items()))\n",
    "    \n",
    "    #Probability Distribution\n",
    "    s_ideal = sum(ideal_counts.values())\n",
    "    for key, value in ideal_counts.items():\n",
    "        percentage = value / s_ideal\n",
    "        ideal_counts[key] = percentage\n",
    "        \n",
    "    s_calculated = sum(calculated_counts.values())\n",
    "    for key, value in calculated_counts.items():\n",
    "        percentage = value / s_calculated\n",
    "        calculated_counts[key] = percentage\n",
    "    \n",
    "    fname = f'./Images/Comparison_with_real/{backend_name}_{circ_name}.pdf'\n",
    "        \n",
    "    X = np.arange(len(calculated_counts))\n",
    "    f, ax = plt.subplots(figsize=(12,8))\n",
    "    ax.bar(X-0.2, calculated_counts.values(), width=0.4, align='center', edgecolor='black')\n",
    "    ax.bar(X+0.2, ideal_counts.values(), width=0.4, align='center', edgecolor='black')\n",
    "    ax.legend(('Simulated noisy probability','Experimental Probability'), fontsize=15)\n",
    "    plt.xticks(X, calculated_counts.keys(), fontsize=13)\n",
    "    plt.xticks(X, ideal_counts.keys(), fontsize=13)\n",
    "    plt.yticks(fontsize=13)\n",
    "    plt.xticks(rotation=90)\n",
    "    plt.xlabel(\"States\", fontsize=16)\n",
    "    plt.ylabel(\"Probability\", fontsize=16)\n",
    "    plt.savefig(fname)\n",
    "    plt.show()"
   ]
  }
 ],
 "metadata": {
  "kernelspec": {
   "display_name": "Python 3",
   "language": "python",
   "name": "python3"
  },
  "language_info": {
   "codemirror_mode": {
    "name": "ipython",
    "version": 3
   },
   "file_extension": ".py",
   "mimetype": "text/x-python",
   "name": "python",
   "nbconvert_exporter": "python",
   "pygments_lexer": "ipython3",
   "version": "3.9.12"
  }
 },
 "nbformat": 4,
 "nbformat_minor": 5
}
