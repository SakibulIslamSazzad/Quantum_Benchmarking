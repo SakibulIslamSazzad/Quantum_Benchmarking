{
 "cells": [
  {
   "cell_type": "code",
   "execution_count": 1,
   "id": "c9c64b64-13b7-4702-a5ef-681a5f4a0aa6",
   "metadata": {},
   "outputs": [
    {
     "name": "stderr",
     "output_type": "stream",
     "text": [
      "<frozen importlib._bootstrap>:219: RuntimeWarning: scipy._lib.messagestream.MessageStream size changed, may indicate binary incompatibility. Expected 56 from C header, got 64 from PyObject\n"
     ]
    }
   ],
   "source": [
    "import numpy as np\n",
    "import cvxpy\n",
    "import time as T\n",
    "\n",
    "# Importing standard Qiskit libraries\n",
    "from qiskit import QuantumCircuit, transpile, Aer, IBMQ\n",
    "from qiskit.tools.jupyter import *\n",
    "from qiskit.visualization import *\n",
    "from ibm_quantum_widgets import *\n",
    "from qiskit.providers.aer import QasmSimulator\n",
    "from qiskit.quantum_info import diamond_norm\n",
    "from qiskit.providers.aer.noise import (\n",
    "    depolarizing_error,\n",
    "    thermal_relaxation_error,\n",
    "    reset_error\n",
    ")\n",
    "\n",
    "# Loading your IBM Quantum account(s)\n",
    "provider = IBMQ.load_account()"
   ]
  },
  {
   "cell_type": "code",
   "execution_count": 2,
   "id": "df65a3a2-83b0-4c3c-a645-ee109ac948ca",
   "metadata": {},
   "outputs": [],
   "source": [
    "def dep_error(num_qubits):\n",
    "    start = T.time()\n",
    "    \n",
    "    # Constant Parameters\n",
    "    param = 0.1\n",
    "    # T2 <= 2T1\n",
    "    t1 = 0.3\n",
    "    t2 = 0.2\n",
    "    time = 10\n",
    "\n",
    "    dep_error = depolarizing_error(param, num_qubits=num_qubits)\n",
    "    rest_error = reset_error(param)\n",
    "    thermal_error = thermal_relaxation_error(t1, t2, time)\n",
    "\n",
    "    dn_for_dep_error = diamond_norm(dep_error)\n",
    "    dn_for_rest_error = diamond_norm(rest_error)\n",
    "    dn_for_thermal_error = diamond_norm(thermal_error)\n",
    "    \n",
    "    end = T.time()\n",
    "    \n",
    "    print(\"Diamond Norm for Depolarizing Error: {0}\".format(dn_for_dep_error))\n",
    "    print(\"Diamond Norm for Reset Error: {0}\".format(dn_for_rest_error))\n",
    "    print(\"Diamond Norm for Thermal Relaxation Error: {}\".format(thermal_relaxation_error))\n",
    "    print(\"Time Elapsed for Number of Qubits {} is {} seconds\".format(num_qubits, (end-start)))"
   ]
  },
  {
   "cell_type": "markdown",
   "id": "67021cea-6752-47e2-8777-01ccbe52a182",
   "metadata": {},
   "source": [
    "## Diamond Norm for depolarizing error with upto 3 qubits works fine.  "
   ]
  },
  {
   "cell_type": "markdown",
   "id": "bdb848d0-9a58-4244-a3df-5c94bace8749",
   "metadata": {},
   "source": [
    "For some reason, diamond norm of thermal relaxation error doesn't work. \n",
    "\n",
    "In the Qiskit Documentation, there is no clear guideline about the constant values like **param, t1, t2 or time**. "
   ]
  },
  {
   "cell_type": "code",
   "execution_count": 3,
   "id": "4e4ab348-8896-43e1-aa30-1ea757afd0eb",
   "metadata": {},
   "outputs": [
    {
     "name": "stdout",
     "output_type": "stream",
     "text": [
      "Diamond Norm for Depolarizing Error: 0.9999963833375791\n",
      "Diamond Norm for Reset Error: 0.9999985614850382\n",
      "Diamond Norm for Thermal Relaxation Error: <function thermal_relaxation_error at 0x7f4b9a4e5e50>\n",
      "Time Elapsed for Number of Qubits 1 is 0.9453322887420654 seconds\n"
     ]
    }
   ],
   "source": [
    "dep_error(1)"
   ]
  },
  {
   "cell_type": "code",
   "execution_count": 4,
   "id": "c8585373-e66d-478a-ba42-6a9e5421f732",
   "metadata": {},
   "outputs": [
    {
     "name": "stdout",
     "output_type": "stream",
     "text": [
      "Diamond Norm for Depolarizing Error: 1.0000017985866527\n",
      "Diamond Norm for Reset Error: 0.9999985614850382\n",
      "Diamond Norm for Thermal Relaxation Error: <function thermal_relaxation_error at 0x7f4b9a4e5e50>\n",
      "Time Elapsed for Number of Qubits 2 is 1.0703606605529785 seconds\n"
     ]
    }
   ],
   "source": [
    "dep_error(2)"
   ]
  },
  {
   "cell_type": "code",
   "execution_count": 5,
   "id": "83ba4171-caef-4b9d-b2ee-cb5d3f9c5b87",
   "metadata": {},
   "outputs": [
    {
     "name": "stdout",
     "output_type": "stream",
     "text": [
      "Diamond Norm for Depolarizing Error: 1.0000534788201376\n",
      "Diamond Norm for Reset Error: 0.9999985614850382\n",
      "Diamond Norm for Thermal Relaxation Error: <function thermal_relaxation_error at 0x7f4b9a4e5e50>\n",
      "Time Elapsed for Number of Qubits 3 is 9.5034658908844 seconds\n"
     ]
    }
   ],
   "source": [
    "dep_error(3)"
   ]
  },
  {
   "cell_type": "code",
   "execution_count": null,
   "id": "6449d3df-9875-453c-8f69-db3ff4a855ec",
   "metadata": {},
   "outputs": [],
   "source": [
    "dep_error(4)"
   ]
  },
  {
   "cell_type": "code",
   "execution_count": null,
   "id": "e110bb1f-cb97-4a1d-b1a8-b025b593dc74",
   "metadata": {},
   "outputs": [],
   "source": []
  }
 ],
 "metadata": {
  "kernelspec": {
   "display_name": "Python 3 (ipykernel)",
   "language": "python",
   "name": "python3"
  },
  "language_info": {
   "codemirror_mode": {
    "name": "ipython",
    "version": 3
   },
   "file_extension": ".py",
   "mimetype": "text/x-python",
   "name": "python",
   "nbconvert_exporter": "python",
   "pygments_lexer": "ipython3",
   "version": "3.8.13"
  },
  "widgets": {
   "application/vnd.jupyter.widget-state+json": {
    "state": {},
    "version_major": 2,
    "version_minor": 0
   }
  }
 },
 "nbformat": 4,
 "nbformat_minor": 5
}
