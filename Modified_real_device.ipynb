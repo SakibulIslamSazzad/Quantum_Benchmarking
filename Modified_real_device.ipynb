{
 "cells": [
  {
   "cell_type": "markdown",
   "id": "4454c344-7caf-4932-9226-26c141b9ef57",
   "metadata": {},
   "source": [
    "# Imports"
   ]
  },
  {
   "cell_type": "code",
   "execution_count": 73,
   "id": "87cd572e-0630-4eb5-b9d8-5571a054778e",
   "metadata": {},
   "outputs": [],
   "source": [
    "import numpy as np\n",
    "from math import pi\n",
    "import pandas as pd\n",
    "from scipy.spatial import distance\n",
    "from scipy.linalg import norm\n",
    "from scipy.spatial.distance import euclidean\n",
    "import matplotlib.pyplot as plt\n",
    "import sqlite3\n",
    "\n",
    "from qiskit.quantum_info import Kraus, SuperOp\n",
    "from qiskit.providers.aer import (\n",
    "    AerSimulator,\n",
    "    QasmSimulator\n",
    ")\n",
    "from qiskit.providers.ibmq.job import job_monitor\n",
    "from qiskit import QuantumCircuit, transpile, Aer, IBMQ, QuantumRegister, ClassicalRegister, execute\n",
    "from qiskit.quantum_info.analysis.distance import hellinger_distance\n",
    "\n",
    "# Import from Qiskit Aer noise module\n",
    "from qiskit.providers.aer.noise import (\n",
    "    NoiseModel, \n",
    "    QuantumError, \n",
    "    ReadoutError, \n",
    "    pauli_error, \n",
    "    depolarizing_error, \n",
    "    thermal_relaxation_error\n",
    ")\n",
    "\n",
    "# Loading your IBM Quantum account(s)\n",
    "token = IBMQ.save_account('9d9d67f30e979c94f79826bb53a391c1b0a822660c6f49755656e8afde78092d159903b13b96ae0bd97b92dd3b8dc4f4c58168280ac0eb516673b46d781ec8a9',\n",
    "                         overwrite=True)\n",
    "\n",
    "# Filter warnings\n",
    "import warnings\n",
    "warnings.filterwarnings('ignore')"
   ]
  },
  {
   "cell_type": "markdown",
   "id": "1725eeae-5a12-447c-8be8-de6a9a895c0c",
   "metadata": {},
   "source": [
    "# Database Utilities"
   ]
  },
  {
   "cell_type": "code",
   "execution_count": 74,
   "id": "d087a507-93ff-496a-8f82-d88ec7fa5e5b",
   "metadata": {},
   "outputs": [],
   "source": [
    "def create_db_connection():\n",
    "    con = sqlite3.connect('ibm_real_device_run_results.db')\n",
    "    return con\n",
    "\n",
    "def drop_table(con):\n",
    "    cur = con.cursor()\n",
    "    sql = '''\n",
    "            DROP TABLE run_data\n",
    "          '''\n",
    "    cur.execute(sql)\n",
    "    con.commit()\n",
    "\n",
    "def create_table(con):\n",
    "    cur = con.cursor()\n",
    "    \n",
    "    # counts_experimental = counts with error on real device\n",
    "    # counts_ideal = counts without error on real device\n",
    "    # counts_noisy_simulation = counts with error on simulator\n",
    "    \n",
    "    sql = '''\n",
    "            CREATE TABLE IF NOT EXISTS run_data (id INTEGER PRIMARY KEY AUTOINCREMENT, backend TEXT, state_name TEXT, \n",
    "            tvd REAL, jsd REAL, hellinger REAL, counts_experimental TEXT, counts_ideal TEXT, counts_simulation TEXT)\n",
    "          '''\n",
    "    cur.execute(sql)\n",
    "    con.commit()\n",
    "    \n",
    "def insert_into_table(con, backend, state_name, tvd, jsd, hellinger, counts_experimental, counts_ideal, counts_simulation):\n",
    "    cur = con.cursor()\n",
    "    sql = '''\n",
    "            INSERT INTO run_data (backend, state_name, tvd, jsd, \n",
    "            hellinger, counts_experimental, counts_ideal, counts_simulation) \n",
    "            VALUES (\"{}\", \"{}\", {}, {}, {}, \"{}\", \"{}\", \"{}\")\n",
    "          '''.format(backend, state_name, tvd, jsd, hellinger, counts_experimental, counts_ideal, counts_simulation)\n",
    "    cur.execute(sql)\n",
    "    con.commit()\n",
    "    \n",
    "def show_table_data(con):\n",
    "    cur = con.cursor()\n",
    "    sql = '''\n",
    "            SELECT * FROM run_data\n",
    "          '''\n",
    "    res = cur.execute(sql)\n",
    "    print(res.fetchall())\n",
    "    \n",
    "def check_data_for_some_backend_and_state_exists(con, backend, state_name):\n",
    "    cur = con.cursor()\n",
    "    cur.execute(\"SELECT id FROM run_data WHERE backend = ? AND state_name = ?\", (backend, state_name))\n",
    "    data = cur.fetchall()\n",
    "    \n",
    "    if len(data) == 0:\n",
    "        return False\n",
    "    return True\n",
    "\n",
    "def update_table(counts_ideal, state_name):\n",
    "    con = create_db_connection()\n",
    "    cur = con.cursor()\n",
    "    sql = '''UPDATE run_data SET counts_ideal = \"{}\" WHERE state_name = \"{}\"'''.format(counts_ideal, state_name)\n",
    "    cur.execute(sql)\n",
    "    con.commit()\n",
    "    con.close()"
   ]
  },
  {
   "cell_type": "code",
   "execution_count": 75,
   "id": "66bdad49-a70c-4c55-915c-f12ab29effb7",
   "metadata": {},
   "outputs": [],
   "source": [
    "con = create_db_connection()\n",
    "create_table(con)"
   ]
  },
  {
   "cell_type": "markdown",
   "id": "ab661da4-41fb-47bc-9365-d694f4395325",
   "metadata": {},
   "source": [
    "# Noise Simulation, Ideal State and Real Run"
   ]
  },
  {
   "cell_type": "code",
   "execution_count": 76,
   "id": "779b18fb-f548-4f76-8c5d-9fed133e375b",
   "metadata": {},
   "outputs": [],
   "source": [
    "def add_missing_states(qubits, counts_experimental, counts_simulation, counts_ideal):\n",
    "    # add missing binary states in both distributions\n",
    "    # example, dist1 = {'0': 400} and dist2 = {'1': 600}\n",
    "    # the follwoing for loop will make them both same size (i.e., with same keys)\n",
    "    # new dist1 = {'0': 400, '1': 0} and dist2 = {'0': 0, '1': 600}\n",
    "    for number in range(2**qubits):\n",
    "        # following line converts an integer to a binary string \n",
    "        # the binary string length is fixed and it is number of qubits\n",
    "        # example, if number of qubit is 4, integer 3 will be `0011`\n",
    "        binary_state = '{0:b}'.format(number).zfill(qubits)\n",
    "\n",
    "        if binary_state not in counts_experimental:\n",
    "            counts_experimental[binary_state] = 0\n",
    "\n",
    "        if binary_state not in counts_simulation:\n",
    "            counts_simulation[binary_state] = 0\n",
    "            \n",
    "        if binary_state not in counts_ideal:\n",
    "            counts_ideal[binary_state] = 0\n",
    "            \n",
    "    return counts_experimental, counts_simulation, counts_ideal"
   ]
  },
  {
   "cell_type": "code",
   "execution_count": 77,
   "id": "5871d723-3e34-4007-a605-d5238cca40b7",
   "metadata": {},
   "outputs": [],
   "source": [
    "def calculate_tvd(counts_experimental, counts_simulation, N1, N2):\n",
    "    # following loop actually computes the TVD between two distributions\n",
    "    tvd = 0\n",
    "    for key in counts_experimental:\n",
    "        print(counts_experimental[key], counts_simulation[key])\n",
    "        tvd = tvd + 0.5 * abs(counts_experimental[key]/N1 - counts_simulation[key]/N2)\n",
    "    return tvd\n",
    "\n",
    "def calculate_jsd(counts_experimental, counts_simulation):\n",
    "    a = counts_experimental.values()\n",
    "    b = counts_simulation.values()\n",
    "    data_a = list(a)\n",
    "    data_b = list(b)\n",
    "    arr_a = np.array(data_a)\n",
    "    arr_b = np.array(data_b)\n",
    "    jsd = distance.jensenshannon(arr_a, arr_b)\n",
    "    \n",
    "    return jsd "
   ]
  },
  {
   "cell_type": "code",
   "execution_count": 78,
   "id": "9b8be9df-8a3b-444e-9e7e-e191e0590ab5",
   "metadata": {},
   "outputs": [],
   "source": [
    "def all_error(circ, qubits, circ_name, con):  \n",
    "    reset_error = 0.05 # this acts on single qubit gate, probability of flip a singe qubit P(reset)\n",
    "    measure_error = 0.2 # P(measure error)\n",
    "    gate_error = 0.05 # P(two qubit error)\n",
    "\n",
    "    # calling error functions using from IBM library\n",
    "    re_err = pauli_error([('X', reset_error),('I',1-reset_error)])\n",
    "    meas_err = pauli_error([('X', measure_error),('I', 1-measure_error)])\n",
    "    gate_err1 = pauli_error([('X', gate_error),('I', 1-gate_error)])\n",
    "    gate_err2 = gate_err1.tensor(gate_err1)\n",
    "\n",
    "    # errors on a noisy model\n",
    "    all_err = NoiseModel()\n",
    "    all_err.add_all_qubit_quantum_error(re_err,\"reset\")\n",
    "    all_err.add_all_qubit_quantum_error(meas_err,\"measure\")\n",
    "    all_err.add_all_qubit_quantum_error(gate_err1,[\"u1\", \"u2\", \"u3\"])\n",
    "    all_err.add_all_qubit_quantum_error(gate_err2, \"cx\")\n",
    "    \n",
    "    # T1 and T2 values for qubits 0-3\n",
    "    T1s = np.random.normal(50e3, 10e3, qubits) # Sampled from normal distribution mean 50 microsec\n",
    "    T2s = np.random.normal(70e3, 10e3, qubits)  # Sampled from normal distribution mean 50 microsec\n",
    "\n",
    "    # Truncate random T2s <= T1s\n",
    "    T2s = np.array([min(T2s[j], 2 * T1s[j]) for j in range(qubits)])\n",
    "\n",
    "    # Instruction times (in nanoseconds)\n",
    "    time_u1 = 0   # virtual gate\n",
    "    time_u2 = 50  # (single X90 pulse)\n",
    "    time_u3 = 100 # (two X90 pulses)\n",
    "    time_cx = 300\n",
    "    time_reset = 1000  # 1 microsecond\n",
    "    time_measure = 1000 # 1 microsecond\n",
    "\n",
    "    # QuantumError objects\n",
    "    errors_reset = [thermal_relaxation_error(t1, t2, time_reset)\n",
    "                for t1, t2 in zip(T1s, T2s)]\n",
    "    errors_measure = [thermal_relaxation_error(t1, t2, time_measure)\n",
    "                  for t1, t2 in zip(T1s, T2s)]\n",
    "    errors_u1  = [thermal_relaxation_error(t1, t2, time_u1)\n",
    "              for t1, t2 in zip(T1s, T2s)]\n",
    "    errors_u2  = [thermal_relaxation_error(t1, t2, time_u2)\n",
    "              for t1, t2 in zip(T1s, T2s)]\n",
    "    errors_u3  = [thermal_relaxation_error(t1, t2, time_u3)\n",
    "              for t1, t2 in zip(T1s, T2s)]\n",
    "    errors_cx = [[thermal_relaxation_error(t1a, t2a, time_cx).expand(\n",
    "             thermal_relaxation_error(t1b, t2b, time_cx))\n",
    "              for t1a, t2a in zip(T1s, T2s)]\n",
    "               for t1b, t2b in zip(T1s, T2s)]\n",
    "\n",
    "    # Add errors to noise model\n",
    "    noise_thermal = NoiseModel()\n",
    "    for j in range(qubits):\n",
    "        all_err.add_quantum_error(errors_reset[j], \"reset\", [j])\n",
    "        all_err.add_quantum_error(errors_measure[j], \"measure\", [j])\n",
    "        all_err.add_quantum_error(errors_u1[j], \"u1\", [j])\n",
    "        all_err.add_quantum_error(errors_u2[j], \"u2\", [j])\n",
    "        all_err.add_quantum_error(errors_u3[j], \"u3\", [j])\n",
    "        for k in range(3):\n",
    "            all_err.add_quantum_error(errors_cx[j][k], \"cx\", [j, k])\n",
    "        \n",
    "    p_gate = 0.1\n",
    "    error_meas = pauli_error([('X',reset_error), ('I', 1 - reset_error)])\n",
    "\n",
    "    noise_depolar = NoiseModel()\n",
    "    all_err.add_all_qubit_quantum_error(error_meas, \"measure\", qubits)\n",
    "    \n",
    "    provider = IBMQ.load_account()\n",
    "    get_provider = IBMQ.get_provider(hub='ibm-q', group='open', project='main')\n",
    "    backends = provider.backends()\n",
    "    backend_names = ['ibmq_lima', 'ibmq_belem', 'ibmq_quito', 'ibmq_manila', 'ibmq_nairobi', 'ibmq_oslo']\n",
    "    \n",
    "    for name in backend_names:\n",
    "        if check_data_for_some_backend_and_state_exists(con, name, circ_name) == True:\n",
    "            continue\n",
    "        \n",
    "        backend = provider.get_backend(name)\n",
    "        if(backend.configuration().n_qubits > 2):\n",
    "            print(backend, end='\\n')\n",
    "            \n",
    "            success_real, success_ideal, success_simulation = True, True, True\n",
    "            \n",
    "            noise_model = NoiseModel.from_backend(backend)\n",
    "            coupling_map = backend.configuration().coupling_map\n",
    "            basis_gates = noise_model.basis_gates\n",
    "            noise_model = NoiseModel.from_backend(backend).to_dict()\n",
    "            \n",
    "            # real run with error \n",
    "            try:\n",
    "                real_run = execute(\n",
    "                    circ, backend= provider.get_backend(name), coupling_map=coupling_map, \n",
    "                    basis_gates=basis_gates, noise_model=noise_model\n",
    "                ).result()\n",
    "                counts_experimental = real_run.get_counts()\n",
    "            except:\n",
    "                print(\"Real run for backend = {} and circuit = {} failed!\", name, circ_name)\n",
    "                success_real = False\n",
    "            \n",
    "            # ideal run without error\n",
    "            try:\n",
    "                ideal_sim = AerSimulator()\n",
    "                ideal_result = ideal_sim.run(circ).result()\n",
    "                counts_ideal = ideal_result.get_counts()\n",
    "            except:\n",
    "                print(\"Ideal run for backend = {} and circuit = {} failed!\", name, circ_name)\n",
    "                success_ideal = False\n",
    "            \n",
    "            # simulation with error \n",
    "            try:\n",
    "                sim_noise = AerSimulator(noise_model=all_err)\n",
    "                tnoise = transpile(circ, sim_noise)\n",
    "                result_all_err = sim_noise.run(tnoise).result()\n",
    "                counts_simulation = result_all_err.get_counts()\n",
    "            except:\n",
    "                print(\"Simulation run for backend = {} and circuit = {} failed!\", name, circ_name)\n",
    "                success_simulation = False\n",
    "    \n",
    "            num_binary_states = 2**qubits\n",
    "\n",
    "            # get the total counts for two dictionaries\n",
    "            N1 = sum(counts_experimental.values())\n",
    "            N2 = sum(counts_simulation.values())\n",
    "            N3 = sum(counts_ideal.values())\n",
    "\n",
    "            counts_experimental, counts_simulation, counts_ideal = add_missing_states(qubits, counts_experimental, counts_simulation, counts_ideal)\n",
    "\n",
    "            tvd = calculate_tvd(counts_experimental, counts_simulation, N1, N2)\n",
    "            jsd = calculate_jsd(counts_experimental, counts_simulation)\n",
    "            hell = hellinger_distance(counts_experimental, counts_simulation)\n",
    "            \n",
    "            if success_ideal and success_real and success_simulation:\n",
    "                insert_into_table(con, name, circ_name, tvd, jsd, hell, counts_experimental, counts_ideal, counts_simulation)"
   ]
  },
  {
   "cell_type": "markdown",
   "id": "c9bf5a13-ed4a-4481-b94c-f18b1366e2ba",
   "metadata": {},
   "source": [
    "# Circuits"
   ]
  },
  {
   "cell_type": "markdown",
   "id": "82d9e48c-d66f-4ea5-b83e-129572e3bd15",
   "metadata": {},
   "source": [
    "### Phase Code"
   ]
  },
  {
   "cell_type": "code",
   "execution_count": 79,
   "id": "94388cb0-4e2f-4d07-9eb3-210063016bd4",
   "metadata": {},
   "outputs": [
    {
     "data": {
      "text/html": [
       "<pre style=\"word-wrap: normal;white-space: pre;background: #fff0;line-height: 1.1;font-family: &quot;Courier New&quot;,Courier,monospace\">              ┌───┐       ┌───┐     ┌───┐                ░ ┌─┐         \n",
       "q14_0: ───────┤ H ├───────┤ H ├──■──┤ H ├────────────────░─┤M├─────────\n",
       "       ┌──────┴───┴──────┐├───┤  │  └───┘┌───┐           ░ └╥┘┌─┐      \n",
       "q14_1: ┤ Initialize(1,0) ├┤ H ├──■────■──┤ H ├───────────░──╫─┤M├──────\n",
       "       └──────┬───┬──────┘├───┤┌───┐  │  └───┘┌───┐      ░  ║ └╥┘┌─┐   \n",
       "q14_2: ───────┤ X ├───────┤ H ├┤ H ├──■────■──┤ H ├──────░──╫──╫─┤M├───\n",
       "       ┌──────┴───┴──────┐├───┤└───┘       │  └───┘┌───┐ ░  ║  ║ └╥┘┌─┐\n",
       "q14_3: ┤ Initialize(1,0) ├┤ H ├────────────■────■──┤ H ├─░──╫──╫──╫─┤M├\n",
       "       └──────┬───┬──────┘├───┤                 │  ├───┤ ░  ║  ║  ║ └╥┘\n",
       "q14_4: ───────┤ H ├───────┤ H ├─────────────────■──┤ H ├─░──╫──╫──╫──╫─\n",
       "              └───┘       └───┘                    └───┘ ░  ║  ║  ║  ║ \n",
       "c14: 5/═════════════════════════════════════════════════════╩══╩══╩══╩═\n",
       "                                                            0  1  2  3 </pre>"
      ],
      "text/plain": [
       "              ┌───┐       ┌───┐     ┌───┐                ░ ┌─┐         \n",
       "q14_0: ───────┤ H ├───────┤ H ├──■──┤ H ├────────────────░─┤M├─────────\n",
       "       ┌──────┴───┴──────┐├───┤  │  └───┘┌───┐           ░ └╥┘┌─┐      \n",
       "q14_1: ┤ Initialize(1,0) ├┤ H ├──■────■──┤ H ├───────────░──╫─┤M├──────\n",
       "       └──────┬───┬──────┘├───┤┌───┐  │  └───┘┌───┐      ░  ║ └╥┘┌─┐   \n",
       "q14_2: ───────┤ X ├───────┤ H ├┤ H ├──■────■──┤ H ├──────░──╫──╫─┤M├───\n",
       "       ┌──────┴───┴──────┐├───┤└───┘       │  └───┘┌───┐ ░  ║  ║ └╥┘┌─┐\n",
       "q14_3: ┤ Initialize(1,0) ├┤ H ├────────────■────■──┤ H ├─░──╫──╫──╫─┤M├\n",
       "       └──────┬───┬──────┘├───┤                 │  ├───┤ ░  ║  ║  ║ └╥┘\n",
       "q14_4: ───────┤ H ├───────┤ H ├─────────────────■──┤ H ├─░──╫──╫──╫──╫─\n",
       "              └───┘       └───┘                    └───┘ ░  ║  ║  ║  ║ \n",
       "c14: 5/═════════════════════════════════════════════════════╩══╩══╩══╩═\n",
       "                                                            0  1  2  3 "
      ]
     },
     "metadata": {},
     "output_type": "display_data"
    }
   ],
   "source": [
    "#phase code\n",
    "phase_q = QuantumRegister(5)\n",
    "phase_c = ClassicalRegister(5)\n",
    "phase_circ = QuantumCircuit(phase_q, phase_c)\n",
    "phase_circ.h(phase_q[0])\n",
    "phase_circ.initialize([1,0], 1)\n",
    "phase_circ.x(phase_q[2])\n",
    "phase_circ.initialize([1,0], 3)\n",
    "phase_circ.h(phase_q[4])\n",
    "phase_circ.h(phase_q[0:5])\n",
    "phase_circ.cz(phase_q[0], phase_q[1])\n",
    "phase_circ.h(phase_q[2])\n",
    "phase_circ.h(phase_q[0])\n",
    "phase_circ.cz(phase_q[1], phase_q[2])\n",
    "phase_circ.h(phase_q[1])\n",
    "phase_circ.cz(phase_q[2], phase_q[3])\n",
    "phase_circ.h(phase_q[2])\n",
    "phase_circ.cz(phase_q[3], phase_q[4])\n",
    "phase_circ.h(phase_q[3])\n",
    "phase_circ.h(phase_q[4])\n",
    "phase_circ.barrier()\n",
    "phase_circ.measure(phase_q[0:4], phase_c[0:4])\n",
    "display(phase_circ.draw())"
   ]
  },
  {
   "cell_type": "markdown",
   "id": "e423e575-b5ed-4890-bf89-8f53e9ebb9c3",
   "metadata": {},
   "source": [
    "### Bit Code"
   ]
  },
  {
   "cell_type": "code",
   "execution_count": 80,
   "id": "85e89f1c-20fa-4187-9a10-abe673d2264c",
   "metadata": {},
   "outputs": [
    {
     "data": {
      "text/html": [
       "<pre style=\"word-wrap: normal;white-space: pre;background: #fff0;line-height: 1.1;font-family: &quot;Courier New&quot;,Courier,monospace\">        ░                     ░                      ░ ┌─┐            \n",
       "q15_0: ─░─────────────────────░───■──────────────────░─┤M├────────────\n",
       "        ░ ┌─────────────────┐ ░ ┌─┴─┐┌───┐           ░ └╥┘┌─┐         \n",
       "q15_1: ─░─┤ Initialize(1,0) ├─░─┤ X ├┤ X ├───────────░──╫─┤M├─────────\n",
       "        ░ └──────┬───┬──────┘ ░ └───┘└─┬─┘           ░  ║ └╥┘┌─┐      \n",
       "q15_2: ─░────────┤ X ├────────░────────■────■────────░──╫──╫─┤M├──────\n",
       "        ░ ┌──────┴───┴──────┐ ░           ┌─┴─┐┌───┐ ░  ║  ║ └╥┘┌─┐   \n",
       "q15_3: ─░─┤ Initialize(1,0) ├─░───────────┤ X ├┤ X ├─░──╫──╫──╫─┤M├───\n",
       "        ░ └─────────────────┘ ░           └───┘└─┬─┘ ░  ║  ║  ║ └╥┘┌─┐\n",
       "q15_4: ─░─────────────────────░──────────────────■───░──╫──╫──╫──╫─┤M├\n",
       "        ░                     ░                      ░  ║  ║  ║  ║ └╥┘\n",
       "c15: 5/═════════════════════════════════════════════════╩══╩══╩══╩══╩═\n",
       "                                                        0  1  2  3  4 </pre>"
      ],
      "text/plain": [
       "        ░                     ░                      ░ ┌─┐            \n",
       "q15_0: ─░─────────────────────░───■──────────────────░─┤M├────────────\n",
       "        ░ ┌─────────────────┐ ░ ┌─┴─┐┌───┐           ░ └╥┘┌─┐         \n",
       "q15_1: ─░─┤ Initialize(1,0) ├─░─┤ X ├┤ X ├───────────░──╫─┤M├─────────\n",
       "        ░ └──────┬───┬──────┘ ░ └───┘└─┬─┘           ░  ║ └╥┘┌─┐      \n",
       "q15_2: ─░────────┤ X ├────────░────────■────■────────░──╫──╫─┤M├──────\n",
       "        ░ ┌──────┴───┴──────┐ ░           ┌─┴─┐┌───┐ ░  ║  ║ └╥┘┌─┐   \n",
       "q15_3: ─░─┤ Initialize(1,0) ├─░───────────┤ X ├┤ X ├─░──╫──╫──╫─┤M├───\n",
       "        ░ └─────────────────┘ ░           └───┘└─┬─┘ ░  ║  ║  ║ └╥┘┌─┐\n",
       "q15_4: ─░─────────────────────░──────────────────■───░──╫──╫──╫──╫─┤M├\n",
       "        ░                     ░                      ░  ║  ║  ║  ║ └╥┘\n",
       "c15: 5/═════════════════════════════════════════════════╩══╩══╩══╩══╩═\n",
       "                                                        0  1  2  3  4 "
      ]
     },
     "metadata": {},
     "output_type": "display_data"
    }
   ],
   "source": [
    "#bit code\n",
    "bit_q  = QuantumRegister(5)\n",
    "bit_c = ClassicalRegister(5)\n",
    "bit_circ = QuantumCircuit(bit_q,bit_c)\n",
    "bit_circ.barrier()\n",
    "bit_circ.initialize([1,0], 1)\n",
    "bit_circ.x(bit_q[2])\n",
    "bit_circ.initialize([1,0], 3)\n",
    "bit_circ.barrier()\n",
    "\n",
    "bit_circ.cx(bit_q[0], bit_q[1])\n",
    "bit_circ.cx(bit_q[2], bit_q[1])\n",
    "bit_circ.cx(bit_q[2], bit_q[3])\n",
    "bit_circ.cx(bit_q[4], bit_q[3])\n",
    "bit_circ.barrier()\n",
    "bit_circ.measure(bit_q[0:5],bit_c[0:5])\n",
    "display(bit_circ.draw())"
   ]
  },
  {
   "cell_type": "markdown",
   "id": "4535f509-d95c-4334-996c-8c24190cca56",
   "metadata": {},
   "source": [
    "### Swap QAOA "
   ]
  },
  {
   "cell_type": "code",
   "execution_count": 81,
   "id": "116ac685-947d-4e19-a522-fbb9d61ebe48",
   "metadata": {},
   "outputs": [
    {
     "data": {
      "text/html": [
       "<pre style=\"word-wrap: normal;white-space: pre;background: #fff0;line-height: 1.1;font-family: &quot;Courier New&quot;,Courier,monospace\">       ┌───┐                ┌───┐                                          »\n",
       "q16_0: ┤ H ├──■─────────────┤ X ├──■─────────────────────────■─────────────»\n",
       "       ├───┤┌─┴─┐┌─────────┐└─┬─┘┌─┴─┐           ┌───┐     ┌─┴─┐┌─────────┐»\n",
       "q16_1: ┤ H ├┤ X ├┤ Rz(π/2) ├──■──┤ X ├─────■─────┤ X ├──■──┤ X ├┤ Rz(π/2) ├»\n",
       "       ├───┤└───┘├─────────┤┌───┐└───┘   ┌─┴─┐   └─┬─┘┌─┴─┐└───┘└─────────┘»\n",
       "q16_2: ┤ H ├──■──┤ Rz(π/2) ├┤ X ├──■─────┤ X ├─────■──┤ X ├──■─────────────»\n",
       "       ├───┤┌─┴─┐└─────────┘└─┬─┘┌─┴─┐┌──┴───┴──┐     └───┘┌─┴─┐┌─────────┐»\n",
       "q16_3: ┤ H ├┤ X ├─────────────■──┤ X ├┤ Rz(π/2) ├──────────┤ X ├┤ Rz(π/2) ├»\n",
       "       └───┘└───┘                └───┘└─────────┘          └───┘└─────────┘»\n",
       "c16: 4/════════════════════════════════════════════════════════════════════»\n",
       "                                                                           »\n",
       "«       ┌───┐     ┌─────────┐                                 ░ ┌─┐         \n",
       "«q16_0: ┤ X ├──■──┤ Rz(π/3) ├─────────────────────────────────░─┤M├─────────\n",
       "«       └─┬─┘┌─┴─┐└─────────┘           ┌───┐     ┌─────────┐ ░ └╥┘┌─┐      \n",
       "«q16_1: ──■──┤ X ├─────■────────────────┤ X ├──■──┤ Rz(π/3) ├─░──╫─┤M├──────\n",
       "«       ┌───┐└───┘   ┌─┴─┐   ┌─────────┐└─┬─┘┌─┴─┐├─────────┤ ░  ║ └╥┘┌─┐   \n",
       "«q16_2: ┤ X ├──■─────┤ X ├───┤ Rz(π/2) ├──■──┤ X ├┤ Rz(π/3) ├─░──╫──╫─┤M├───\n",
       "«       └─┬─┘┌─┴─┐┌──┴───┴──┐└─────────┘     └───┘└─────────┘ ░  ║  ║ └╥┘┌─┐\n",
       "«q16_3: ──■──┤ X ├┤ Rz(π/3) ├─────────────────────────────────░──╫──╫──╫─┤M├\n",
       "«            └───┘└─────────┘                                 ░  ║  ║  ║ └╥┘\n",
       "«c16: 4/═════════════════════════════════════════════════════════╩══╩══╩══╩═\n",
       "«                                                                0  1  2  3 </pre>"
      ],
      "text/plain": [
       "       ┌───┐                ┌───┐                                          »\n",
       "q16_0: ┤ H ├──■─────────────┤ X ├──■─────────────────────────■─────────────»\n",
       "       ├───┤┌─┴─┐┌─────────┐└─┬─┘┌─┴─┐           ┌───┐     ┌─┴─┐┌─────────┐»\n",
       "q16_1: ┤ H ├┤ X ├┤ Rz(π/2) ├──■──┤ X ├─────■─────┤ X ├──■──┤ X ├┤ Rz(π/2) ├»\n",
       "       ├───┤└───┘├─────────┤┌───┐└───┘   ┌─┴─┐   └─┬─┘┌─┴─┐└───┘└─────────┘»\n",
       "q16_2: ┤ H ├──■──┤ Rz(π/2) ├┤ X ├──■─────┤ X ├─────■──┤ X ├──■─────────────»\n",
       "       ├───┤┌─┴─┐└─────────┘└─┬─┘┌─┴─┐┌──┴───┴──┐     └───┘┌─┴─┐┌─────────┐»\n",
       "q16_3: ┤ H ├┤ X ├─────────────■──┤ X ├┤ Rz(π/2) ├──────────┤ X ├┤ Rz(π/2) ├»\n",
       "       └───┘└───┘                └───┘└─────────┘          └───┘└─────────┘»\n",
       "c16: 4/════════════════════════════════════════════════════════════════════»\n",
       "                                                                           »\n",
       "«       ┌───┐     ┌─────────┐                                 ░ ┌─┐         \n",
       "«q16_0: ┤ X ├──■──┤ Rz(π/3) ├─────────────────────────────────░─┤M├─────────\n",
       "«       └─┬─┘┌─┴─┐└─────────┘           ┌───┐     ┌─────────┐ ░ └╥┘┌─┐      \n",
       "«q16_1: ──■──┤ X ├─────■────────────────┤ X ├──■──┤ Rz(π/3) ├─░──╫─┤M├──────\n",
       "«       ┌───┐└───┘   ┌─┴─┐   ┌─────────┐└─┬─┘┌─┴─┐├─────────┤ ░  ║ └╥┘┌─┐   \n",
       "«q16_2: ┤ X ├──■─────┤ X ├───┤ Rz(π/2) ├──■──┤ X ├┤ Rz(π/3) ├─░──╫──╫─┤M├───\n",
       "«       └─┬─┘┌─┴─┐┌──┴───┴──┐└─────────┘     └───┘└─────────┘ ░  ║  ║ └╥┘┌─┐\n",
       "«q16_3: ──■──┤ X ├┤ Rz(π/3) ├─────────────────────────────────░──╫──╫──╫─┤M├\n",
       "«            └───┘└─────────┘                                 ░  ║  ║  ║ └╥┘\n",
       "«c16: 4/═════════════════════════════════════════════════════════╩══╩══╩══╩═\n",
       "«                                                                0  1  2  3 "
      ]
     },
     "metadata": {},
     "output_type": "display_data"
    }
   ],
   "source": [
    "swap_qaoa_q = QuantumRegister(4)\n",
    "swap_qaoa_c = ClassicalRegister(4)\n",
    "swap_qaoa_circ = QuantumCircuit(swap_qaoa_q, swap_qaoa_c)\n",
    "swap_qaoa_circ.h(swap_qaoa_q[0:4])\n",
    "swap_qaoa_circ.cx(swap_qaoa_q[0], swap_qaoa_q[1])\n",
    "swap_qaoa_circ.cx(swap_qaoa_q[2], swap_qaoa_q[3])\n",
    "swap_qaoa_circ.rz(np.pi/2, 1)\n",
    "swap_qaoa_circ.rz(np.pi/2, 2)\n",
    "swap_qaoa_circ.cx(swap_qaoa_q[1], swap_qaoa_q[0])\n",
    "swap_qaoa_circ.cx(swap_qaoa_q[3], swap_qaoa_q[2])\n",
    "swap_qaoa_circ.cx(swap_qaoa_q[0], swap_qaoa_q[1])\n",
    "swap_qaoa_circ.cx(swap_qaoa_q[2], swap_qaoa_q[3])\n",
    "swap_qaoa_circ.cx(swap_qaoa_q[1], swap_qaoa_q[2])\n",
    "swap_qaoa_circ.rz(np.pi/2, 3)\n",
    "swap_qaoa_circ.cx(swap_qaoa_q[2], swap_qaoa_q[1])\n",
    "swap_qaoa_circ.cx(swap_qaoa_q[1], swap_qaoa_q[2])\n",
    "swap_qaoa_circ.cx(swap_qaoa_q[0], swap_qaoa_q[1])\n",
    "swap_qaoa_circ.cx(swap_qaoa_q[2], swap_qaoa_q[3])\n",
    "swap_qaoa_circ.rz(np.pi/2, 1)\n",
    "swap_qaoa_circ.rz(np.pi/2, 3)\n",
    "swap_qaoa_circ.cx(swap_qaoa_q[1], swap_qaoa_q[0])\n",
    "swap_qaoa_circ.cx(swap_qaoa_q[3], swap_qaoa_q[2])\n",
    "swap_qaoa_circ.cx(swap_qaoa_q[0], swap_qaoa_q[1])\n",
    "swap_qaoa_circ.cx(swap_qaoa_q[2], swap_qaoa_q[3])\n",
    "swap_qaoa_circ.cx(swap_qaoa_q[1], swap_qaoa_q[2])\n",
    "swap_qaoa_circ.rz(np.pi/2, 2)\n",
    "swap_qaoa_circ.cx(swap_qaoa_q[2], swap_qaoa_q[1])\n",
    "swap_qaoa_circ.cx(swap_qaoa_q[1], swap_qaoa_q[2])\n",
    "swap_qaoa_circ.rz(np.pi/3, 0)\n",
    "swap_qaoa_circ.rz(np.pi/3, 1)\n",
    "swap_qaoa_circ.rz(np.pi/3, 2)\n",
    "swap_qaoa_circ.rz(np.pi/3, 3)\n",
    "swap_qaoa_circ.barrier()\n",
    "swap_qaoa_circ.measure(swap_qaoa_q[0:4], swap_qaoa_c[0:4])\n",
    "display(swap_qaoa_circ.draw())"
   ]
  },
  {
   "cell_type": "markdown",
   "id": "5fe13bfd-1f25-40cf-bf7f-0d7c572f8b3f",
   "metadata": {},
   "source": [
    "### Vanilla QAOA "
   ]
  },
  {
   "cell_type": "code",
   "execution_count": 82,
   "id": "cce23486-ac80-4197-8f1f-73ff8416d442",
   "metadata": {},
   "outputs": [
    {
     "data": {
      "text/html": [
       "<pre style=\"word-wrap: normal;white-space: pre;background: #fff0;line-height: 1.1;font-family: &quot;Courier New&quot;,Courier,monospace\">       ┌───┐                                          ┌─────────┐           »\n",
       "q17_0: ┤ H ├──■───────────────■────■───────────────■──┤ Rz(π/3) ├───────────»\n",
       "       ├───┤┌─┴─┐┌─────────┐┌─┴─┐  │               │  └─────────┘           »\n",
       "q17_1: ┤ H ├┤ X ├┤ Rz(π/2) ├┤ X ├──┼───────────────┼───────■────────────────»\n",
       "       ├───┤└───┘└─────────┘└───┘┌─┴─┐┌─────────┐┌─┴─┐   ┌─┴─┐   ┌─────────┐»\n",
       "q17_2: ┤ H ├─────────────────────┤ X ├┤ Rz(π/2) ├┤ X ├───┤ X ├───┤ Rz(π/2) ├»\n",
       "       └───┘                     └───┘└─────────┘└───┘   └───┘   └─────────┘»\n",
       "c17: 3/═════════════════════════════════════════════════════════════════════»\n",
       "                                                                            »\n",
       "«                        ░ ┌─┐      \n",
       "«q17_0: ─────────────────░─┤M├──────\n",
       "«            ┌─────────┐ ░ └╥┘┌─┐   \n",
       "«q17_1: ──■──┤ Rz(π/3) ├─░──╫─┤M├───\n",
       "«       ┌─┴─┐├─────────┤ ░  ║ └╥┘┌─┐\n",
       "«q17_2: ┤ X ├┤ Rz(π/3) ├─░──╫──╫─┤M├\n",
       "«       └───┘└─────────┘ ░  ║  ║ └╥┘\n",
       "«c17: 3/════════════════════╩══╩══╩═\n",
       "«                           0  1  2 </pre>"
      ],
      "text/plain": [
       "       ┌───┐                                          ┌─────────┐           »\n",
       "q17_0: ┤ H ├──■───────────────■────■───────────────■──┤ Rz(π/3) ├───────────»\n",
       "       ├───┤┌─┴─┐┌─────────┐┌─┴─┐  │               │  └─────────┘           »\n",
       "q17_1: ┤ H ├┤ X ├┤ Rz(π/2) ├┤ X ├──┼───────────────┼───────■────────────────»\n",
       "       ├───┤└───┘└─────────┘└───┘┌─┴─┐┌─────────┐┌─┴─┐   ┌─┴─┐   ┌─────────┐»\n",
       "q17_2: ┤ H ├─────────────────────┤ X ├┤ Rz(π/2) ├┤ X ├───┤ X ├───┤ Rz(π/2) ├»\n",
       "       └───┘                     └───┘└─────────┘└───┘   └───┘   └─────────┘»\n",
       "c17: 3/═════════════════════════════════════════════════════════════════════»\n",
       "                                                                            »\n",
       "«                        ░ ┌─┐      \n",
       "«q17_0: ─────────────────░─┤M├──────\n",
       "«            ┌─────────┐ ░ └╥┘┌─┐   \n",
       "«q17_1: ──■──┤ Rz(π/3) ├─░──╫─┤M├───\n",
       "«       ┌─┴─┐├─────────┤ ░  ║ └╥┘┌─┐\n",
       "«q17_2: ┤ X ├┤ Rz(π/3) ├─░──╫──╫─┤M├\n",
       "«       └───┘└─────────┘ ░  ║  ║ └╥┘\n",
       "«c17: 3/════════════════════╩══╩══╩═\n",
       "«                           0  1  2 "
      ]
     },
     "metadata": {},
     "output_type": "display_data"
    }
   ],
   "source": [
    "vanilla_qaoa_q = QuantumRegister(3)\n",
    "vanilla_qaoa_c = ClassicalRegister(3)\n",
    "vanilla_qaoa_circ = QuantumCircuit(vanilla_qaoa_q, vanilla_qaoa_c)\n",
    "vanilla_qaoa_circ.h(vanilla_qaoa_q[0:3])\n",
    "vanilla_qaoa_circ.cx(vanilla_qaoa_q[0], vanilla_qaoa_q[1])\n",
    "vanilla_qaoa_circ.rz(np.pi/2, 1)\n",
    "vanilla_qaoa_circ.cx(vanilla_qaoa_q[0], vanilla_qaoa_q[1])\n",
    "vanilla_qaoa_circ.cx(vanilla_qaoa_q[0], vanilla_qaoa_q[2])\n",
    "vanilla_qaoa_circ.rz(np.pi/2, 2)\n",
    "vanilla_qaoa_circ.cx(vanilla_qaoa_q[0], vanilla_qaoa_q[2])\n",
    "vanilla_qaoa_circ.cx(vanilla_qaoa_q[1], vanilla_qaoa_q[2])\n",
    "vanilla_qaoa_circ.rz(np.pi/2, 2)\n",
    "vanilla_qaoa_circ.cx(vanilla_qaoa_q[1], vanilla_qaoa_q[2])\n",
    "vanilla_qaoa_circ.rz(np.pi/3, 0)\n",
    "vanilla_qaoa_circ.rz(np.pi/3, 1)\n",
    "vanilla_qaoa_circ.rz(np.pi/3, 2)\n",
    "vanilla_qaoa_circ.barrier()\n",
    "vanilla_qaoa_circ.measure(vanilla_qaoa_q[0:3], vanilla_qaoa_c[0:3])\n",
    "display(vanilla_qaoa_circ.draw())"
   ]
  },
  {
   "cell_type": "markdown",
   "id": "689eb8d4-e40b-4fb2-abaf-1dbabc4436d6",
   "metadata": {},
   "source": [
    "### Hamiltonian Circuit"
   ]
  },
  {
   "cell_type": "code",
   "execution_count": 83,
   "id": "4e806401-1c75-45f6-a7d4-b1d2e4119f9a",
   "metadata": {},
   "outputs": [
    {
     "data": {
      "text/html": [
       "<pre style=\"word-wrap: normal;white-space: pre;background: #fff0;line-height: 1.1;font-family: &quot;Courier New&quot;,Courier,monospace\">       ┌───┐┌─────────┐┌───┐                                           ░ ┌─┐   »\n",
       "q18_0: ┤ H ├┤ Rz(π/2) ├┤ H ├──■───────────────■────────────────────────░─┤M├───»\n",
       "       ├───┤├─────────┤├───┤┌─┴─┐┌─────────┐┌─┴─┐                      ░ └╥┘┌─┐»\n",
       "q18_1: ┤ H ├┤ Rz(π/2) ├┤ H ├┤ X ├┤ Rz(π/3) ├┤ X ├──■───────────────■───░──╫─┤M├»\n",
       "       ├───┤├─────────┤├───┤└───┘└─────────┘└───┘┌─┴─┐┌─────────┐┌─┴─┐ ░  ║ └╥┘»\n",
       "q18_2: ┤ H ├┤ Rz(π/2) ├┤ H ├─────────────────────┤ X ├┤ Rz(π/3) ├┤ X ├─░──╫──╫─»\n",
       "       └───┘└─────────┘└───┘                     └───┘└─────────┘└───┘ ░  ║  ║ »\n",
       "c18: 3/═══════════════════════════════════════════════════════════════════╩══╩═»\n",
       "                                                                          0  1 »\n",
       "«          \n",
       "«q18_0: ───\n",
       "«          \n",
       "«q18_1: ───\n",
       "«       ┌─┐\n",
       "«q18_2: ┤M├\n",
       "«       └╥┘\n",
       "«c18: 3/═╩═\n",
       "«        2 </pre>"
      ],
      "text/plain": [
       "       ┌───┐┌─────────┐┌───┐                                           ░ ┌─┐   »\n",
       "q18_0: ┤ H ├┤ Rz(π/2) ├┤ H ├──■───────────────■────────────────────────░─┤M├───»\n",
       "       ├───┤├─────────┤├───┤┌─┴─┐┌─────────┐┌─┴─┐                      ░ └╥┘┌─┐»\n",
       "q18_1: ┤ H ├┤ Rz(π/2) ├┤ H ├┤ X ├┤ Rz(π/3) ├┤ X ├──■───────────────■───░──╫─┤M├»\n",
       "       ├───┤├─────────┤├───┤└───┘└─────────┘└───┘┌─┴─┐┌─────────┐┌─┴─┐ ░  ║ └╥┘»\n",
       "q18_2: ┤ H ├┤ Rz(π/2) ├┤ H ├─────────────────────┤ X ├┤ Rz(π/3) ├┤ X ├─░──╫──╫─»\n",
       "       └───┘└─────────┘└───┘                     └───┘└─────────┘└───┘ ░  ║  ║ »\n",
       "c18: 3/═══════════════════════════════════════════════════════════════════╩══╩═»\n",
       "                                                                          0  1 »\n",
       "«          \n",
       "«q18_0: ───\n",
       "«          \n",
       "«q18_1: ───\n",
       "«       ┌─┐\n",
       "«q18_2: ┤M├\n",
       "«       └╥┘\n",
       "«c18: 3/═╩═\n",
       "«        2 "
      ]
     },
     "metadata": {},
     "output_type": "display_data"
    }
   ],
   "source": [
    "hamilton_q = QuantumRegister(3)\n",
    "hamilton_c = ClassicalRegister(3)\n",
    "hamilton_circ = QuantumCircuit(hamilton_q, hamilton_c)\n",
    "hamilton_circ.h(hamilton_q[0:4])\n",
    "hamilton_circ.rz(np.pi/2, hamilton_q[0:4])\n",
    "hamilton_circ.h(hamilton_q[0:4])\n",
    "hamilton_circ.cx(hamilton_q[0], hamilton_q[1])\n",
    "hamilton_circ.rz(np.pi/3, 1)\n",
    "hamilton_circ.cx(hamilton_q[0], hamilton_q[1])\n",
    "hamilton_circ.cx(hamilton_q[1], hamilton_q[2])\n",
    "hamilton_circ.rz(np.pi/3, 2)\n",
    "hamilton_circ.cx(hamilton_q[1], hamilton_q[2])\n",
    "hamilton_circ.barrier()\n",
    "hamilton_circ.measure(hamilton_q[0:3], hamilton_c[0:3])\n",
    "display(hamilton_circ.draw())"
   ]
  },
  {
   "cell_type": "markdown",
   "id": "2ce45158-3322-4da4-9d21-6a848f97a0f6",
   "metadata": {},
   "source": [
    "### GHZ Circuit"
   ]
  },
  {
   "cell_type": "code",
   "execution_count": 84,
   "id": "8cc158cb-6c2a-456a-bc53-327050f3425a",
   "metadata": {},
   "outputs": [
    {
     "data": {
      "text/html": [
       "<pre style=\"word-wrap: normal;white-space: pre;background: #fff0;line-height: 1.1;font-family: &quot;Courier New&quot;,Courier,monospace\">       ┌───┐          ┌─┐      \n",
       "q19_0: ┤ H ├──■───────┤M├──────\n",
       "       └───┘┌─┴─┐     └╥┘┌─┐   \n",
       "q19_1: ─────┤ X ├──■───╫─┤M├───\n",
       "            └───┘┌─┴─┐ ║ └╥┘┌─┐\n",
       "q19_2: ──────────┤ X ├─╫──╫─┤M├\n",
       "                 └───┘ ║  ║ └╥┘\n",
       "c19: 3/════════════════╩══╩══╩═\n",
       "                       0  1  2 </pre>"
      ],
      "text/plain": [
       "       ┌───┐          ┌─┐      \n",
       "q19_0: ┤ H ├──■───────┤M├──────\n",
       "       └───┘┌─┴─┐     └╥┘┌─┐   \n",
       "q19_1: ─────┤ X ├──■───╫─┤M├───\n",
       "            └───┘┌─┴─┐ ║ └╥┘┌─┐\n",
       "q19_2: ──────────┤ X ├─╫──╫─┤M├\n",
       "                 └───┘ ║  ║ └╥┘\n",
       "c19: 3/════════════════╩══╩══╩═\n",
       "                       0  1  2 "
      ]
     },
     "execution_count": 84,
     "metadata": {},
     "output_type": "execute_result"
    }
   ],
   "source": [
    "q_ghz = QuantumRegister(3)\n",
    "c_ghz = ClassicalRegister(3)\n",
    "ghz_circ = QuantumCircuit(q_ghz, c_ghz)\n",
    "ghz_circ.h(q_ghz[0])\n",
    "ghz_circ.cx(q_ghz[0], q_ghz[1])\n",
    "ghz_circ.cx(q_ghz[1], q_ghz[2])\n",
    "ghz_circ.measure(q_ghz[0:3], c_ghz[0:3])\n",
    "ghz_circ.draw()"
   ]
  },
  {
   "cell_type": "markdown",
   "id": "2d225946-ba71-4241-9702-5c2e9542139f",
   "metadata": {},
   "source": [
    "### Mermin Bell Circuit"
   ]
  },
  {
   "cell_type": "code",
   "execution_count": 85,
   "id": "aea0d90f-9e44-48b6-b287-49613609e8d7",
   "metadata": {},
   "outputs": [
    {
     "data": {
      "text/html": [
       "<pre style=\"word-wrap: normal;white-space: pre;background: #fff0;line-height: 1.1;font-family: &quot;Courier New&quot;,Courier,monospace\">       ┌──────────┐                         ┌───┐┌───┐┌───┐   ┌───┐     ┌─┐   \n",
       "q20_0: ┤ Rx(-π/2) ├──■──────────────■───────┤ X ├┤ X ├┤ S ├─■─┤ H ├─────┤M├───\n",
       "       └──────────┘┌─┴─┐     ┌───┐  │       └─┬─┘└─┬─┘└───┘ │ ├───┤┌───┐└╥┘┌─┐\n",
       "q20_1: ────────────┤ X ├──■──┤ H ├──┼────■────┼────■────────■─┤ S ├┤ H ├─╫─┤M├\n",
       "                   └───┘┌─┴─┐├───┤┌─┴─┐┌─┴─┐  │  ┌───┐┌───┐┌─┐└───┘└───┘ ║ └╥┘\n",
       "q20_2: ─────────────────┤ X ├┤ H ├┤ X ├┤ X ├──■──┤ S ├┤ H ├┤M├───────────╫──╫─\n",
       "                        └───┘└───┘└───┘└───┘     └───┘└───┘└╥┘           ║  ║ \n",
       "c20: 3/═════════════════════════════════════════════════════╩════════════╩══╩═\n",
       "                                                            2            0  1 </pre>"
      ],
      "text/plain": [
       "       ┌──────────┐                         ┌───┐┌───┐┌───┐   ┌───┐     ┌─┐   \n",
       "q20_0: ┤ Rx(-π/2) ├──■──────────────■───────┤ X ├┤ X ├┤ S ├─■─┤ H ├─────┤M├───\n",
       "       └──────────┘┌─┴─┐     ┌───┐  │       └─┬─┘└─┬─┘└───┘ │ ├───┤┌───┐└╥┘┌─┐\n",
       "q20_1: ────────────┤ X ├──■──┤ H ├──┼────■────┼────■────────■─┤ S ├┤ H ├─╫─┤M├\n",
       "                   └───┘┌─┴─┐├───┤┌─┴─┐┌─┴─┐  │  ┌───┐┌───┐┌─┐└───┘└───┘ ║ └╥┘\n",
       "q20_2: ─────────────────┤ X ├┤ H ├┤ X ├┤ X ├──■──┤ S ├┤ H ├┤M├───────────╫──╫─\n",
       "                        └───┘└───┘└───┘└───┘     └───┘└───┘└╥┘           ║  ║ \n",
       "c20: 3/═════════════════════════════════════════════════════╩════════════╩══╩═\n",
       "                                                            2            0  1 "
      ]
     },
     "metadata": {},
     "output_type": "display_data"
    }
   ],
   "source": [
    "mer_bell = QuantumRegister(3)\n",
    "mer_bell_c =  ClassicalRegister(3)\n",
    "mer_bell_circ = QuantumCircuit(mer_bell, mer_bell_c)\n",
    "mer_bell_circ.rx(-pi/2, mer_bell[0])\n",
    "mer_bell_circ.cx(mer_bell[0], mer_bell[1])\n",
    "mer_bell_circ.cx(mer_bell[1], mer_bell[2])\n",
    "mer_bell_circ.h(mer_bell[1])\n",
    "mer_bell_circ.h(mer_bell[2])\n",
    "mer_bell_circ.cx(mer_bell[0], mer_bell[2])\n",
    "mer_bell_circ.cx(mer_bell[1], mer_bell[2])\n",
    "mer_bell_circ.cx(mer_bell[2], mer_bell[0])\n",
    "mer_bell_circ.cx(mer_bell[1], mer_bell[0])\n",
    "mer_bell_circ.s(mer_bell[2])\n",
    "mer_bell_circ.s(mer_bell[0])\n",
    "mer_bell_circ.h(mer_bell[2])\n",
    "mer_bell_circ.cz(mer_bell[0], mer_bell[1])\n",
    "mer_bell_circ.h(mer_bell[0])\n",
    "mer_bell_circ.s(mer_bell[1])\n",
    "mer_bell_circ.h(mer_bell[1])\n",
    "mer_bell_circ.measure(mer_bell[0:3], mer_bell_c[0:3])\n",
    "display(mer_bell_circ.draw())"
   ]
  },
  {
   "cell_type": "markdown",
   "id": "dac50f37-525d-4ff3-88bb-0196400a8dc5",
   "metadata": {},
   "source": [
    "# Calculate all errors"
   ]
  },
  {
   "cell_type": "code",
   "execution_count": 86,
   "id": "65fd6760-5ee9-4b2f-b644-eba6d4b608bf",
   "metadata": {},
   "outputs": [
    {
     "name": "stderr",
     "output_type": "stream",
     "text": [
      "WARNING: Specific error for instruction \"reset\" on qubits (0,) overrides previously defined all-qubit error for these qubits.\n",
      "WARNING: Specific error for instruction \"measure\" on qubits (0,) overrides previously defined all-qubit error for these qubits.\n",
      "WARNING: Specific error for instruction \"u2\" on qubits (0,) overrides previously defined all-qubit error for these qubits.\n",
      "WARNING: Specific error for instruction \"u3\" on qubits (0,) overrides previously defined all-qubit error for these qubits.\n",
      "WARNING: Specific error for instruction \"cx\" on qubits (0, 0) overrides previously defined all-qubit error for these qubits.\n",
      "WARNING: Specific error for instruction \"cx\" on qubits (0, 1) overrides previously defined all-qubit error for these qubits.\n",
      "WARNING: Specific error for instruction \"cx\" on qubits (0, 2) overrides previously defined all-qubit error for these qubits.\n",
      "WARNING: Specific error for instruction \"reset\" on qubits (1,) overrides previously defined all-qubit error for these qubits.\n",
      "WARNING: Specific error for instruction \"measure\" on qubits (1,) overrides previously defined all-qubit error for these qubits.\n",
      "WARNING: Specific error for instruction \"u2\" on qubits (1,) overrides previously defined all-qubit error for these qubits.\n",
      "WARNING: Specific error for instruction \"u3\" on qubits (1,) overrides previously defined all-qubit error for these qubits.\n",
      "WARNING: Specific error for instruction \"cx\" on qubits (1, 0) overrides previously defined all-qubit error for these qubits.\n",
      "WARNING: Specific error for instruction \"cx\" on qubits (1, 1) overrides previously defined all-qubit error for these qubits.\n",
      "WARNING: Specific error for instruction \"cx\" on qubits (1, 2) overrides previously defined all-qubit error for these qubits.\n",
      "WARNING: Specific error for instruction \"reset\" on qubits (2,) overrides previously defined all-qubit error for these qubits.\n",
      "WARNING: Specific error for instruction \"measure\" on qubits (2,) overrides previously defined all-qubit error for these qubits.\n",
      "WARNING: Specific error for instruction \"u2\" on qubits (2,) overrides previously defined all-qubit error for these qubits.\n",
      "WARNING: Specific error for instruction \"u3\" on qubits (2,) overrides previously defined all-qubit error for these qubits.\n",
      "WARNING: Specific error for instruction \"cx\" on qubits (2, 0) overrides previously defined all-qubit error for these qubits.\n",
      "WARNING: Specific error for instruction \"cx\" on qubits (2, 1) overrides previously defined all-qubit error for these qubits.\n",
      "WARNING: Specific error for instruction \"cx\" on qubits (2, 2) overrides previously defined all-qubit error for these qubits.\n",
      "WARNING: Specific error for instruction \"reset\" on qubits (3,) overrides previously defined all-qubit error for these qubits.\n",
      "WARNING: Specific error for instruction \"measure\" on qubits (3,) overrides previously defined all-qubit error for these qubits.\n",
      "WARNING: Specific error for instruction \"u2\" on qubits (3,) overrides previously defined all-qubit error for these qubits.\n",
      "WARNING: Specific error for instruction \"u3\" on qubits (3,) overrides previously defined all-qubit error for these qubits.\n",
      "WARNING: Specific error for instruction \"cx\" on qubits (3, 0) overrides previously defined all-qubit error for these qubits.\n",
      "WARNING: Specific error for instruction \"cx\" on qubits (3, 1) overrides previously defined all-qubit error for these qubits.\n",
      "WARNING: Specific error for instruction \"cx\" on qubits (3, 2) overrides previously defined all-qubit error for these qubits.\n",
      "WARNING: Specific error for instruction \"reset\" on qubits (4,) overrides previously defined all-qubit error for these qubits.\n",
      "WARNING: Specific error for instruction \"measure\" on qubits (4,) overrides previously defined all-qubit error for these qubits.\n",
      "WARNING: Specific error for instruction \"u2\" on qubits (4,) overrides previously defined all-qubit error for these qubits.\n",
      "WARNING: Specific error for instruction \"u3\" on qubits (4,) overrides previously defined all-qubit error for these qubits.\n",
      "WARNING: Specific error for instruction \"cx\" on qubits (4, 0) overrides previously defined all-qubit error for these qubits.\n",
      "WARNING: Specific error for instruction \"cx\" on qubits (4, 1) overrides previously defined all-qubit error for these qubits.\n",
      "WARNING: Specific error for instruction \"cx\" on qubits (4, 2) overrides previously defined all-qubit error for these qubits.\n",
      "WARNING: all-qubit error already exists for instruction \"measure\", composing with additional error.\n",
      "WARNING: all-qubit error for instruction \"measure\" will not apply to qubits: (0,), (1,), (2,), (3,), (4,) as specific error already exists.\n",
      "ibmqfactory.load_account:WARNING:2022-08-13 11:02:08,094: Credentials are already in use. The existing account in the session will be replaced.\n"
     ]
    }
   ],
   "source": [
    "all_error(phase_circ, len(phase_q), 'phase_circ', con)"
   ]
  },
  {
   "cell_type": "code",
   "execution_count": 87,
   "id": "3b60e4fe-c6f4-4f47-ac68-27be6f808172",
   "metadata": {},
   "outputs": [
    {
     "name": "stderr",
     "output_type": "stream",
     "text": [
      "WARNING: Specific error for instruction \"reset\" on qubits (0,) overrides previously defined all-qubit error for these qubits.\n",
      "WARNING: Specific error for instruction \"measure\" on qubits (0,) overrides previously defined all-qubit error for these qubits.\n",
      "WARNING: Specific error for instruction \"u2\" on qubits (0,) overrides previously defined all-qubit error for these qubits.\n",
      "WARNING: Specific error for instruction \"u3\" on qubits (0,) overrides previously defined all-qubit error for these qubits.\n",
      "WARNING: Specific error for instruction \"cx\" on qubits (0, 0) overrides previously defined all-qubit error for these qubits.\n",
      "WARNING: Specific error for instruction \"cx\" on qubits (0, 1) overrides previously defined all-qubit error for these qubits.\n",
      "WARNING: Specific error for instruction \"cx\" on qubits (0, 2) overrides previously defined all-qubit error for these qubits.\n",
      "WARNING: Specific error for instruction \"reset\" on qubits (1,) overrides previously defined all-qubit error for these qubits.\n",
      "WARNING: Specific error for instruction \"measure\" on qubits (1,) overrides previously defined all-qubit error for these qubits.\n",
      "WARNING: Specific error for instruction \"u2\" on qubits (1,) overrides previously defined all-qubit error for these qubits.\n",
      "WARNING: Specific error for instruction \"u3\" on qubits (1,) overrides previously defined all-qubit error for these qubits.\n",
      "WARNING: Specific error for instruction \"cx\" on qubits (1, 0) overrides previously defined all-qubit error for these qubits.\n",
      "WARNING: Specific error for instruction \"cx\" on qubits (1, 1) overrides previously defined all-qubit error for these qubits.\n",
      "WARNING: Specific error for instruction \"cx\" on qubits (1, 2) overrides previously defined all-qubit error for these qubits.\n",
      "WARNING: Specific error for instruction \"reset\" on qubits (2,) overrides previously defined all-qubit error for these qubits.\n",
      "WARNING: Specific error for instruction \"measure\" on qubits (2,) overrides previously defined all-qubit error for these qubits.\n",
      "WARNING: Specific error for instruction \"u2\" on qubits (2,) overrides previously defined all-qubit error for these qubits.\n",
      "WARNING: Specific error for instruction \"u3\" on qubits (2,) overrides previously defined all-qubit error for these qubits.\n",
      "WARNING: Specific error for instruction \"cx\" on qubits (2, 0) overrides previously defined all-qubit error for these qubits.\n",
      "WARNING: Specific error for instruction \"cx\" on qubits (2, 1) overrides previously defined all-qubit error for these qubits.\n",
      "WARNING: Specific error for instruction \"cx\" on qubits (2, 2) overrides previously defined all-qubit error for these qubits.\n",
      "WARNING: Specific error for instruction \"reset\" on qubits (3,) overrides previously defined all-qubit error for these qubits.\n",
      "WARNING: Specific error for instruction \"measure\" on qubits (3,) overrides previously defined all-qubit error for these qubits.\n",
      "WARNING: Specific error for instruction \"u2\" on qubits (3,) overrides previously defined all-qubit error for these qubits.\n",
      "WARNING: Specific error for instruction \"u3\" on qubits (3,) overrides previously defined all-qubit error for these qubits.\n",
      "WARNING: Specific error for instruction \"cx\" on qubits (3, 0) overrides previously defined all-qubit error for these qubits.\n",
      "WARNING: Specific error for instruction \"cx\" on qubits (3, 1) overrides previously defined all-qubit error for these qubits.\n",
      "WARNING: Specific error for instruction \"cx\" on qubits (3, 2) overrides previously defined all-qubit error for these qubits.\n",
      "WARNING: Specific error for instruction \"reset\" on qubits (4,) overrides previously defined all-qubit error for these qubits.\n",
      "WARNING: Specific error for instruction \"measure\" on qubits (4,) overrides previously defined all-qubit error for these qubits.\n",
      "WARNING: Specific error for instruction \"u2\" on qubits (4,) overrides previously defined all-qubit error for these qubits.\n",
      "WARNING: Specific error for instruction \"u3\" on qubits (4,) overrides previously defined all-qubit error for these qubits.\n",
      "WARNING: Specific error for instruction \"cx\" on qubits (4, 0) overrides previously defined all-qubit error for these qubits.\n",
      "WARNING: Specific error for instruction \"cx\" on qubits (4, 1) overrides previously defined all-qubit error for these qubits.\n",
      "WARNING: Specific error for instruction \"cx\" on qubits (4, 2) overrides previously defined all-qubit error for these qubits.\n",
      "WARNING: all-qubit error already exists for instruction \"measure\", composing with additional error.\n",
      "WARNING: all-qubit error for instruction \"measure\" will not apply to qubits: (0,), (1,), (2,), (3,), (4,) as specific error already exists.\n",
      "ibmqfactory.load_account:WARNING:2022-08-13 11:02:14,010: Credentials are already in use. The existing account in the session will be replaced.\n"
     ]
    }
   ],
   "source": [
    "all_error(bit_circ, len(bit_q), 'bit_circ', con)"
   ]
  },
  {
   "cell_type": "code",
   "execution_count": 88,
   "id": "1fb25b68-9b34-4442-aa40-4e6c85f33902",
   "metadata": {},
   "outputs": [
    {
     "name": "stderr",
     "output_type": "stream",
     "text": [
      "WARNING: Specific error for instruction \"reset\" on qubits (0,) overrides previously defined all-qubit error for these qubits.\n",
      "WARNING: Specific error for instruction \"measure\" on qubits (0,) overrides previously defined all-qubit error for these qubits.\n",
      "WARNING: Specific error for instruction \"u2\" on qubits (0,) overrides previously defined all-qubit error for these qubits.\n",
      "WARNING: Specific error for instruction \"u3\" on qubits (0,) overrides previously defined all-qubit error for these qubits.\n",
      "WARNING: Specific error for instruction \"cx\" on qubits (0, 0) overrides previously defined all-qubit error for these qubits.\n",
      "WARNING: Specific error for instruction \"cx\" on qubits (0, 1) overrides previously defined all-qubit error for these qubits.\n",
      "WARNING: Specific error for instruction \"cx\" on qubits (0, 2) overrides previously defined all-qubit error for these qubits.\n",
      "WARNING: Specific error for instruction \"reset\" on qubits (1,) overrides previously defined all-qubit error for these qubits.\n",
      "WARNING: Specific error for instruction \"measure\" on qubits (1,) overrides previously defined all-qubit error for these qubits.\n",
      "WARNING: Specific error for instruction \"u2\" on qubits (1,) overrides previously defined all-qubit error for these qubits.\n",
      "WARNING: Specific error for instruction \"u3\" on qubits (1,) overrides previously defined all-qubit error for these qubits.\n",
      "WARNING: Specific error for instruction \"cx\" on qubits (1, 0) overrides previously defined all-qubit error for these qubits.\n",
      "WARNING: Specific error for instruction \"cx\" on qubits (1, 1) overrides previously defined all-qubit error for these qubits.\n",
      "WARNING: Specific error for instruction \"cx\" on qubits (1, 2) overrides previously defined all-qubit error for these qubits.\n",
      "WARNING: Specific error for instruction \"reset\" on qubits (2,) overrides previously defined all-qubit error for these qubits.\n",
      "WARNING: Specific error for instruction \"measure\" on qubits (2,) overrides previously defined all-qubit error for these qubits.\n",
      "WARNING: Specific error for instruction \"u2\" on qubits (2,) overrides previously defined all-qubit error for these qubits.\n",
      "WARNING: Specific error for instruction \"u3\" on qubits (2,) overrides previously defined all-qubit error for these qubits.\n",
      "WARNING: Specific error for instruction \"cx\" on qubits (2, 0) overrides previously defined all-qubit error for these qubits.\n",
      "WARNING: Specific error for instruction \"cx\" on qubits (2, 1) overrides previously defined all-qubit error for these qubits.\n",
      "WARNING: Specific error for instruction \"cx\" on qubits (2, 2) overrides previously defined all-qubit error for these qubits.\n",
      "WARNING: Specific error for instruction \"reset\" on qubits (3,) overrides previously defined all-qubit error for these qubits.\n",
      "WARNING: Specific error for instruction \"measure\" on qubits (3,) overrides previously defined all-qubit error for these qubits.\n",
      "WARNING: Specific error for instruction \"u2\" on qubits (3,) overrides previously defined all-qubit error for these qubits.\n",
      "WARNING: Specific error for instruction \"u3\" on qubits (3,) overrides previously defined all-qubit error for these qubits.\n",
      "WARNING: Specific error for instruction \"cx\" on qubits (3, 0) overrides previously defined all-qubit error for these qubits.\n",
      "WARNING: Specific error for instruction \"cx\" on qubits (3, 1) overrides previously defined all-qubit error for these qubits.\n",
      "WARNING: Specific error for instruction \"cx\" on qubits (3, 2) overrides previously defined all-qubit error for these qubits.\n",
      "WARNING: all-qubit error already exists for instruction \"measure\", composing with additional error.\n",
      "WARNING: all-qubit error for instruction \"measure\" will not apply to qubits: (0,), (1,), (2,), (3,) as specific error already exists.\n",
      "ibmqfactory.load_account:WARNING:2022-08-13 11:02:18,720: Credentials are already in use. The existing account in the session will be replaced.\n"
     ]
    }
   ],
   "source": [
    "all_error(swap_qaoa_circ, len(swap_qaoa_q), 'swap_qaoa_circ', con)"
   ]
  },
  {
   "cell_type": "code",
   "execution_count": 89,
   "id": "5b0bae85-b010-42d0-b80f-3b645c05a727",
   "metadata": {},
   "outputs": [
    {
     "name": "stderr",
     "output_type": "stream",
     "text": [
      "WARNING: Specific error for instruction \"reset\" on qubits (0,) overrides previously defined all-qubit error for these qubits.\n",
      "WARNING: Specific error for instruction \"measure\" on qubits (0,) overrides previously defined all-qubit error for these qubits.\n",
      "WARNING: Specific error for instruction \"u2\" on qubits (0,) overrides previously defined all-qubit error for these qubits.\n",
      "WARNING: Specific error for instruction \"u3\" on qubits (0,) overrides previously defined all-qubit error for these qubits.\n",
      "WARNING: Specific error for instruction \"cx\" on qubits (0, 0) overrides previously defined all-qubit error for these qubits.\n",
      "WARNING: Specific error for instruction \"cx\" on qubits (0, 1) overrides previously defined all-qubit error for these qubits.\n",
      "WARNING: Specific error for instruction \"cx\" on qubits (0, 2) overrides previously defined all-qubit error for these qubits.\n",
      "WARNING: Specific error for instruction \"reset\" on qubits (1,) overrides previously defined all-qubit error for these qubits.\n",
      "WARNING: Specific error for instruction \"measure\" on qubits (1,) overrides previously defined all-qubit error for these qubits.\n",
      "WARNING: Specific error for instruction \"u2\" on qubits (1,) overrides previously defined all-qubit error for these qubits.\n",
      "WARNING: Specific error for instruction \"u3\" on qubits (1,) overrides previously defined all-qubit error for these qubits.\n",
      "WARNING: Specific error for instruction \"cx\" on qubits (1, 0) overrides previously defined all-qubit error for these qubits.\n",
      "WARNING: Specific error for instruction \"cx\" on qubits (1, 1) overrides previously defined all-qubit error for these qubits.\n",
      "WARNING: Specific error for instruction \"cx\" on qubits (1, 2) overrides previously defined all-qubit error for these qubits.\n",
      "WARNING: Specific error for instruction \"reset\" on qubits (2,) overrides previously defined all-qubit error for these qubits.\n",
      "WARNING: Specific error for instruction \"measure\" on qubits (2,) overrides previously defined all-qubit error for these qubits.\n",
      "WARNING: Specific error for instruction \"u2\" on qubits (2,) overrides previously defined all-qubit error for these qubits.\n",
      "WARNING: Specific error for instruction \"u3\" on qubits (2,) overrides previously defined all-qubit error for these qubits.\n",
      "WARNING: Specific error for instruction \"cx\" on qubits (2, 0) overrides previously defined all-qubit error for these qubits.\n",
      "WARNING: Specific error for instruction \"cx\" on qubits (2, 1) overrides previously defined all-qubit error for these qubits.\n",
      "WARNING: Specific error for instruction \"cx\" on qubits (2, 2) overrides previously defined all-qubit error for these qubits.\n",
      "WARNING: all-qubit error already exists for instruction \"measure\", composing with additional error.\n",
      "WARNING: all-qubit error for instruction \"measure\" will not apply to qubits: (0,), (1,), (2,) as specific error already exists.\n",
      "ibmqfactory.load_account:WARNING:2022-08-13 11:02:22,919: Credentials are already in use. The existing account in the session will be replaced.\n"
     ]
    }
   ],
   "source": [
    "all_error(vanilla_qaoa_circ, len(vanilla_qaoa_q), 'vanilla_qaoa_circ', con)"
   ]
  },
  {
   "cell_type": "code",
   "execution_count": 90,
   "id": "b6eb6c68-273a-43d3-be77-75381a9fe4ff",
   "metadata": {},
   "outputs": [
    {
     "name": "stderr",
     "output_type": "stream",
     "text": [
      "WARNING: Specific error for instruction \"reset\" on qubits (0,) overrides previously defined all-qubit error for these qubits.\n",
      "WARNING: Specific error for instruction \"measure\" on qubits (0,) overrides previously defined all-qubit error for these qubits.\n",
      "WARNING: Specific error for instruction \"u2\" on qubits (0,) overrides previously defined all-qubit error for these qubits.\n",
      "WARNING: Specific error for instruction \"u3\" on qubits (0,) overrides previously defined all-qubit error for these qubits.\n",
      "WARNING: Specific error for instruction \"cx\" on qubits (0, 0) overrides previously defined all-qubit error for these qubits.\n",
      "WARNING: Specific error for instruction \"cx\" on qubits (0, 1) overrides previously defined all-qubit error for these qubits.\n",
      "WARNING: Specific error for instruction \"cx\" on qubits (0, 2) overrides previously defined all-qubit error for these qubits.\n",
      "WARNING: Specific error for instruction \"reset\" on qubits (1,) overrides previously defined all-qubit error for these qubits.\n",
      "WARNING: Specific error for instruction \"measure\" on qubits (1,) overrides previously defined all-qubit error for these qubits.\n",
      "WARNING: Specific error for instruction \"u2\" on qubits (1,) overrides previously defined all-qubit error for these qubits.\n",
      "WARNING: Specific error for instruction \"u3\" on qubits (1,) overrides previously defined all-qubit error for these qubits.\n",
      "WARNING: Specific error for instruction \"cx\" on qubits (1, 0) overrides previously defined all-qubit error for these qubits.\n",
      "WARNING: Specific error for instruction \"cx\" on qubits (1, 1) overrides previously defined all-qubit error for these qubits.\n",
      "WARNING: Specific error for instruction \"cx\" on qubits (1, 2) overrides previously defined all-qubit error for these qubits.\n",
      "WARNING: Specific error for instruction \"reset\" on qubits (2,) overrides previously defined all-qubit error for these qubits.\n",
      "WARNING: Specific error for instruction \"measure\" on qubits (2,) overrides previously defined all-qubit error for these qubits.\n",
      "WARNING: Specific error for instruction \"u2\" on qubits (2,) overrides previously defined all-qubit error for these qubits.\n",
      "WARNING: Specific error for instruction \"u3\" on qubits (2,) overrides previously defined all-qubit error for these qubits.\n",
      "WARNING: Specific error for instruction \"cx\" on qubits (2, 0) overrides previously defined all-qubit error for these qubits.\n",
      "WARNING: Specific error for instruction \"cx\" on qubits (2, 1) overrides previously defined all-qubit error for these qubits.\n",
      "WARNING: Specific error for instruction \"cx\" on qubits (2, 2) overrides previously defined all-qubit error for these qubits.\n",
      "WARNING: all-qubit error already exists for instruction \"measure\", composing with additional error.\n",
      "WARNING: all-qubit error for instruction \"measure\" will not apply to qubits: (0,), (1,), (2,) as specific error already exists.\n",
      "ibmqfactory.load_account:WARNING:2022-08-13 11:02:26,810: Credentials are already in use. The existing account in the session will be replaced.\n"
     ]
    }
   ],
   "source": [
    "all_error(hamilton_circ, len(hamilton_q), 'hamilton_circ', con)"
   ]
  },
  {
   "cell_type": "code",
   "execution_count": 91,
   "id": "3cf6ce1b-dbdf-452c-9673-9faad77067a9",
   "metadata": {},
   "outputs": [
    {
     "name": "stderr",
     "output_type": "stream",
     "text": [
      "WARNING: Specific error for instruction \"reset\" on qubits (0,) overrides previously defined all-qubit error for these qubits.\n",
      "WARNING: Specific error for instruction \"measure\" on qubits (0,) overrides previously defined all-qubit error for these qubits.\n",
      "WARNING: Specific error for instruction \"u2\" on qubits (0,) overrides previously defined all-qubit error for these qubits.\n",
      "WARNING: Specific error for instruction \"u3\" on qubits (0,) overrides previously defined all-qubit error for these qubits.\n",
      "WARNING: Specific error for instruction \"cx\" on qubits (0, 0) overrides previously defined all-qubit error for these qubits.\n",
      "WARNING: Specific error for instruction \"cx\" on qubits (0, 1) overrides previously defined all-qubit error for these qubits.\n",
      "WARNING: Specific error for instruction \"cx\" on qubits (0, 2) overrides previously defined all-qubit error for these qubits.\n",
      "WARNING: Specific error for instruction \"reset\" on qubits (1,) overrides previously defined all-qubit error for these qubits.\n",
      "WARNING: Specific error for instruction \"measure\" on qubits (1,) overrides previously defined all-qubit error for these qubits.\n",
      "WARNING: Specific error for instruction \"u2\" on qubits (1,) overrides previously defined all-qubit error for these qubits.\n",
      "WARNING: Specific error for instruction \"u3\" on qubits (1,) overrides previously defined all-qubit error for these qubits.\n",
      "WARNING: Specific error for instruction \"cx\" on qubits (1, 0) overrides previously defined all-qubit error for these qubits.\n",
      "WARNING: Specific error for instruction \"cx\" on qubits (1, 1) overrides previously defined all-qubit error for these qubits.\n",
      "WARNING: Specific error for instruction \"cx\" on qubits (1, 2) overrides previously defined all-qubit error for these qubits.\n",
      "WARNING: Specific error for instruction \"reset\" on qubits (2,) overrides previously defined all-qubit error for these qubits.\n",
      "WARNING: Specific error for instruction \"measure\" on qubits (2,) overrides previously defined all-qubit error for these qubits.\n",
      "WARNING: Specific error for instruction \"u2\" on qubits (2,) overrides previously defined all-qubit error for these qubits.\n",
      "WARNING: Specific error for instruction \"u3\" on qubits (2,) overrides previously defined all-qubit error for these qubits.\n",
      "WARNING: Specific error for instruction \"cx\" on qubits (2, 0) overrides previously defined all-qubit error for these qubits.\n",
      "WARNING: Specific error for instruction \"cx\" on qubits (2, 1) overrides previously defined all-qubit error for these qubits.\n",
      "WARNING: Specific error for instruction \"cx\" on qubits (2, 2) overrides previously defined all-qubit error for these qubits.\n",
      "WARNING: all-qubit error already exists for instruction \"measure\", composing with additional error.\n",
      "WARNING: all-qubit error for instruction \"measure\" will not apply to qubits: (0,), (1,), (2,) as specific error already exists.\n",
      "ibmqfactory.load_account:WARNING:2022-08-13 11:02:30,495: Credentials are already in use. The existing account in the session will be replaced.\n"
     ]
    }
   ],
   "source": [
    "all_error(ghz_circ, len(q_ghz), 'ghz_circ', con)"
   ]
  },
  {
   "cell_type": "code",
   "execution_count": 92,
   "id": "8ceb5771-a712-43aa-97ba-ce5fbf07e067",
   "metadata": {},
   "outputs": [
    {
     "name": "stderr",
     "output_type": "stream",
     "text": [
      "WARNING: Specific error for instruction \"reset\" on qubits (0,) overrides previously defined all-qubit error for these qubits.\n",
      "WARNING: Specific error for instruction \"measure\" on qubits (0,) overrides previously defined all-qubit error for these qubits.\n",
      "WARNING: Specific error for instruction \"u2\" on qubits (0,) overrides previously defined all-qubit error for these qubits.\n",
      "WARNING: Specific error for instruction \"u3\" on qubits (0,) overrides previously defined all-qubit error for these qubits.\n",
      "WARNING: Specific error for instruction \"cx\" on qubits (0, 0) overrides previously defined all-qubit error for these qubits.\n",
      "WARNING: Specific error for instruction \"cx\" on qubits (0, 1) overrides previously defined all-qubit error for these qubits.\n",
      "WARNING: Specific error for instruction \"cx\" on qubits (0, 2) overrides previously defined all-qubit error for these qubits.\n",
      "WARNING: Specific error for instruction \"reset\" on qubits (1,) overrides previously defined all-qubit error for these qubits.\n",
      "WARNING: Specific error for instruction \"measure\" on qubits (1,) overrides previously defined all-qubit error for these qubits.\n",
      "WARNING: Specific error for instruction \"u2\" on qubits (1,) overrides previously defined all-qubit error for these qubits.\n",
      "WARNING: Specific error for instruction \"u3\" on qubits (1,) overrides previously defined all-qubit error for these qubits.\n",
      "WARNING: Specific error for instruction \"cx\" on qubits (1, 0) overrides previously defined all-qubit error for these qubits.\n",
      "WARNING: Specific error for instruction \"cx\" on qubits (1, 1) overrides previously defined all-qubit error for these qubits.\n",
      "WARNING: Specific error for instruction \"cx\" on qubits (1, 2) overrides previously defined all-qubit error for these qubits.\n",
      "WARNING: Specific error for instruction \"reset\" on qubits (2,) overrides previously defined all-qubit error for these qubits.\n",
      "WARNING: Specific error for instruction \"measure\" on qubits (2,) overrides previously defined all-qubit error for these qubits.\n",
      "WARNING: Specific error for instruction \"u2\" on qubits (2,) overrides previously defined all-qubit error for these qubits.\n",
      "WARNING: Specific error for instruction \"u3\" on qubits (2,) overrides previously defined all-qubit error for these qubits.\n",
      "WARNING: Specific error for instruction \"cx\" on qubits (2, 0) overrides previously defined all-qubit error for these qubits.\n",
      "WARNING: Specific error for instruction \"cx\" on qubits (2, 1) overrides previously defined all-qubit error for these qubits.\n",
      "WARNING: Specific error for instruction \"cx\" on qubits (2, 2) overrides previously defined all-qubit error for these qubits.\n",
      "WARNING: all-qubit error already exists for instruction \"measure\", composing with additional error.\n",
      "WARNING: all-qubit error for instruction \"measure\" will not apply to qubits: (0,), (1,), (2,) as specific error already exists.\n",
      "ibmqfactory.load_account:WARNING:2022-08-13 11:02:33,701: Credentials are already in use. The existing account in the session will be replaced.\n"
     ]
    }
   ],
   "source": [
    "all_error(mer_bell_circ, len(mer_bell), 'mermin_circ', con)"
   ]
  },
  {
   "cell_type": "code",
   "execution_count": 93,
   "id": "ac16252b-78bf-4424-861e-d8e31870c46b",
   "metadata": {},
   "outputs": [],
   "source": [
    "con.close()"
   ]
  }
 ],
 "metadata": {
  "kernelspec": {
   "display_name": "Python 3",
   "language": "python",
   "name": "python3"
  },
  "language_info": {
   "codemirror_mode": {
    "name": "ipython",
    "version": 3
   },
   "file_extension": ".py",
   "mimetype": "text/x-python",
   "name": "python",
   "nbconvert_exporter": "python",
   "pygments_lexer": "ipython3",
   "version": "3.9.12"
  }
 },
 "nbformat": 4,
 "nbformat_minor": 5
}
