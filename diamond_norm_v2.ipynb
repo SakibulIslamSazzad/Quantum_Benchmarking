{
 "cells": [
  {
   "cell_type": "code",
   "execution_count": 1,
   "id": "4e6a6a36-24a5-420d-afaf-dbf38ba75b22",
   "metadata": {},
   "outputs": [],
   "source": [
    "import numpy as np\n",
    "\n",
    "\n",
    "# Importing standard Qiskit libraries\n",
    "from qiskit import QuantumCircuit, transpile, Aer, IBMQ\n",
    "from qiskit import QuantumRegister, ClassicalRegister, execute\n",
    "from qiskit.tools.jupyter import *\n",
    "from qiskit.visualization import *\n",
    "#from ibm_quantum_widgets import *\n",
    "from qiskit.providers.aer import QasmSimulator\n",
    "from scipy.spatial import distance\n",
    "from scipy.linalg import norm\n",
    "from scipy.spatial.distance import euclidean\n",
    "from qiskit.providers.aer.utils import approximate_quantum_error\n",
    "from qiskit.providers.aer.utils import approximate_noise_model\n",
    "from qiskit.providers.aer.noise import depolarizing_error\n",
    "from qiskit.providers.aer.noise import pauli_error\n",
    "from qiskit.providers.aer.noise import thermal_relaxation_error\n",
    "from qiskit.providers.aer.noise import reset_error\n",
    "from qiskit.quantum_info import diamond_norm\n",
    "    \n",
    "# Loading your IBM Quantum account(s)\n",
    "#provider = IBMQ.load_account()\n",
    "\n"
   ]
  },
  {
   "cell_type": "code",
   "execution_count": 2,
   "id": "529e78ac-0573-4dd1-bf4e-e464cc7d3c30",
   "metadata": {},
   "outputs": [
    {
     "name": "stdout",
     "output_type": "stream",
     "text": [
      "Defaulting to user installation because normal site-packages is not writeable\n",
      "Requirement already satisfied: cvxpy in /opt/conda/lib/python3.9/site-packages (1.2.1)\n",
      "Requirement already satisfied: osqp>=0.4.1 in /opt/conda/lib/python3.9/site-packages (from cvxpy) (0.6.2.post5)\n",
      "Requirement already satisfied: numpy>=1.15 in ./.qbraid/environments/qiskit_9y9siy/pyenv/lib/python3.9/site-packages (from cvxpy) (1.21.4)\n",
      "Requirement already satisfied: scs>=1.1.6 in /opt/conda/lib/python3.9/site-packages (from cvxpy) (3.2.0)\n",
      "Requirement already satisfied: ecos>=2 in /opt/conda/lib/python3.9/site-packages (from cvxpy) (2.0.10)\n",
      "Requirement already satisfied: scipy>=1.1.0 in ./.qbraid/environments/qiskit_9y9siy/pyenv/lib/python3.9/site-packages (from cvxpy) (1.7.2)\n",
      "Requirement already satisfied: qdldl in /opt/conda/lib/python3.9/site-packages (from osqp>=0.4.1->cvxpy) (0.1.5.post2)\n",
      "\u001b[33mWARNING: You are using pip version 21.3.1; however, version 22.2.2 is available.\n",
      "You should consider upgrading via the '/home/jovyan/.qbraid/environments/qiskit_9y9siy/pyenv/bin/python -m pip install --upgrade pip' command.\u001b[0m\n",
      "Note: you may need to restart the kernel to use updated packages.\n"
     ]
    }
   ],
   "source": [
    "pip install cvxpy"
   ]
  },
  {
   "cell_type": "code",
   "execution_count": 3,
   "id": "7da34fa1-deac-43e8-86de-43632936db82",
   "metadata": {},
   "outputs": [
    {
     "data": {
      "text/plain": [
       "\"\\nclass dia_norm:\\n    \\n    def __init__(self, circ, param, t1, t2, time):\\n        self.circ = circ\\n        self.param = param\\n        self.t1 = t1\\n        self.t2 = t2\\n        self.time = time\\n        \\n    \\n    #in this class chi-matrix of channel is created\\n    #because in qiskit diamond norm function takes chi matrix as input\\n    #import necessary instances from qiskit\\n    #from qiskit.quantum_info import chi\\n    \\n    def channel(self, circ, param, t1, t2, time):\\n        backend = Aer.get_backend('unitary_simulator')\\n        job = execute(self.circ, backend)\\n        result = job.result()\\n        matrix = result.get_unitary(self.circ, decimals =4)\\n        \\n        dep_error = depolarizing_error(self.param, len(self.circ))\\n        rest_error = reset_error(self.param)\\n        thermal_error = thermal_relaxation_error(t1 = self.t1, t2 = self.t2, time = self.time)\\n        channel1 = diamond_norm(dep_error)\\n        channel2 = diamond_norm(rest_error)\\n        channel3 = diamond_norm(thermal_error)\\n        print(channel1)\\n        print(channel2)\\n        print(channel3)\\n        \""
      ]
     },
     "execution_count": 3,
     "metadata": {},
     "output_type": "execute_result"
    }
   ],
   "source": [
    "#calculating diamond norm\n",
    "\"\"\"\n",
    "class dia_norm:\n",
    "    \n",
    "    def __init__(self, circ, param, t1, t2, time):\n",
    "        self.circ = circ\n",
    "        self.param = param\n",
    "        self.t1 = t1\n",
    "        self.t2 = t2\n",
    "        self.time = time\n",
    "        \n",
    "    \n",
    "    #in this class chi-matrix of channel is created\n",
    "    #because in qiskit diamond norm function takes chi matrix as input\n",
    "    #import necessary instances from qiskit\n",
    "    #from qiskit.quantum_info import chi\n",
    "    \n",
    "    def channel(self, circ, param, t1, t2, time):\n",
    "        backend = Aer.get_backend('unitary_simulator')\n",
    "        job = execute(self.circ, backend)\n",
    "        result = job.result()\n",
    "        matrix = result.get_unitary(self.circ, decimals =4)\n",
    "        \n",
    "        dep_error = depolarizing_error(self.param, len(self.circ))\n",
    "        rest_error = reset_error(self.param)\n",
    "        thermal_error = thermal_relaxation_error(t1 = self.t1, t2 = self.t2, time = self.time)\n",
    "        channel1 = diamond_norm(dep_error)\n",
    "        channel2 = diamond_norm(rest_error)\n",
    "        channel3 = diamond_norm(thermal_error)\n",
    "        print(channel1)\n",
    "        print(channel2)\n",
    "        print(channel3)\n",
    "        \"\"\"\n",
    "        \n",
    "        #return channel1, channel2, channel3\n",
    "        \n",
    "        \n"
   ]
  },
  {
   "cell_type": "code",
   "execution_count": 4,
   "id": "7deca0d3-6bbf-4e6a-b0a9-5fd3896e111f",
   "metadata": {},
   "outputs": [],
   "source": [
    "#Resourses:\n",
    "# 1. https://qiskit.org/documentation/stubs/qiskit.quantum_info.diamond_norm.html\n",
    "# 2. https://cstheory.stackexchange.com/questions/4885/is-there-any-connection-between-the-diamond-norm-and-the-distance-of-the-associa\n",
    "# 3. https://www.cs.umd.edu/class/fall2016/cmsc858K/LectureNotes/QuantumChannels.pdf\n",
    "# 4. https://qiskit.org/documentation/tutorials/simulators/5_noise_transformation.html\n",
    "# 5. https://qiskit.org/documentation/stubs/qiskit.quantum_info.Chi.html\n",
    "# 6. https://qiskit.org/documentation/stubs/qiskit.quantum_info.Chi.html\n"
   ]
  },
  {
   "cell_type": "code",
   "execution_count": 5,
   "id": "9c149cf2-befb-48b0-818f-c90f9ff01866",
   "metadata": {},
   "outputs": [],
   "source": [
    "def d_norm(circ, param, t1, t2, time):\n",
    "    #diamond_norm in qiskit use cvxpy package, so it should be installed with\n",
    "    # pip install cvxpy\n",
    "        backend = Aer.get_backend('unitary_simulator')\n",
    "        job = execute(circ, backend)\n",
    "        result = job.result()\n",
    "        matrix = result.get_unitary(circ, decimals =4)\n",
    "        \n",
    "        dep_error = depolarizing_error(param, len(circ))\n",
    "        rest_error = reset_error(param)\n",
    "        thermal_error = thermal_relaxation_error(t1, t2, time)\n",
    "        channel1 = diamond_norm(dep_error)\n",
    "        channel2 = diamond_norm(rest_error)\n",
    "        channel3 = diamond_norm(thermal_error)\n",
    "        print(channel1)\n",
    "        print(channel2)\n",
    "        print(channel3)\n",
    "        return channel1, channel2, channel3\n",
    "    "
   ]
  },
  {
   "cell_type": "code",
   "execution_count": 6,
   "id": "19dee80d-2b33-4ec2-b874-13096f9956b0",
   "metadata": {},
   "outputs": [
    {
     "name": "stdout",
     "output_type": "stream",
     "text": [
      "1.0000534788205413\n",
      "0.9999985614850486\n",
      "0.9999998848443898\n"
     ]
    }
   ],
   "source": [
    "#create a test circuit\n",
    "import cvxpy\n",
    "qc= QuantumCircuit(3)\n",
    "qc.h(0)\n",
    "qc.cx(0,1)\n",
    "qc.cx(1,2)\n",
    "#qc.draw()\n",
    "param = 0.1\n",
    "t1 = 30\n",
    "t2 = 20\n",
    "time = 50\n",
    "test = d_norm(qc, param, t1, t2, time)\n",
    "#test.channel(qc, param, t1, t2, time)\n",
    "\n",
    "\n"
   ]
  },
  {
   "cell_type": "code",
   "execution_count": null,
   "id": "529deb28-4c2b-4028-a5e1-f8454da16227",
   "metadata": {},
   "outputs": [],
   "source": []
  }
 ],
 "metadata": {
  "kernelspec": {
   "display_name": "Python 3 (ipykernel)",
   "language": "python",
   "name": "python3"
  },
  "language_info": {
   "codemirror_mode": {
    "name": "ipython",
    "version": 3
   },
   "file_extension": ".py",
   "mimetype": "text/x-python",
   "name": "python",
   "nbconvert_exporter": "python",
   "pygments_lexer": "ipython3",
   "version": "3.8.13"
  }
 },
 "nbformat": 4,
 "nbformat_minor": 5
}
