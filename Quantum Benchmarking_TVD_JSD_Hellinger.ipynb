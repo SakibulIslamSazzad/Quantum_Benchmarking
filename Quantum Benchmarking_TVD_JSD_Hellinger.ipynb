{
 "cells": [
  {
   "cell_type": "code",
   "execution_count": 805,
   "id": "67675642-6a34-4170-bc25-aaddb9a5e80c",
   "metadata": {},
   "outputs": [],
   "source": [
    "import numpy as np\n",
    "\n",
    "\n",
    "# Importing standard Qiskit libraries\n",
    "from qiskit import QuantumCircuit, transpile, Aer, IBMQ\n",
    "from qiskit import QuantumRegister, ClassicalRegister, execute\n",
    "from qiskit.tools.jupyter import *\n",
    "from qiskit.visualization import *\n",
    "#from ibm_quantum_widgets import *\n",
    "from qiskit.providers.aer import QasmSimulator\n",
    "from scipy.spatial import distance\n",
    "from scipy.linalg import norm\n",
    "from scipy.spatial.distance import euclidean\n",
    "# Loading your IBM Quantum account(s)\n",
    "#provider = IBMQ.load_account()\n",
    "import matplotlib.pyplot as plt\n",
    "import pandas as pd"
   ]
  },
  {
   "cell_type": "code",
   "execution_count": 806,
   "id": "20b447b7-6108-46d1-9bac-90ea16e301c1",
   "metadata": {},
   "outputs": [
    {
     "name": "stdout",
     "output_type": "stream",
     "text": [
      "NoiseModel:\n",
      "  Basis gates: ['cx', 'id', 'rz', 'sx', 'u1', 'u2', 'u3']\n",
      "  Instructions with noise: ['cx', 'measure', 'u3', 'u1', 'u2', 'reset']\n",
      "  All-qubits errors: ['reset', 'measure', 'u1', 'u2', 'u3', 'cx']\n"
     ]
    }
   ],
   "source": [
    "# error probabilties, I took the following value randomly\n",
    "#wondering should I take them randomly\n",
    "import numpy as np\n",
    "from qiskit import QuantumCircuit, transpile\n",
    "from qiskit.quantum_info import Kraus, SuperOp\n",
    "from qiskit.providers.aer import AerSimulator\n",
    "from qiskit.tools.visualization import plot_histogram\n",
    "\n",
    "# Import from Qiskit Aer noise module\n",
    "from qiskit.providers.aer.noise import NoiseModel\n",
    "from qiskit.providers.aer.noise import QuantumError, ReadoutError\n",
    "from qiskit.providers.aer.noise import pauli_error\n",
    "from qiskit.providers.aer.noise import depolarizing_error\n",
    "from qiskit.providers.aer.noise import thermal_relaxation_error\n",
    "\n",
    "\n",
    "reset_error = 0.05 # this acts on single qubit gate, probability of flip a singe qubit P(reset)\n",
    "measure_error = 0.2 # P(measure error)\n",
    "gate_error = 0.05 # P(two qubit error)\n",
    "\n",
    "# calling error functions using from IBM library\n",
    "re_err = pauli_error([('X', reset_error),('I',1-reset_error)])\n",
    "meas_err = pauli_error([('X', measure_error),('I', 1-measure_error)])\n",
    "gate_err1 = pauli_error([('X', gate_error),('I', 1-gate_error)])\n",
    "gate_err2 = gate_err1.tensor(gate_err1)\n",
    "\n",
    "# errors on a noisy model\n",
    "bitflip_err = NoiseModel()\n",
    "bitflip_err.add_all_qubit_quantum_error(re_err,\"reset\")\n",
    "bitflip_err.add_all_qubit_quantum_error(meas_err,\"measure\")\n",
    "bitflip_err.add_all_qubit_quantum_error(gate_err1,[\"u1\", \"u2\", \"u3\"])\n",
    "bitflip_err.add_all_qubit_quantum_error(gate_err2, \"cx\")\n",
    "\n",
    "print(bitflip_err)\n",
    "\n"
   ]
  },
  {
   "cell_type": "code",
   "execution_count": 807,
   "id": "c48296ea-7494-4971-8ddf-80b292b1a97d",
   "metadata": {},
   "outputs": [],
   "source": [
    "def generate_plot(ideal_counts, calculated_counts, error_name, circ_name):\n",
    "    # Match both dictionaries key \n",
    "    for key in calculated_counts:\n",
    "        if key not in ideal_counts:\n",
    "            ideal_counts[key] = 0\n",
    "    \n",
    "    for key in ideal_counts:\n",
    "        if key not in calculated_counts:\n",
    "            calculated_counts[key] = 0\n",
    "            \n",
    "    ideal_counts = dict(sorted(ideal_counts.items()))\n",
    "    calculated_counts = dict(sorted(calculated_counts.items()))\n",
    "    \n",
    "    #Probability Distribution\n",
    "    s_ideal = sum(ideal_counts.values())\n",
    "    for key, value in ideal_counts.items():\n",
    "        percentage = value / s_ideal\n",
    "        ideal_counts[key] = percentage\n",
    "        \n",
    "    s_calculated = sum(calculated_counts.values())\n",
    "    for key, value in calculated_counts.items():\n",
    "        percentage = value / s_calculated\n",
    "        calculated_counts[key] = percentage\n",
    "    \n",
    "    fname = f'./Images/Bar_charts/{error_name}_{circ_name}.pdf'\n",
    "        \n",
    "    X = np.arange(len(calculated_counts))\n",
    "    f, ax = plt.subplots(figsize=(10,6))\n",
    "    ax.bar(X-0.2, calculated_counts.values(), width=0.4, color='b', align='center')\n",
    "    ax.bar(X+0.2, ideal_counts.values(), width=0.4, color='g', align='center')\n",
    "    ax.legend(('Calculated Probability','Ideal Probability'))\n",
    "    plt.xticks(X, calculated_counts.keys())\n",
    "    plt.xticks(X, ideal_counts.keys())\n",
    "    plt.xticks(rotation=90)\n",
    "    plt.xlabel(\"States\")\n",
    "    plt.ylabel(\"Probability\")\n",
    "    plt.savefig(fname)\n",
    "    plt.show()"
   ]
  },
  {
   "cell_type": "code",
   "execution_count": 808,
   "id": "906cad2f-22ab-4c5c-ac6b-59e65470d5ac",
   "metadata": {},
   "outputs": [],
   "source": [
    "def bit_error(circ, qubits, circ_name):\n",
    "    import numpy as np\n",
    "    from qiskit import QuantumCircuit, transpile\n",
    "    from qiskit.quantum_info import Kraus, SuperOp\n",
    "    from qiskit.providers.aer import AerSimulator\n",
    "    from qiskit.tools.visualization import plot_histogram\n",
    "\n",
    "    # Import from Qiskit Aer noise module\n",
    "    from qiskit.providers.aer.noise import NoiseModel\n",
    "    from qiskit.providers.aer.noise import QuantumError, ReadoutError\n",
    "    from qiskit.providers.aer.noise import pauli_error\n",
    "    from qiskit.providers.aer.noise import depolarizing_error\n",
    "    from qiskit.providers.aer.noise import thermal_relaxation_error\n",
    "\n",
    "\n",
    "    reset_error = 0.05 # this acts on single qubit gate, probability of flip a singe qubit P(reset)\n",
    "    measure_error = 0.2 # P(measure error)\n",
    "    gate_error = 0.05 # P(two qubit error)\n",
    "\n",
    "    # calling error functions using from IBM library\n",
    "    re_err = pauli_error([('X', reset_error),('I',1-reset_error)])\n",
    "    meas_err = pauli_error([('X', measure_error),('I', 1-measure_error)])\n",
    "    gate_err1 = pauli_error([('X', gate_error),('I', 1-gate_error)])\n",
    "    gate_err2 = gate_err1.tensor(gate_err1)\n",
    "\n",
    "    # errors on a noisy model\n",
    "    bitflip_err = NoiseModel()\n",
    "    bitflip_err.add_all_qubit_quantum_error(re_err,\"reset\")\n",
    "    bitflip_err.add_all_qubit_quantum_error(meas_err,\"measure\")\n",
    "    bitflip_err.add_all_qubit_quantum_error(gate_err1,[\"u1\", \"u2\", \"u3\"])\n",
    "    bitflip_err.add_all_qubit_quantum_error(gate_err2, \"cx\")\n",
    "    \n",
    "    ideal_sim = AerSimulator()\n",
    "    ideal_result = ideal_sim.run(circ).result()\n",
    "    ideal_counts = ideal_result.get_counts()\n",
    "    \n",
    "    sim_noise = AerSimulator(noise_model=bitflip_err)\n",
    "    \n",
    "    tnoise = transpile(circ, sim_noise)\n",
    "    result_bit_flip = sim_noise.run(tnoise).result()\n",
    "    counts_bit_flip = result_bit_flip.get_counts()\n",
    "\n",
    "    legend = ['ideal', 'bit_flip']\n",
    "\n",
    "    # Plot noisy output\n",
    "    \n",
    "    generate_plot(ideal_counts, counts_bit_flip, 'bit_error', circ_name)\n",
    "    \n",
    "    num_binary_states = 2**qubits\n",
    "\n",
    "    # get the total counts for two dictionaries\n",
    "    N1 = sum(ideal_counts.values())\n",
    "    N2 = sum(counts_bit_flip.values())\n",
    "\n",
    "    # add missing binary states in both distributions\n",
    "    # example, dist1 = {'0': 400} and dist2 = {'1': 600}\n",
    "    # the follwoing for loop will make them both same size (i.e., with same keys)\n",
    "    # new dist1 = {'0': 400, '1': 0} and dist2 = {'0': 0, '1': 600}\n",
    "    for number in range(2**qubits):\n",
    "        # following line converts an integer to a binary string \n",
    "        # the binary string length is fixed and it is number of qubits\n",
    "        # example, if number of qubit is 4, integer 3 will be `0011`\n",
    "        binary_state = '{0:b}'.format(number).zfill(qubits)\n",
    "\n",
    "        if binary_state not in ideal_counts:\n",
    "            ideal_counts[binary_state] = 0\n",
    "        \n",
    "        if binary_state not in counts_bit_flip:\n",
    "            counts_bit_flip[binary_state] = 0\n",
    "\n",
    "    # following loop actually computes the TVD between two distributions\n",
    "    tvd = 0\n",
    "    print(' TVD Distribution')\n",
    "    for key in ideal_counts:\n",
    "        print(key)\n",
    "        print(ideal_counts[key], counts_bit_flip[key])\n",
    "        tvd = tvd + 0.5 * abs(ideal_counts[key]/N1 - counts_bit_flip[key]/N2)\n",
    "        print(tvd)\n",
    "    \n",
    "    \n",
    "    print('Jensen-Shannon Distance')\n",
    "    from scipy.spatial import distance\n",
    "    a = ideal_counts.values()\n",
    "    b = counts_bit_flip.values()\n",
    "    data_a = list(a)\n",
    "    data_b = list(b)\n",
    "    arr_a = np.array(data_a)\n",
    "    arr_b = np.array(data_b)\n",
    "    jsd = distance.jensenshannon(arr_a, arr_b)\n",
    "    print(jsd)\n",
    "    \n",
    "    print('Hellinger Distance') \n",
    "    _SQRT2 = np.sqrt(2)\n",
    "    hell1 = norm(np.sqrt(arr_a) - np.sqrt(arr_b)) / _SQRT2\n",
    "    print(hell1)\n",
    "    hell2 = euclidean(np.sqrt(arr_a), np.sqrt(arr_b)) / _SQRT2\n",
    "    print(hell2)\n",
    "    hell3 = np.sqrt(np.sum((np.sqrt(arr_a) - np.sqrt(arr_b)) ** 2)) / _SQRT2\n",
    "    print(hell3)\n",
    "    \n",
    "    return tvd, jsd, hell1, hell2, hell3\n",
    "\n",
    "def ideal(circ):\n",
    "    \n",
    "    ideal_sim = AerSimulator()\n",
    "    ideal_result = ideal_sim.run(circ).result()\n",
    "    ideal_counts = ideal_result.get_counts()\n",
    "\n",
    "    \n",
    "    return ideal_counts, ideal_counts, counts_bit_flip"
   ]
  },
  {
   "cell_type": "code",
   "execution_count": 809,
   "id": "2535b7ff-ff89-4abd-bfe1-b0efd7477888",
   "metadata": {},
   "outputs": [
    {
     "data": {
      "text/html": [
       "<pre style=\"word-wrap: normal;white-space: pre;background: #fff0;line-height: 1.1;font-family: &quot;Courier New&quot;,Courier,monospace\">         ┌───┐          ┌─┐      \n",
       "q5960_0: ┤ H ├──■───────┤M├──────\n",
       "         └───┘┌─┴─┐     └╥┘┌─┐   \n",
       "q5960_1: ─────┤ X ├──■───╫─┤M├───\n",
       "              └───┘┌─┴─┐ ║ └╥┘┌─┐\n",
       "q5960_2: ──────────┤ X ├─╫──╫─┤M├\n",
       "                   └───┘ ║  ║ └╥┘\n",
       " c126: 3/════════════════╩══╩══╩═\n",
       "                         0  1  2 </pre>"
      ],
      "text/plain": [
       "         ┌───┐          ┌─┐      \n",
       "q5960_0: ┤ H ├──■───────┤M├──────\n",
       "         └───┘┌─┴─┐     └╥┘┌─┐   \n",
       "q5960_1: ─────┤ X ├──■───╫─┤M├───\n",
       "              └───┘┌─┴─┐ ║ └╥┘┌─┐\n",
       "q5960_2: ──────────┤ X ├─╫──╫─┤M├\n",
       "                   └───┘ ║  ║ └╥┘\n",
       " c126: 3/════════════════╩══╩══╩═\n",
       "                         0  1  2 "
      ]
     },
     "execution_count": 809,
     "metadata": {},
     "output_type": "execute_result"
    }
   ],
   "source": [
    "# GHZ gate\n",
    "q_ghz = QuantumRegister(3)\n",
    "c_ghz = ClassicalRegister(3)\n",
    "ghz_circ = QuantumCircuit(q_ghz, c_ghz)\n",
    "ghz_circ.h(q_ghz[0])\n",
    "ghz_circ.cx(q_ghz[0], q_ghz[1])\n",
    "ghz_circ.cx(q_ghz[1], q_ghz[2])\n",
    "ghz_circ.measure(q_ghz[0:3], c_ghz[0:3])\n",
    "ghz_circ.draw()"
   ]
  },
  {
   "cell_type": "code",
   "execution_count": 810,
   "id": "a774fe89-24f4-43bc-a066-1a58221d0588",
   "metadata": {},
   "outputs": [
    {
     "data": {
      "image/png": "[encoded data removed]",
      "text/plain": [
       "<Figure size 500.447x264.88 with 1 Axes>"
      ]
     },
     "execution_count": 810,
     "metadata": {},
     "output_type": "execute_result"
    }
   ],
   "source": [
    "circuit_drawer(ghz_circ, output='mpl', style={'backgroundcolor': '#EEEEEE'}, filename='./Images/Circuits/ghz_circ.pdf')"
   ]
  },
  {
   "cell_type": "code",
   "execution_count": 811,
   "id": "3a8d2be3-ea0a-423b-aff5-1f98bd97d059",
   "metadata": {},
   "outputs": [
    {
     "data": {
      "image/png": "[encoded data removed]",
      "text/plain": [
       "<Figure size 720x432 with 1 Axes>"
      ]
     },
     "metadata": {
      "needs_background": "light"
     },
     "output_type": "display_data"
    },
    {
     "name": "stdout",
     "output_type": "stream",
     "text": [
      " TVD Distribution\n",
      "111\n",
      "483 192\n",
      "0.14208984375\n",
      "000\n",
      "541 241\n",
      "0.28857421875\n",
      "101\n",
      "0 96\n",
      "0.33544921875\n",
      "001\n",
      "0 112\n",
      "0.39013671875\n",
      "110\n",
      "0 109\n",
      "0.443359375\n",
      "100\n",
      "0 75\n",
      "0.47998046875\n",
      "011\n",
      "0 96\n",
      "0.52685546875\n",
      "010\n",
      "0 103\n",
      "0.5771484375\n",
      "Jensen-Shannon Distance\n",
      "0.6481036789038382\n",
      "Hellinger Distance\n",
      "23.717362323509683\n",
      "23.717362323509683\n",
      "23.717362323509683\n"
     ]
    },
    {
     "data": {
      "text/plain": [
       "(0.5771484375,\n",
       " 0.6481036789038382,\n",
       " 23.717362323509683,\n",
       " 23.717362323509683,\n",
       " 23.717362323509683)"
      ]
     },
     "execution_count": 811,
     "metadata": {},
     "output_type": "execute_result"
    }
   ],
   "source": [
    "bit_error(ghz_circ, len(q_ghz), 'ghz_circ')"
   ]
  },
  {
   "cell_type": "code",
   "execution_count": 812,
   "id": "151217ad-c373-426c-b888-277fc2bb69fb",
   "metadata": {},
   "outputs": [],
   "source": [
    "def t1_t2(qubits, circ, circ_name):\n",
    "    # T1 and T2 values for qubits 0-3\n",
    "    T1s = np.random.normal(50e3, 10e3, qubits) # Sampled from normal distribution mean 50 microsec\n",
    "    T2s = np.random.normal(70e3, 10e3, qubits)  # Sampled from normal distribution mean 50 microsec\n",
    "\n",
    "# Truncate random T2s <= T1s\n",
    "    T2s = np.array([min(T2s[j], 2 * T1s[j]) for j in range(qubits)])\n",
    "\n",
    "# Instruction times (in nanoseconds)\n",
    "    time_u1 = 0   # virtual gate\n",
    "    time_u2 = 50  # (single X90 pulse)\n",
    "    time_u3 = 100 # (two X90 pulses)\n",
    "    time_cx = 300\n",
    "    time_reset = 1000  # 1 microsecond\n",
    "    time_measure = 1000 # 1 microsecond\n",
    "\n",
    "# QuantumError objects\n",
    "    errors_reset = [thermal_relaxation_error(t1, t2, time_reset)\n",
    "                for t1, t2 in zip(T1s, T2s)]\n",
    "    errors_measure = [thermal_relaxation_error(t1, t2, time_measure)\n",
    "                  for t1, t2 in zip(T1s, T2s)]\n",
    "    errors_u1  = [thermal_relaxation_error(t1, t2, time_u1)\n",
    "              for t1, t2 in zip(T1s, T2s)]\n",
    "    errors_u2  = [thermal_relaxation_error(t1, t2, time_u2)\n",
    "              for t1, t2 in zip(T1s, T2s)]\n",
    "    errors_u3  = [thermal_relaxation_error(t1, t2, time_u3)\n",
    "              for t1, t2 in zip(T1s, T2s)]\n",
    "    errors_cx = [[thermal_relaxation_error(t1a, t2a, time_cx).expand(\n",
    "             thermal_relaxation_error(t1b, t2b, time_cx))\n",
    "              for t1a, t2a in zip(T1s, T2s)]\n",
    "               for t1b, t2b in zip(T1s, T2s)]\n",
    "\n",
    "# Add errors to noise model\n",
    "    noise_thermal = NoiseModel()\n",
    "    for j in range(qubits):\n",
    "        noise_thermal.add_quantum_error(errors_reset[j], \"reset\", [j])\n",
    "        noise_thermal.add_quantum_error(errors_measure[j], \"measure\", [j])\n",
    "        noise_thermal.add_quantum_error(errors_u1[j], \"u1\", [j])\n",
    "        noise_thermal.add_quantum_error(errors_u2[j], \"u2\", [j])\n",
    "        noise_thermal.add_quantum_error(errors_u3[j], \"u3\", [j])\n",
    "        for k in range(3):\n",
    "            noise_thermal.add_quantum_error(errors_cx[j][k], \"cx\", [j, k])\n",
    "    \n",
    "    \n",
    "    ideal_sim = AerSimulator()\n",
    "    ideal_result = ideal_sim.run(circ).result()\n",
    "    ideal_counts = ideal_result.get_counts()\n",
    "    \n",
    "    sim_noise = AerSimulator(noise_model=bitflip_err)\n",
    "    \n",
    "    tnoise = transpile(circ, sim_noise)\n",
    "    result_bit_flip = sim_noise.run(tnoise).result()\n",
    "    counts_bit_flip = result_bit_flip.get_counts()\n",
    "    \n",
    "    \n",
    "    # Run the noisy simulation\n",
    "    sim_thermal = AerSimulator(noise_model=noise_thermal)\n",
    "\n",
    "    # Transpile circuit for noisy basis gates\n",
    "    tthermal = transpile(circ, sim_thermal)\n",
    "\n",
    "    # Run and get counts\n",
    "    result_thermal = sim_thermal.run(tthermal).result()\n",
    "    counts_thermal = result_thermal.get_counts()\n",
    "    legend_t = ['ideal', 'thermal']\n",
    "\n",
    "    # Plot noisy output\n",
    "    generate_plot(ideal_counts, counts_thermal, 't1_t2', circ_name)\n",
    "    \n",
    "    \n",
    "    num_binary_states = 2**qubits\n",
    "\n",
    "    # get the total counts for two dictionaries\n",
    "    N1 = sum(ideal_counts.values())\n",
    "    N2 = sum(counts_bit_flip.values())\n",
    "\n",
    "    # add missing binary states in both distributions\n",
    "    # example, dist1 = {'0': 400} and dist2 = {'1': 600}\n",
    "    # the follwoing for loop will make them both same size (i.e., with same keys)\n",
    "    # new dist1 = {'0': 400, '1': 0} and dist2 = {'0': 0, '1': 600}\n",
    "    for number in range(2**qubits):\n",
    "        # following line converts an integer to a binary string \n",
    "        # the binary string length is fixed and it is number of qubits\n",
    "        # example, if number of qubit is 4, integer 3 will be `0011`\n",
    "        binary_state = '{0:b}'.format(number).zfill(qubits)\n",
    "\n",
    "        if binary_state not in ideal_counts:\n",
    "            ideal_counts[binary_state] = 0\n",
    "        \n",
    "        if binary_state not in counts_thermal:\n",
    "            counts_thermal[binary_state] = 0\n",
    "\n",
    "    # following loop actually computes the TVD between two distributions\n",
    "    tvd = 0\n",
    "    print('TVD Distribution')\n",
    "    for key in ideal_counts:\n",
    "        print(key)\n",
    "        print(ideal_counts[key], counts_bit_flip[key])\n",
    "        tvd = tvd + 0.5 * abs(ideal_counts[key]/N1 - counts_thermal[key]/N2)\n",
    "        print(tvd)\n",
    "        \n",
    "        \n",
    "    print('Jensen-Shannon Distance')\n",
    "    from scipy.spatial import distance\n",
    "    a = ideal_counts.values()\n",
    "    b = counts_thermal.values()\n",
    "    data_a = list(a)\n",
    "    data_b = list(b)\n",
    "    arr_a = np.array(data_a)\n",
    "    arr_b = np.array(data_b)\n",
    "    jsd = distance.jensenshannon(arr_a, arr_b)\n",
    "    print(jsd)\n",
    "    \n",
    "    print('Hellinger Distance') \n",
    "    _SQRT2 = np.sqrt(2)\n",
    "    hell1 = norm(np.sqrt(arr_a) - np.sqrt(arr_b)) / _SQRT2\n",
    "    print(hell1)\n",
    "    hell2 = euclidean(np.sqrt(arr_a), np.sqrt(arr_b)) / _SQRT2\n",
    "    print(hell2)\n",
    "    hell3 = np.sqrt(np.sum((np.sqrt(arr_a) - np.sqrt(arr_b)) ** 2)) / _SQRT2\n",
    "    print(hell3)\n",
    "    \n",
    "    return tvd, jsd, hell1, hell2, hell3\n",
    "\n",
    "    "
   ]
  },
  {
   "cell_type": "code",
   "execution_count": 813,
   "id": "6e4e244f-e9f4-40e7-9e59-fff5cfb0e0de",
   "metadata": {},
   "outputs": [],
   "source": [
    "def depolar(qubits, circ, circ_name):\n",
    "\n",
    "    p_gate = 0.1\n",
    "    error_meas = pauli_error([('X',reset_error), ('I', 1 - reset_error)])\n",
    "    error_gate1 = depolarizing_error(p_gate, qubits)\n",
    "    error_gate2 = error_gate1.tensor(error_gate1)\n",
    "\n",
    "    noise_depolar = NoiseModel()\n",
    "    noise_depolar.add_all_qubit_quantum_error(error_meas, \"measure\", qubits)\n",
    "    \n",
    "    \n",
    "    ideal_sim = AerSimulator()\n",
    "    ideal_result = ideal_sim.run(circ).result()\n",
    "    ideal_counts = ideal_result.get_counts()\n",
    "    \n",
    "    sim_noise = AerSimulator(noise_model=bitflip_err)\n",
    "    \n",
    "    tnoise = transpile(circ, sim_noise)\n",
    "    result_bit_flip = sim_noise.run(tnoise).result()\n",
    "    counts_bit_flip = result_bit_flip.get_counts()\n",
    "\n",
    "    # Run the noisy simulation\n",
    "    sim_depolar = AerSimulator(noise_model=noise_depolar)\n",
    "\n",
    "    # Transpile circuit for noisy basis gates\n",
    "    depolar = transpile(circ, sim_depolar)\n",
    "\n",
    "    # Run and get counts\n",
    "    result_depolar = sim_depolar.run(depolar).result()\n",
    "    counts_depolar = result_depolar.get_counts()\n",
    "    legend_t = ['ideal', 'depolar']\n",
    "\n",
    "    # Plot noisy output\n",
    "    generate_plot(ideal_counts, counts_depolar, 'depolar', circ_name)\n",
    "    \n",
    "    num_binary_states = 2**qubits\n",
    "\n",
    "    # get the total counts for two dictionaries\n",
    "    N1 = sum(ideal_counts.values())\n",
    "    N2 = sum(counts_bit_flip.values())\n",
    "\n",
    "    # add missing binary states in both distributions\n",
    "    # example, dist1 = {'0': 400} and dist2 = {'1': 600}\n",
    "    # the follwoing for loop will make them both same size (i.e., with same keys)\n",
    "    # new dist1 = {'0': 400, '1': 0} and dist2 = {'0': 0, '1': 600}\n",
    "    for number in range(2**qubits):\n",
    "        # following line converts an integer to a binary string \n",
    "        # the binary string length is fixed and it is number of qubits\n",
    "        # example, if number of qubit is 4, integer 3 will be `0011`\n",
    "        binary_state = '{0:b}'.format(number).zfill(qubits)\n",
    "\n",
    "        if binary_state not in ideal_counts:\n",
    "            ideal_counts[binary_state] = 0\n",
    "        \n",
    "        if binary_state not in counts_bit_flip:\n",
    "            counts_bit_flip[binary_state] = 0\n",
    "\n",
    "    # following loop actually computes the TVD between two distributions\n",
    "    tvd = 0\n",
    "    print('TVD Distribution')\n",
    "    for key in ideal_counts:\n",
    "        print(key)\n",
    "        print(ideal_counts[key], counts_bit_flip[key])\n",
    "        tvd = tvd + 0.5 * abs(ideal_counts[key]/N1 - counts_bit_flip[key]/N2)\n",
    "        print(tvd)\n",
    "    \n",
    "    \n",
    "    print('Jensen-Shannon Distance')\n",
    "    from scipy.spatial import distance\n",
    "    a = ideal_counts.values()\n",
    "    b = counts_bit_flip.values()\n",
    "    data_a = list(a)\n",
    "    data_b = list(b)\n",
    "    arr_a = np.array(data_a)\n",
    "    arr_b = np.array(data_b)\n",
    "    jsd = distance.jensenshannon(arr_a, arr_b)\n",
    "    print(jsd)\n",
    "    \n",
    "    print('Hellinger Distance') \n",
    "    _SQRT2 = np.sqrt(2)\n",
    "    hell1 = norm(np.sqrt(arr_a) - np.sqrt(arr_b)) / _SQRT2\n",
    "    print(hell1)\n",
    "    hell2 = euclidean(np.sqrt(arr_a), np.sqrt(arr_b)) / _SQRT2\n",
    "    print(hell2)\n",
    "    hell3 = np.sqrt(np.sum((np.sqrt(arr_a) - np.sqrt(arr_b)) ** 2)) / _SQRT2\n",
    "    print(hell3)\n",
    "                              \n",
    "    \n",
    "    return tvd, jsd, hell1, hell2, hell3"
   ]
  },
  {
   "cell_type": "code",
   "execution_count": 814,
   "id": "02d8fb45-8aef-43bb-b8cb-0a969ec8176a",
   "metadata": {},
   "outputs": [],
   "source": [
    "def tvd_calculator(dist_1, dist_2, num_qubits):\n",
    "    \"\"\"This function accepts two counts distributions as dictionaries\n",
    "    and computes the total variation distribution (TVD) between them\n",
    "\n",
    "    Args:\n",
    "        dist1 & dist2: counts dictionary from IBM backend/simulator.\n",
    "               example, {'00': 4000, '01': 4192}\n",
    "        num_qubits: number of measured qubits in the qunatum circuits.\n",
    "\n",
    "    Returns:\n",
    "        tvd: Total variation distribution between two distributions\n",
    "    \"\"\"\n",
    "    num_binary_states = 2**num_qubits\n",
    "\n",
    "    # get the total counts for two dictionaries\n",
    "    N1 = sum(dist_1.values())\n",
    "    N2 = sum(dist_2.values())\n",
    "\n",
    "    # add missing binary states in both distributions\n",
    "    # example, dist1 = {'0': 400} and dist2 = {'1': 600}\n",
    "    # the follwoing for loop will make them both same size (i.e., with same keys)\n",
    "    # new dist1 = {'0': 400, '1': 0} and dist2 = {'0': 0, '1': 600}\n",
    "    for number in range(2**num_qubits):\n",
    "        # following line converts an integer to a binary string \n",
    "        # the binary string length is fixed and it is number of qubits\n",
    "        # example, if number of qubit is 4, integer 3 will be `0011`\n",
    "        binary_state = '{0:b}'.format(number).zfill(num_qubits)\n",
    "\n",
    "        if binary_state not in dist_1:\n",
    "            dist_1[binary_state] = 0\n",
    "        \n",
    "        if binary_state not in dist_2:\n",
    "            dist_2[binary_state] = 0\n",
    "\n",
    "    # following loop actually computes the TVD between two distributions\n",
    "    tvd = 0\n",
    "    for key in dist_1:\n",
    "        print(dist_1[key], dist_2[key])\n",
    "        tvd = tvd + 0.5 * abs(dist_1[key]/N1 - dist_2[key]/N2)\n",
    "\n",
    "    return tvd\n"
   ]
  },
  {
   "cell_type": "code",
   "execution_count": 815,
   "id": "c3414efb-ce67-48de-8a0d-df7030051b7b",
   "metadata": {},
   "outputs": [
    {
     "data": {
      "image/png": "[encoded data removed]",
      "text/plain": [
       "<Figure size 720x432 with 1 Axes>"
      ]
     },
     "metadata": {
      "needs_background": "light"
     },
     "output_type": "display_data"
    },
    {
     "name": "stdout",
     "output_type": "stream",
     "text": [
      "TVD Distribution\n",
      "111\n",
      "487 222\n",
      "0.01318359375\n",
      "000\n",
      "537 225\n",
      "0.01806640625\n",
      "001\n",
      "0 106\n",
      "0.01904296875\n",
      "010\n",
      "0 114\n",
      "0.01953125\n",
      "101\n",
      "0 98\n",
      "0.02490234375\n",
      "011\n",
      "0 84\n",
      "0.02978515625\n",
      "110\n",
      "0 78\n",
      "0.03564453125\n",
      "100\n",
      "0 97\n",
      "0.0361328125\n",
      "Jensen-Shannon Distance\n",
      "0.8265858816754696\n",
      "Hellinger Distance\n",
      "31.138686010794235\n",
      "31.138686010794235\n",
      "31.138686010794235\n"
     ]
    },
    {
     "data": {
      "text/plain": [
       "(0.0361328125,\n",
       " 0.8265858816754696,\n",
       " 31.138686010794235,\n",
       " 31.138686010794235,\n",
       " 31.138686010794235)"
      ]
     },
     "execution_count": 815,
     "metadata": {},
     "output_type": "execute_result"
    }
   ],
   "source": [
    "t1_t2(len(q_ghz), ghz_circ, 'ghz_circ')"
   ]
  },
  {
   "cell_type": "code",
   "execution_count": 816,
   "id": "be87a73a-da4f-4b4f-b7cd-b422b599c570",
   "metadata": {},
   "outputs": [
    {
     "data": {
      "image/png": "[encoded data removed]",
      "text/plain": [
       "<Figure size 720x432 with 1 Axes>"
      ]
     },
     "metadata": {
      "needs_background": "light"
     },
     "output_type": "display_data"
    },
    {
     "name": "stdout",
     "output_type": "stream",
     "text": [
      "TVD Distribution\n",
      "000\n",
      "508 243\n",
      "0.12939453125\n",
      "111\n",
      "516 234\n",
      "0.26708984375\n",
      "010\n",
      "0 73\n",
      "0.302734375\n",
      "001\n",
      "0 97\n",
      "0.35009765625\n",
      "101\n",
      "0 93\n",
      "0.3955078125\n",
      "011\n",
      "0 87\n",
      "0.43798828125\n",
      "110\n",
      "0 116\n",
      "0.49462890625\n",
      "100\n",
      "0 81\n",
      "0.5341796875\n",
      "Jensen-Shannon Distance\n",
      "0.6564050473724145\n",
      "Hellinger Distance\n",
      "24.01031951085841\n",
      "24.01031951085841\n",
      "24.01031951085841\n"
     ]
    },
    {
     "data": {
      "text/plain": [
       "(0.5341796875,\n",
       " 0.6564050473724145,\n",
       " 24.01031951085841,\n",
       " 24.01031951085841,\n",
       " 24.01031951085841)"
      ]
     },
     "execution_count": 816,
     "metadata": {},
     "output_type": "execute_result"
    }
   ],
   "source": [
    "depolar(len(q_ghz), ghz_circ, 'ghz_circ')"
   ]
  },
  {
   "cell_type": "code",
   "execution_count": 817,
   "id": "414229c7-8225-45ee-a8c4-5c2fcdde5ab9",
   "metadata": {},
   "outputs": [
    {
     "data": {
      "text/html": [
       "<pre style=\"word-wrap: normal;white-space: pre;background: #fff0;line-height: 1.1;font-family: &quot;Courier New&quot;,Courier,monospace\">         ┌──────────┐                         ┌───┐┌───┐┌───┐   ┌───┐     ┌─┐»\n",
       "q6002_0: ┤ Rx(-π/2) ├──■──────────────■───────┤ X ├┤ X ├┤ S ├─■─┤ H ├─────┤M├»\n",
       "         └──────────┘┌─┴─┐     ┌───┐  │       └─┬─┘└─┬─┘└───┘ │ ├───┤┌───┐└╥┘»\n",
       "q6002_1: ────────────┤ X ├──■──┤ H ├──┼────■────┼────■────────■─┤ S ├┤ H ├─╫─»\n",
       "                     └───┘┌─┴─┐├───┤┌─┴─┐┌─┴─┐  │  ┌───┐┌───┐┌─┐└───┘└───┘ ║ »\n",
       "q6002_2: ─────────────────┤ X ├┤ H ├┤ X ├┤ X ├──■──┤ S ├┤ H ├┤M├───────────╫─»\n",
       "                          └───┘└───┘└───┘└───┘     └───┘└───┘└╥┘           ║ »\n",
       " c127: 3/═════════════════════════════════════════════════════╩════════════╩═»\n",
       "                                                              2            0 »\n",
       "«            \n",
       "«q6002_0: ───\n",
       "«         ┌─┐\n",
       "«q6002_1: ┤M├\n",
       "«         └╥┘\n",
       "«q6002_2: ─╫─\n",
       "«          ║ \n",
       "« c127: 3/═╩═\n",
       "«          1 </pre>"
      ],
      "text/plain": [
       "         ┌──────────┐                         ┌───┐┌───┐┌───┐   ┌───┐     ┌─┐»\n",
       "q6002_0: ┤ Rx(-π/2) ├──■──────────────■───────┤ X ├┤ X ├┤ S ├─■─┤ H ├─────┤M├»\n",
       "         └──────────┘┌─┴─┐     ┌───┐  │       └─┬─┘└─┬─┘└───┘ │ ├───┤┌───┐└╥┘»\n",
       "q6002_1: ────────────┤ X ├──■──┤ H ├──┼────■────┼────■────────■─┤ S ├┤ H ├─╫─»\n",
       "                     └───┘┌─┴─┐├───┤┌─┴─┐┌─┴─┐  │  ┌───┐┌───┐┌─┐└───┘└───┘ ║ »\n",
       "q6002_2: ─────────────────┤ X ├┤ H ├┤ X ├┤ X ├──■──┤ S ├┤ H ├┤M├───────────╫─»\n",
       "                          └───┘└───┘└───┘└───┘     └───┘└───┘└╥┘           ║ »\n",
       " c127: 3/═════════════════════════════════════════════════════╩════════════╩═»\n",
       "                                                              2            0 »\n",
       "«            \n",
       "«q6002_0: ───\n",
       "«         ┌─┐\n",
       "«q6002_1: ┤M├\n",
       "«         └╥┘\n",
       "«q6002_2: ─╫─\n",
       "«          ║ \n",
       "« c127: 3/═╩═\n",
       "«          1 "
      ]
     },
     "metadata": {},
     "output_type": "display_data"
    }
   ],
   "source": [
    "#Mermin_Bell gate\n",
    "from math import pi\n",
    "mer_bell = QuantumRegister(3)\n",
    "mer_bell_c =  ClassicalRegister(3)\n",
    "mer_bell_circ = QuantumCircuit(mer_bell, mer_bell_c)\n",
    "mer_bell_circ.rx(-pi/2, mer_bell[0])\n",
    "mer_bell_circ.cx(mer_bell[0], mer_bell[1])\n",
    "mer_bell_circ.cx(mer_bell[1], mer_bell[2])\n",
    "mer_bell_circ.h(mer_bell[1])\n",
    "mer_bell_circ.h(mer_bell[2])\n",
    "mer_bell_circ.cx(mer_bell[0], mer_bell[2])\n",
    "mer_bell_circ.cx(mer_bell[1], mer_bell[2])\n",
    "mer_bell_circ.cx(mer_bell[2], mer_bell[0])\n",
    "mer_bell_circ.cx(mer_bell[1], mer_bell[0])\n",
    "mer_bell_circ.s(mer_bell[2])\n",
    "mer_bell_circ.s(mer_bell[0])\n",
    "mer_bell_circ.h(mer_bell[2])\n",
    "mer_bell_circ.cz(mer_bell[0], mer_bell[1])\n",
    "mer_bell_circ.h(mer_bell[0])\n",
    "mer_bell_circ.s(mer_bell[1])\n",
    "mer_bell_circ.h(mer_bell[1])\n",
    "mer_bell_circ.measure(mer_bell[0:3], mer_bell_c[0:3])\n",
    "display(mer_bell_circ.draw())\n",
    "                           "
   ]
  },
  {
   "cell_type": "code",
   "execution_count": 818,
   "id": "dc70daaa-c068-446f-a00e-246f06485a5f",
   "metadata": {},
   "outputs": [
    {
     "data": {
      "image/png": "[encoded data removed]",
      "text/plain": [
       "<Figure size 981.756x264.88 with 1 Axes>"
      ]
     },
     "execution_count": 818,
     "metadata": {},
     "output_type": "execute_result"
    }
   ],
   "source": [
    "circuit_drawer(mer_bell_circ, output='mpl', style={'backgroundcolor': '#EEEEEE'}, filename='./Images/Circuits/mer_bell_circ.pdf')"
   ]
  },
  {
   "cell_type": "code",
   "execution_count": 819,
   "id": "aa8a7cdd-83b0-4467-ac53-36e93ea3cd09",
   "metadata": {},
   "outputs": [
    {
     "data": {
      "image/png": "[encoded data removed]",
      "text/plain": [
       "<Figure size 720x432 with 1 Axes>"
      ]
     },
     "metadata": {
      "needs_background": "light"
     },
     "output_type": "display_data"
    },
    {
     "name": "stdout",
     "output_type": "stream",
     "text": [
      " TVD Distribution\n",
      "100\n",
      "1024 281\n",
      "0.36279296875\n",
      "001\n",
      "0 71\n",
      "0.3974609375\n",
      "101\n",
      "0 114\n",
      "0.453125\n",
      "010\n",
      "0 78\n",
      "0.4912109375\n",
      "110\n",
      "0 136\n",
      "0.5576171875\n",
      "011\n",
      "0 110\n",
      "0.611328125\n",
      "111\n",
      "0 110\n",
      "0.6650390625\n",
      "000\n",
      "0 124\n",
      "0.7255859375\n",
      "Jensen-Shannon Distance\n",
      "0.751520193626742\n",
      "Hellinger Distance\n",
      "27.465673253323985\n",
      "27.465673253323985\n",
      "27.465673253323985\n"
     ]
    },
    {
     "data": {
      "text/plain": [
       "(0.7255859375,\n",
       " 0.751520193626742,\n",
       " 27.465673253323985,\n",
       " 27.465673253323985,\n",
       " 27.465673253323985)"
      ]
     },
     "execution_count": 819,
     "metadata": {},
     "output_type": "execute_result"
    }
   ],
   "source": [
    "bit_error(mer_bell_circ, len(mer_bell), 'mermin_circ')"
   ]
  },
  {
   "cell_type": "code",
   "execution_count": 820,
   "id": "47b44cbc-14b6-4b50-a925-7e7c625af4a0",
   "metadata": {},
   "outputs": [
    {
     "data": {
      "image/png": "[encoded data removed]",
      "text/plain": [
       "<Figure size 720x432 with 1 Axes>"
      ]
     },
     "metadata": {
      "needs_background": "light"
     },
     "output_type": "display_data"
    },
    {
     "name": "stdout",
     "output_type": "stream",
     "text": [
      "TVD Distribution\n",
      "100\n",
      "1024 279\n",
      "0.02978515625\n",
      "001\n",
      "0 70\n",
      "0.0302734375\n",
      "010\n",
      "0 83\n",
      "0.03125\n",
      "110\n",
      "0 144\n",
      "0.03466796875\n",
      "000\n",
      "0 104\n",
      "0.04736328125\n",
      "011\n",
      "0 101\n",
      "0.05078125\n",
      "111\n",
      "0 130\n",
      "0.05712890625\n",
      "101\n",
      "0 113\n",
      "0.0595703125\n",
      "Jensen-Shannon Distance\n",
      "0.8302253629294643\n",
      "Hellinger Distance\n",
      "31.49603149604724\n",
      "31.49603149604724\n",
      "31.49603149604724\n"
     ]
    },
    {
     "data": {
      "text/plain": [
       "(0.0595703125,\n",
       " 0.8302253629294643,\n",
       " 31.49603149604724,\n",
       " 31.49603149604724,\n",
       " 31.49603149604724)"
      ]
     },
     "execution_count": 820,
     "metadata": {},
     "output_type": "execute_result"
    }
   ],
   "source": [
    "t1_t2(len(mer_bell), mer_bell_circ, 'mermin_circ')"
   ]
  },
  {
   "cell_type": "code",
   "execution_count": 821,
   "id": "1a9a5a6a-a4cb-4571-ae90-b6a4789a548d",
   "metadata": {},
   "outputs": [
    {
     "data": {
      "image/png": "[encoded data removed]",
      "text/plain": [
       "<Figure size 720x432 with 1 Axes>"
      ]
     },
     "metadata": {
      "needs_background": "light"
     },
     "output_type": "display_data"
    },
    {
     "name": "stdout",
     "output_type": "stream",
     "text": [
      "TVD Distribution\n",
      "100\n",
      "1024 253\n",
      "0.37646484375\n",
      "010\n",
      "0 83\n",
      "0.4169921875\n",
      "101\n",
      "0 118\n",
      "0.474609375\n",
      "001\n",
      "0 86\n",
      "0.5166015625\n",
      "110\n",
      "0 157\n",
      "0.59326171875\n",
      "000\n",
      "0 104\n",
      "0.64404296875\n",
      "111\n",
      "0 112\n",
      "0.69873046875\n",
      "011\n",
      "0 111\n",
      "0.7529296875\n",
      "Jensen-Shannon Distance\n",
      "0.741073386375318\n",
      "Hellinger Distance\n",
      "27.064111392532034\n",
      "27.064111392532034\n",
      "27.064111392532034\n"
     ]
    },
    {
     "data": {
      "text/plain": [
       "(0.7529296875,\n",
       " 0.741073386375318,\n",
       " 27.064111392532034,\n",
       " 27.064111392532034,\n",
       " 27.064111392532034)"
      ]
     },
     "execution_count": 821,
     "metadata": {},
     "output_type": "execute_result"
    }
   ],
   "source": [
    "depolar(len(mer_bell), mer_bell_circ, 'mermin_circ')"
   ]
  },
  {
   "cell_type": "code",
   "execution_count": 822,
   "id": "cd903f3b-48b2-401c-9cbd-fbe5ca8cf275",
   "metadata": {},
   "outputs": [
    {
     "data": {
      "text/html": [
       "<pre style=\"word-wrap: normal;white-space: pre;background: #fff0;line-height: 1.1;font-family: &quot;Courier New&quot;,Courier,monospace\">                ┌───┐       ┌───┐     ┌───┐                ░ ┌─┐         \n",
       "q6085_0: ───────┤ H ├───────┤ H ├──■──┤ H ├────────────────░─┤M├─────────\n",
       "         ┌──────┴───┴──────┐├───┤  │  └───┘┌───┐           ░ └╥┘┌─┐      \n",
       "q6085_1: ┤ Initialize(1,0) ├┤ H ├──■────■──┤ H ├───────────░──╫─┤M├──────\n",
       "         └──────┬───┬──────┘├───┤┌───┐  │  └───┘┌───┐      ░  ║ └╥┘┌─┐   \n",
       "q6085_2: ───────┤ X ├───────┤ H ├┤ H ├──■────■──┤ H ├──────░──╫──╫─┤M├───\n",
       "         ┌──────┴───┴──────┐├───┤└───┘       │  └───┘┌───┐ ░  ║  ║ └╥┘┌─┐\n",
       "q6085_3: ┤ Initialize(1,0) ├┤ H ├────────────■────■──┤ H ├─░──╫──╫──╫─┤M├\n",
       "         └──────┬───┬──────┘├───┤                 │  ├───┤ ░  ║  ║  ║ └╥┘\n",
       "q6085_4: ───────┤ H ├───────┤ H ├─────────────────■──┤ H ├─░──╫──╫──╫──╫─\n",
       "                └───┘       └───┘                    └───┘ ░  ║  ║  ║  ║ \n",
       " c128: 5/═════════════════════════════════════════════════════╩══╩══╩══╩═\n",
       "                                                              0  1  2  3 </pre>"
      ],
      "text/plain": [
       "                ┌───┐       ┌───┐     ┌───┐                ░ ┌─┐         \n",
       "q6085_0: ───────┤ H ├───────┤ H ├──■──┤ H ├────────────────░─┤M├─────────\n",
       "         ┌──────┴───┴──────┐├───┤  │  └───┘┌───┐           ░ └╥┘┌─┐      \n",
       "q6085_1: ┤ Initialize(1,0) ├┤ H ├──■────■──┤ H ├───────────░──╫─┤M├──────\n",
       "         └──────┬───┬──────┘├───┤┌───┐  │  └───┘┌───┐      ░  ║ └╥┘┌─┐   \n",
       "q6085_2: ───────┤ X ├───────┤ H ├┤ H ├──■────■──┤ H ├──────░──╫──╫─┤M├───\n",
       "         ┌──────┴───┴──────┐├───┤└───┘       │  └───┘┌───┐ ░  ║  ║ └╥┘┌─┐\n",
       "q6085_3: ┤ Initialize(1,0) ├┤ H ├────────────■────■──┤ H ├─░──╫──╫──╫─┤M├\n",
       "         └──────┬───┬──────┘├───┤                 │  ├───┤ ░  ║  ║  ║ └╥┘\n",
       "q6085_4: ───────┤ H ├───────┤ H ├─────────────────■──┤ H ├─░──╫──╫──╫──╫─\n",
       "                └───┘       └───┘                    └───┘ ░  ║  ║  ║  ║ \n",
       " c128: 5/═════════════════════════════════════════════════════╩══╩══╩══╩═\n",
       "                                                              0  1  2  3 "
      ]
     },
     "metadata": {},
     "output_type": "display_data"
    }
   ],
   "source": [
    "#phase code\n",
    "phase_q = QuantumRegister(5)\n",
    "phase_c = ClassicalRegister(5)\n",
    "phase_circ = QuantumCircuit(phase_q, phase_c)\n",
    "phase_circ.h(phase_q[0])\n",
    "phase_circ.initialize([1,0], 1)\n",
    "phase_circ.x(phase_q[2])\n",
    "phase_circ.initialize([1,0], 3)\n",
    "phase_circ.h(phase_q[4])\n",
    "phase_circ.h(phase_q[0:5])\n",
    "phase_circ.cz(phase_q[0], phase_q[1])\n",
    "phase_circ.h(phase_q[2])\n",
    "phase_circ.h(phase_q[0])\n",
    "phase_circ.cz(phase_q[1], phase_q[2])\n",
    "phase_circ.h(phase_q[1])\n",
    "phase_circ.cz(phase_q[2], phase_q[3])\n",
    "phase_circ.h(phase_q[2])\n",
    "phase_circ.cz(phase_q[3], phase_q[4])\n",
    "phase_circ.h(phase_q[3])\n",
    "phase_circ.h(phase_q[4])\n",
    "phase_circ.barrier()\n",
    "phase_circ.measure(phase_q[0:4], phase_c[0:4])\n",
    "display(phase_circ.draw())\n"
   ]
  },
  {
   "cell_type": "code",
   "execution_count": 823,
   "id": "1446e51f-0e2a-441a-ade7-ac62461cd9a8",
   "metadata": {},
   "outputs": [
    {
     "data": {
      "image/png": "[encoded data removed]",
      "text/plain": [
       "<Figure size 861.501x385.28 with 1 Axes>"
      ]
     },
     "execution_count": 823,
     "metadata": {},
     "output_type": "execute_result"
    }
   ],
   "source": [
    "circuit_drawer(phase_circ, output='mpl', style={'backgroundcolor': '#EEEEEE'}, filename='./Images/Circuits/phase_circ.pdf')"
   ]
  },
  {
   "cell_type": "code",
   "execution_count": 824,
   "id": "2f5c5418-b418-4e99-b2f2-5bfe38d81eed",
   "metadata": {},
   "outputs": [
    {
     "data": {
      "image/png": "[encoded data removed]",
      "text/plain": [
       "<Figure size 720x432 with 1 Axes>"
      ]
     },
     "metadata": {
      "needs_background": "light"
     },
     "output_type": "display_data"
    },
    {
     "name": "stdout",
     "output_type": "stream",
     "text": [
      " TVD Distribution\n",
      "01110\n",
      "254 135\n",
      "0.05810546875\n",
      "01011\n",
      "254 125\n",
      "0.12109375\n",
      "01111\n",
      "278 130\n",
      "0.193359375\n",
      "01010\n",
      "238 129\n",
      "0.24658203125\n",
      "00001\n",
      "0 21\n",
      "0.2568359375\n",
      "00101\n",
      "0 10\n",
      "0.26171875\n",
      "01100\n",
      "0 53\n",
      "0.28759765625\n",
      "00000\n",
      "0 21\n",
      "0.2978515625\n",
      "00011\n",
      "0 60\n",
      "0.3271484375\n",
      "00111\n",
      "0 60\n",
      "0.3564453125\n",
      "01000\n",
      "0 46\n",
      "0.37890625\n",
      "00010\n",
      "0 64\n",
      "0.41015625\n",
      "00100\n",
      "0 19\n",
      "0.41943359375\n",
      "00110\n",
      "0 60\n",
      "0.44873046875\n",
      "01101\n",
      "0 50\n",
      "0.47314453125\n",
      "01001\n",
      "0 41\n",
      "0.4931640625\n",
      "10000\n",
      "0 0\n",
      "0.4931640625\n",
      "10001\n",
      "0 0\n",
      "0.4931640625\n",
      "10010\n",
      "0 0\n",
      "0.4931640625\n",
      "10011\n",
      "0 0\n",
      "0.4931640625\n",
      "10100\n",
      "0 0\n",
      "0.4931640625\n",
      "10101\n",
      "0 0\n",
      "0.4931640625\n",
      "10110\n",
      "0 0\n",
      "0.4931640625\n",
      "10111\n",
      "0 0\n",
      "0.4931640625\n",
      "11000\n",
      "0 0\n",
      "0.4931640625\n",
      "11001\n",
      "0 0\n",
      "0.4931640625\n",
      "11010\n",
      "0 0\n",
      "0.4931640625\n",
      "11011\n",
      "0 0\n",
      "0.4931640625\n",
      "11100\n",
      "0 0\n",
      "0.4931640625\n",
      "11101\n",
      "0 0\n",
      "0.4931640625\n",
      "11110\n",
      "0 0\n",
      "0.4931640625\n",
      "11111\n",
      "0 0\n",
      "0.4931640625\n",
      "Jensen-Shannon Distance\n",
      "0.7276451351905225\n",
      "Hellinger Distance\n",
      "26.617421457152265\n",
      "26.617421457152265\n",
      "26.617421457152265\n"
     ]
    },
    {
     "data": {
      "text/plain": [
       "(0.4931640625,\n",
       " 0.7276451351905225,\n",
       " 26.617421457152265,\n",
       " 26.617421457152265,\n",
       " 26.617421457152265)"
      ]
     },
     "execution_count": 824,
     "metadata": {},
     "output_type": "execute_result"
    }
   ],
   "source": [
    "bit_error(phase_circ, len(phase_q), 'phase_circ')"
   ]
  },
  {
   "cell_type": "code",
   "execution_count": 825,
   "id": "88060636-0ec8-417d-9473-e8dd688eb4dd",
   "metadata": {},
   "outputs": [
    {
     "data": {
      "image/png": "[encoded data removed]",
      "text/plain": [
       "<Figure size 720x432 with 1 Axes>"
      ]
     },
     "metadata": {
      "needs_background": "light"
     },
     "output_type": "display_data"
    },
    {
     "name": "stdout",
     "output_type": "stream",
     "text": [
      "TVD Distribution\n",
      "01011\n",
      "253 127\n",
      "0.0048828125\n",
      "01111\n",
      "245 138\n",
      "0.00537109375\n",
      "01010\n",
      "272 137\n",
      "0.01611328125\n",
      "01110\n",
      "254 132\n",
      "0.029296875\n",
      "01101\n",
      "0 46\n",
      "0.0302734375\n",
      "00001\n",
      "0 21\n",
      "0.03076171875\n",
      "01100\n",
      "0 57\n",
      "0.03369140625\n",
      "00110\n",
      "0 45\n",
      "0.037109375\n",
      "01000\n",
      "0 58\n",
      "0.0400390625\n",
      "01001\n",
      "0 57\n",
      "0.04638671875\n",
      "00000\n",
      "0 12\n",
      "0.046875\n",
      "00111\n",
      "0 42\n",
      "0.05126953125\n",
      "00011\n",
      "0 69\n",
      "0.0546875\n",
      "00010\n",
      "0 42\n",
      "0.05859375\n",
      "00100\n",
      "0 24\n",
      "0.05859375\n",
      "00101\n",
      "0 17\n",
      "0.05859375\n",
      "10000\n"
     ]
    },
    {
     "ename": "KeyError",
     "evalue": "'10000'",
     "output_type": "error",
     "traceback": [
      "\u001b[0;31m---------------------------------------------------------------------------\u001b[0m",
      "\u001b[0;31mKeyError\u001b[0m                                  Traceback (most recent call last)",
      "Input \u001b[0;32mIn [825]\u001b[0m, in \u001b[0;36m<cell line: 1>\u001b[0;34m()\u001b[0m\n\u001b[0;32m----> 1\u001b[0m \u001b[43mt1_t2\u001b[49m\u001b[43m(\u001b[49m\u001b[38;5;28;43mlen\u001b[39;49m\u001b[43m(\u001b[49m\u001b[43mphase_q\u001b[49m\u001b[43m)\u001b[49m\u001b[43m,\u001b[49m\u001b[43m \u001b[49m\u001b[43mphase_circ\u001b[49m\u001b[43m,\u001b[49m\u001b[43m \u001b[49m\u001b[38;5;124;43m'\u001b[39;49m\u001b[38;5;124;43mphase_circ\u001b[39;49m\u001b[38;5;124;43m'\u001b[39;49m\u001b[43m)\u001b[49m\n",
      "Input \u001b[0;32mIn [812]\u001b[0m, in \u001b[0;36mt1_t2\u001b[0;34m(qubits, circ, circ_name)\u001b[0m\n\u001b[1;32m     96\u001b[0m \u001b[38;5;28;01mfor\u001b[39;00m key \u001b[38;5;129;01min\u001b[39;00m ideal_counts:\n\u001b[1;32m     97\u001b[0m     \u001b[38;5;28mprint\u001b[39m(key)\n\u001b[0;32m---> 98\u001b[0m     \u001b[38;5;28mprint\u001b[39m(ideal_counts[key], \u001b[43mcounts_bit_flip\u001b[49m\u001b[43m[\u001b[49m\u001b[43mkey\u001b[49m\u001b[43m]\u001b[49m)\n\u001b[1;32m     99\u001b[0m     tvd \u001b[38;5;241m=\u001b[39m tvd \u001b[38;5;241m+\u001b[39m \u001b[38;5;241m0.5\u001b[39m \u001b[38;5;241m*\u001b[39m \u001b[38;5;28mabs\u001b[39m(ideal_counts[key]\u001b[38;5;241m/\u001b[39mN1 \u001b[38;5;241m-\u001b[39m counts_thermal[key]\u001b[38;5;241m/\u001b[39mN2)\n\u001b[1;32m    100\u001b[0m     \u001b[38;5;28mprint\u001b[39m(tvd)\n",
      "\u001b[0;31mKeyError\u001b[0m: '10000'"
     ]
    }
   ],
   "source": [
    "t1_t2(len(phase_q), phase_circ, 'phase_circ')"
   ]
  },
  {
   "cell_type": "code",
   "execution_count": 826,
   "id": "0055b7d1-859c-43cd-b797-0c66aa1ff430",
   "metadata": {},
   "outputs": [
    {
     "data": {
      "image/png": "[encoded data removed]",
      "text/plain": [
       "<Figure size 720x432 with 1 Axes>"
      ]
     },
     "metadata": {
      "needs_background": "light"
     },
     "output_type": "display_data"
    },
    {
     "name": "stdout",
     "output_type": "stream",
     "text": [
      "TVD Distribution\n",
      "01111\n",
      "250 127\n",
      "0.06005859375\n",
      "01011\n",
      "273 116\n",
      "0.13671875\n",
      "01010\n",
      "239 130\n",
      "0.18994140625\n",
      "01110\n",
      "262 142\n",
      "0.24853515625\n",
      "01100\n",
      "0 46\n",
      "0.27099609375\n",
      "01101\n",
      "0 38\n",
      "0.28955078125\n",
      "01001\n",
      "0 55\n",
      "0.31640625\n",
      "00000\n",
      "0 29\n",
      "0.33056640625\n",
      "00111\n",
      "0 55\n",
      "0.357421875\n",
      "00011\n",
      "0 58\n",
      "0.3857421875\n",
      "00110\n",
      "0 54\n",
      "0.412109375\n",
      "00010\n",
      "0 57\n",
      "0.43994140625\n",
      "01000\n",
      "0 55\n",
      "0.466796875\n",
      "00001\n",
      "0 23\n",
      "0.47802734375\n",
      "00100\n",
      "0 23\n",
      "0.4892578125\n",
      "00101\n",
      "0 16\n",
      "0.4970703125\n",
      "10000\n",
      "0 0\n",
      "0.4970703125\n",
      "10001\n",
      "0 0\n",
      "0.4970703125\n",
      "10010\n",
      "0 0\n",
      "0.4970703125\n",
      "10011\n",
      "0 0\n",
      "0.4970703125\n",
      "10100\n",
      "0 0\n",
      "0.4970703125\n",
      "10101\n",
      "0 0\n",
      "0.4970703125\n",
      "10110\n",
      "0 0\n",
      "0.4970703125\n",
      "10111\n",
      "0 0\n",
      "0.4970703125\n",
      "11000\n",
      "0 0\n",
      "0.4970703125\n",
      "11001\n",
      "0 0\n",
      "0.4970703125\n",
      "11010\n",
      "0 0\n",
      "0.4970703125\n",
      "11011\n",
      "0 0\n",
      "0.4970703125\n",
      "11100\n",
      "0 0\n",
      "0.4970703125\n",
      "11101\n",
      "0 0\n",
      "0.4970703125\n",
      "11110\n",
      "0 0\n",
      "0.4970703125\n",
      "11111\n",
      "0 0\n",
      "0.4970703125\n",
      "Jensen-Shannon Distance\n",
      "0.7001547800816312\n",
      "Hellinger Distance\n",
      "25.57742742113534\n",
      "25.57742742113534\n",
      "25.57742742113534\n"
     ]
    },
    {
     "data": {
      "text/plain": [
       "(0.4970703125,\n",
       " 0.7001547800816312,\n",
       " 25.57742742113534,\n",
       " 25.57742742113534,\n",
       " 25.57742742113534)"
      ]
     },
     "execution_count": 826,
     "metadata": {},
     "output_type": "execute_result"
    }
   ],
   "source": [
    "depolar(len(phase_q), phase_circ, 'phase_circ')"
   ]
  },
  {
   "cell_type": "code",
   "execution_count": 827,
   "id": "f785786d-0f57-4593-a935-b144de12563e",
   "metadata": {},
   "outputs": [
    {
     "data": {
      "text/html": [
       "<pre style=\"word-wrap: normal;white-space: pre;background: #fff0;line-height: 1.1;font-family: &quot;Courier New&quot;,Courier,monospace\">          ░                     ░                      ░ ┌─┐            \n",
       "q6180_0: ─░─────────────────────░───■──────────────────░─┤M├────────────\n",
       "          ░ ┌─────────────────┐ ░ ┌─┴─┐┌───┐           ░ └╥┘┌─┐         \n",
       "q6180_1: ─░─┤ Initialize(1,0) ├─░─┤ X ├┤ X ├───────────░──╫─┤M├─────────\n",
       "          ░ └──────┬───┬──────┘ ░ └───┘└─┬─┘           ░  ║ └╥┘┌─┐      \n",
       "q6180_2: ─░────────┤ X ├────────░────────■────■────────░──╫──╫─┤M├──────\n",
       "          ░ ┌──────┴───┴──────┐ ░           ┌─┴─┐┌───┐ ░  ║  ║ └╥┘┌─┐   \n",
       "q6180_3: ─░─┤ Initialize(1,0) ├─░───────────┤ X ├┤ X ├─░──╫──╫──╫─┤M├───\n",
       "          ░ └─────────────────┘ ░           └───┘└─┬─┘ ░  ║  ║  ║ └╥┘┌─┐\n",
       "q6180_4: ─░─────────────────────░──────────────────■───░──╫──╫──╫──╫─┤M├\n",
       "          ░                     ░                      ░  ║  ║  ║  ║ └╥┘\n",
       " c129: 5/═════════════════════════════════════════════════╩══╩══╩══╩══╩═\n",
       "                                                          0  1  2  3  4 </pre>"
      ],
      "text/plain": [
       "          ░                     ░                      ░ ┌─┐            \n",
       "q6180_0: ─░─────────────────────░───■──────────────────░─┤M├────────────\n",
       "          ░ ┌─────────────────┐ ░ ┌─┴─┐┌───┐           ░ └╥┘┌─┐         \n",
       "q6180_1: ─░─┤ Initialize(1,0) ├─░─┤ X ├┤ X ├───────────░──╫─┤M├─────────\n",
       "          ░ └──────┬───┬──────┘ ░ └───┘└─┬─┘           ░  ║ └╥┘┌─┐      \n",
       "q6180_2: ─░────────┤ X ├────────░────────■────■────────░──╫──╫─┤M├──────\n",
       "          ░ ┌──────┴───┴──────┐ ░           ┌─┴─┐┌───┐ ░  ║  ║ └╥┘┌─┐   \n",
       "q6180_3: ─░─┤ Initialize(1,0) ├─░───────────┤ X ├┤ X ├─░──╫──╫──╫─┤M├───\n",
       "          ░ └─────────────────┘ ░           └───┘└─┬─┘ ░  ║  ║  ║ └╥┘┌─┐\n",
       "q6180_4: ─░─────────────────────░──────────────────■───░──╫──╫──╫──╫─┤M├\n",
       "          ░                     ░                      ░  ║  ║  ║  ║ └╥┘\n",
       " c129: 5/═════════════════════════════════════════════════╩══╩══╩══╩══╩═\n",
       "                                                          0  1  2  3  4 "
      ]
     },
     "metadata": {},
     "output_type": "display_data"
    }
   ],
   "source": [
    "#bit code\n",
    "bit_q  = QuantumRegister(5)\n",
    "bit_c = ClassicalRegister(5)\n",
    "bit_circ = QuantumCircuit(bit_q,bit_c)\n",
    "bit_circ.barrier()\n",
    "bit_circ.initialize([1,0], 1)\n",
    "bit_circ.x(bit_q[2])\n",
    "bit_circ.initialize([1,0], 3)\n",
    "bit_circ.barrier()\n",
    "\n",
    "bit_circ.cx(bit_q[0], bit_q[1])\n",
    "bit_circ.cx(bit_q[2], bit_q[1])\n",
    "bit_circ.cx(bit_q[2], bit_q[3])\n",
    "bit_circ.cx(bit_q[4], bit_q[3])\n",
    "bit_circ.barrier()\n",
    "bit_circ.measure(bit_q[0:5],bit_c[0:5])\n",
    "display(bit_circ.draw())\n"
   ]
  },
  {
   "cell_type": "code",
   "execution_count": 828,
   "id": "d73d3d56-d411-46bf-a2e9-6855975a5754",
   "metadata": {},
   "outputs": [
    {
     "data": {
      "image/png": "[encoded data removed]",
      "text/plain": [
       "<Figure size 921.556x385.28 with 1 Axes>"
      ]
     },
     "execution_count": 828,
     "metadata": {},
     "output_type": "execute_result"
    }
   ],
   "source": [
    "circuit_drawer(bit_circ, output='mpl', style={'backgroundcolor': '#EEEEEE'}, filename='./Images/Circuits/bit_circ.pdf')"
   ]
  },
  {
   "cell_type": "code",
   "execution_count": 829,
   "id": "5ed0fa41-f779-46fa-b448-67c6dcef8016",
   "metadata": {},
   "outputs": [
    {
     "data": {
      "image/png": "[encoded data removed]",
      "text/plain": [
       "<Figure size 720x432 with 1 Axes>"
      ]
     },
     "metadata": {
      "needs_background": "light"
     },
     "output_type": "display_data"
    },
    {
     "name": "stdout",
     "output_type": "stream",
     "text": [
      " TVD Distribution\n",
      "01110\n",
      "1024 231\n",
      "0.38720703125\n",
      "11001\n",
      "0 4\n",
      "0.38916015625\n",
      "10011\n",
      "0 3\n",
      "0.390625\n",
      "11010\n",
      "0 23\n",
      "0.40185546875\n",
      "11000\n",
      "0 9\n",
      "0.40625\n",
      "10111\n",
      "0 7\n",
      "0.40966796875\n",
      "11011\n",
      "0 13\n",
      "0.416015625\n",
      "11101\n",
      "0 10\n",
      "0.4208984375\n",
      "10100\n",
      "0 13\n",
      "0.42724609375\n",
      "10101\n",
      "0 3\n",
      "0.4287109375\n",
      "10000\n",
      "0 8\n",
      "0.4326171875\n",
      "00110\n",
      "0 87\n",
      "0.47509765625\n",
      "00011\n",
      "0 9\n",
      "0.4794921875\n",
      "00100\n",
      "0 33\n",
      "0.49560546875\n",
      "01011\n",
      "0 25\n",
      "0.5078125\n",
      "00000\n",
      "0 25\n",
      "0.52001953125\n",
      "00111\n",
      "0 18\n",
      "0.52880859375\n",
      "11100\n",
      "0 23\n",
      "0.5400390625\n",
      "11110\n",
      "0 71\n",
      "0.57470703125\n",
      "00010\n",
      "0 37\n",
      "0.5927734375\n",
      "10001\n",
      "0 4\n",
      "0.5947265625\n",
      "01010\n",
      "0 76\n",
      "0.6318359375\n",
      "01111\n",
      "0 66\n",
      "0.6640625\n",
      "11111\n",
      "0 18\n",
      "0.6728515625\n",
      "10110\n",
      "0 26\n",
      "0.685546875\n",
      "10010\n",
      "0 14\n",
      "0.6923828125\n",
      "01000\n",
      "0 26\n",
      "0.705078125\n",
      "01001\n",
      "0 10\n",
      "0.7099609375\n",
      "00101\n",
      "0 19\n",
      "0.71923828125\n",
      "01100\n",
      "0 82\n",
      "0.75927734375\n",
      "00001\n",
      "0 6\n",
      "0.76220703125\n",
      "01101\n",
      "0 25\n",
      "0.7744140625\n",
      "Jensen-Shannon Distance\n",
      "0.8248392698725042\n",
      "Hellinger Distance\n",
      "30.983866769659333\n",
      "30.983866769659333\n",
      "30.983866769659333\n"
     ]
    },
    {
     "data": {
      "text/plain": [
       "(0.7744140625,\n",
       " 0.8248392698725042,\n",
       " 30.983866769659333,\n",
       " 30.983866769659333,\n",
       " 30.983866769659333)"
      ]
     },
     "execution_count": 829,
     "metadata": {},
     "output_type": "execute_result"
    }
   ],
   "source": [
    "bit_error(bit_circ, len(bit_q), 'bit_circ')"
   ]
  },
  {
   "cell_type": "code",
   "execution_count": 830,
   "id": "4da7b531-9188-4d35-9470-dff56f90c41f",
   "metadata": {},
   "outputs": [
    {
     "data": {
      "image/png": "[encoded data removed]",
      "text/plain": [
       "<Figure size 720x432 with 1 Axes>"
      ]
     },
     "metadata": {
      "needs_background": "light"
     },
     "output_type": "display_data"
    },
    {
     "name": "stdout",
     "output_type": "stream",
     "text": [
      "TVD Distribution\n",
      "01110\n",
      "1024 209\n",
      "0.0341796875\n",
      "00010\n",
      "0 41\n",
      "0.03564453125\n",
      "01000\n",
      "0 36\n",
      "0.0361328125\n",
      "01010\n",
      "0 62\n",
      "0.046875\n",
      "01100\n",
      "0 86\n",
      "0.05615234375\n",
      "00100\n",
      "0 39\n",
      "0.05712890625\n",
      "00110\n",
      "0 107\n",
      "0.0673828125\n",
      "00000\n",
      "0 27\n",
      "0.068359375\n",
      "00001\n",
      "0 4\n",
      "0.068359375\n",
      "00011\n",
      "0 17\n",
      "0.068359375\n",
      "00101\n",
      "0 10\n",
      "0.068359375\n",
      "00111\n",
      "0 26\n",
      "0.068359375\n",
      "01001\n",
      "0 9\n",
      "0.068359375\n",
      "01011\n",
      "0 18\n",
      "0.068359375\n",
      "01101\n",
      "0 23\n",
      "0.068359375\n",
      "01111\n",
      "0 73\n",
      "0.068359375\n",
      "10000\n",
      "0 6\n",
      "0.068359375\n",
      "10001\n",
      "0 2\n",
      "0.068359375\n",
      "10010\n",
      "0 13\n",
      "0.068359375\n",
      "10011\n",
      "0 1\n",
      "0.068359375\n",
      "10100\n",
      "0 11\n",
      "0.068359375\n",
      "10101\n",
      "0 1\n",
      "0.068359375\n",
      "10110\n",
      "0 34\n",
      "0.068359375\n",
      "10111\n",
      "0 2\n",
      "0.068359375\n",
      "11000\n",
      "0 10\n",
      "0.068359375\n",
      "11001\n",
      "0 4\n",
      "0.068359375\n",
      "11010\n",
      "0 30\n",
      "0.068359375\n",
      "11011\n",
      "0 2\n",
      "0.068359375\n",
      "11100\n",
      "0 18\n",
      "0.068359375\n",
      "11101\n",
      "0 7\n",
      "0.068359375\n",
      "11110\n",
      "0 80\n",
      "0.068359375\n",
      "11111\n",
      "0 16\n",
      "0.068359375\n",
      "Jensen-Shannon Distance\n",
      "0.8265203961954842\n",
      "Hellinger Distance\n",
      "31.12192754566779\n",
      "31.12192754566779\n",
      "31.1219275456678\n"
     ]
    },
    {
     "data": {
      "text/plain": [
       "(0.068359375,\n",
       " 0.8265203961954842,\n",
       " 31.12192754566779,\n",
       " 31.12192754566779,\n",
       " 31.1219275456678)"
      ]
     },
     "execution_count": 830,
     "metadata": {},
     "output_type": "execute_result"
    }
   ],
   "source": [
    "t1_t2(len(bit_q), bit_circ, 'bit_circ')"
   ]
  },
  {
   "cell_type": "code",
   "execution_count": 831,
   "id": "09f1601e-669e-437a-99cc-bf7109dcc82c",
   "metadata": {},
   "outputs": [
    {
     "data": {
      "image/png": "[encoded data removed]",
      "text/plain": [
       "<Figure size 720x432 with 1 Axes>"
      ]
     },
     "metadata": {
      "needs_background": "light"
     },
     "output_type": "display_data"
    },
    {
     "name": "stdout",
     "output_type": "stream",
     "text": [
      "TVD Distribution\n",
      "01110\n",
      "1024 229\n",
      "0.38818359375\n",
      "01000\n",
      "0 42\n",
      "0.40869140625\n",
      "10010\n",
      "0 9\n",
      "0.4130859375\n",
      "01011\n",
      "0 22\n",
      "0.423828125\n",
      "00111\n",
      "0 33\n",
      "0.43994140625\n",
      "10110\n",
      "0 20\n",
      "0.44970703125\n",
      "00010\n",
      "0 42\n",
      "0.47021484375\n",
      "11110\n",
      "0 60\n",
      "0.49951171875\n",
      "11100\n",
      "0 28\n",
      "0.51318359375\n",
      "01101\n",
      "0 27\n",
      "0.5263671875\n",
      "11010\n",
      "0 16\n",
      "0.5341796875\n",
      "01100\n",
      "0 86\n",
      "0.576171875\n",
      "00100\n",
      "0 50\n",
      "0.6005859375\n",
      "00110\n",
      "0 98\n",
      "0.6484375\n",
      "01111\n",
      "0 58\n",
      "0.6767578125\n",
      "01010\n",
      "0 73\n",
      "0.71240234375\n",
      "00000\n",
      "0 15\n",
      "0.7197265625\n",
      "00001\n",
      "0 10\n",
      "0.724609375\n",
      "00011\n",
      "0 7\n",
      "0.72802734375\n",
      "00101\n",
      "0 10\n",
      "0.73291015625\n",
      "01001\n",
      "0 9\n",
      "0.7373046875\n",
      "10000\n",
      "0 5\n",
      "0.73974609375\n",
      "10001\n",
      "0 1\n",
      "0.740234375\n",
      "10011\n",
      "0 3\n",
      "0.74169921875\n",
      "10100\n",
      "0 10\n",
      "0.74658203125\n",
      "10101\n",
      "0 2\n",
      "0.74755859375\n",
      "10111\n",
      "0 11\n",
      "0.7529296875\n",
      "11000\n",
      "0 8\n",
      "0.7568359375\n",
      "11001\n",
      "0 4\n",
      "0.7587890625\n",
      "11011\n",
      "0 5\n",
      "0.76123046875\n",
      "11101\n",
      "0 9\n",
      "0.765625\n",
      "11111\n",
      "0 22\n",
      "0.7763671875\n",
      "Jensen-Shannon Distance\n",
      "0.8187016966724694\n",
      "Hellinger Distance\n",
      "30.553074018961194\n",
      "30.553074018961194\n",
      "30.553074018961194\n"
     ]
    },
    {
     "data": {
      "text/plain": [
       "(0.7763671875,\n",
       " 0.8187016966724694,\n",
       " 30.553074018961194,\n",
       " 30.553074018961194,\n",
       " 30.553074018961194)"
      ]
     },
     "execution_count": 831,
     "metadata": {},
     "output_type": "execute_result"
    }
   ],
   "source": [
    "depolar(len(bit_q), bit_circ, 'bit_circ')"
   ]
  },
  {
   "cell_type": "code",
   "execution_count": 832,
   "id": "c9f2d95f-5246-4e32-875a-b4b85f16d7a6",
   "metadata": {},
   "outputs": [
    {
     "data": {
      "text/html": [
       "<pre style=\"word-wrap: normal;white-space: pre;background: #fff0;line-height: 1.1;font-family: &quot;Courier New&quot;,Courier,monospace\">         ┌───┐                ┌───┐                                          »\n",
       "q6256_0: ┤ H ├──■─────────────┤ X ├──■─────────────────────────■─────────────»\n",
       "         ├───┤┌─┴─┐┌─────────┐└─┬─┘┌─┴─┐           ┌───┐     ┌─┴─┐┌─────────┐»\n",
       "q6256_1: ┤ H ├┤ X ├┤ Rz(π/2) ├──■──┤ X ├─────■─────┤ X ├──■──┤ X ├┤ Rz(π/2) ├»\n",
       "         ├───┤└───┘├─────────┤┌───┐└───┘   ┌─┴─┐   └─┬─┘┌─┴─┐└───┘└─────────┘»\n",
       "q6256_2: ┤ H ├──■──┤ Rz(π/2) ├┤ X ├──■─────┤ X ├─────■──┤ X ├──■─────────────»\n",
       "         ├───┤┌─┴─┐└─────────┘└─┬─┘┌─┴─┐┌──┴───┴──┐     └───┘┌─┴─┐┌─────────┐»\n",
       "q6256_3: ┤ H ├┤ X ├─────────────■──┤ X ├┤ Rz(π/2) ├──────────┤ X ├┤ Rz(π/2) ├»\n",
       "         └───┘└───┘                └───┘└─────────┘          └───┘└─────────┘»\n",
       " c130: 4/════════════════════════════════════════════════════════════════════»\n",
       "                                                                             »\n",
       "«         ┌───┐     ┌─────────┐                                 ░ ┌─┐         \n",
       "«q6256_0: ┤ X ├──■──┤ Rz(π/3) ├─────────────────────────────────░─┤M├─────────\n",
       "«         └─┬─┘┌─┴─┐└─────────┘           ┌───┐     ┌─────────┐ ░ └╥┘┌─┐      \n",
       "«q6256_1: ──■──┤ X ├─────■────────────────┤ X ├──■──┤ Rz(π/3) ├─░──╫─┤M├──────\n",
       "«         ┌───┐└───┘   ┌─┴─┐   ┌─────────┐└─┬─┘┌─┴─┐├─────────┤ ░  ║ └╥┘┌─┐   \n",
       "«q6256_2: ┤ X ├──■─────┤ X ├───┤ Rz(π/2) ├──■──┤ X ├┤ Rz(π/3) ├─░──╫──╫─┤M├───\n",
       "«         └─┬─┘┌─┴─┐┌──┴───┴──┐└─────────┘     └───┘└─────────┘ ░  ║  ║ └╥┘┌─┐\n",
       "«q6256_3: ──■──┤ X ├┤ Rz(π/3) ├─────────────────────────────────░──╫──╫──╫─┤M├\n",
       "«              └───┘└─────────┘                                 ░  ║  ║  ║ └╥┘\n",
       "« c130: 4/═════════════════════════════════════════════════════════╩══╩══╩══╩═\n",
       "«                                                                  0  1  2  3 </pre>"
      ],
      "text/plain": [
       "         ┌───┐                ┌───┐                                          »\n",
       "q6256_0: ┤ H ├──■─────────────┤ X ├──■─────────────────────────■─────────────»\n",
       "         ├───┤┌─┴─┐┌─────────┐└─┬─┘┌─┴─┐           ┌───┐     ┌─┴─┐┌─────────┐»\n",
       "q6256_1: ┤ H ├┤ X ├┤ Rz(π/2) ├──■──┤ X ├─────■─────┤ X ├──■──┤ X ├┤ Rz(π/2) ├»\n",
       "         ├───┤└───┘├─────────┤┌───┐└───┘   ┌─┴─┐   └─┬─┘┌─┴─┐└───┘└─────────┘»\n",
       "q6256_2: ┤ H ├──■──┤ Rz(π/2) ├┤ X ├──■─────┤ X ├─────■──┤ X ├──■─────────────»\n",
       "         ├───┤┌─┴─┐└─────────┘└─┬─┘┌─┴─┐┌──┴───┴──┐     └───┘┌─┴─┐┌─────────┐»\n",
       "q6256_3: ┤ H ├┤ X ├─────────────■──┤ X ├┤ Rz(π/2) ├──────────┤ X ├┤ Rz(π/2) ├»\n",
       "         └───┘└───┘                └───┘└─────────┘          └───┘└─────────┘»\n",
       " c130: 4/════════════════════════════════════════════════════════════════════»\n",
       "                                                                             »\n",
       "«         ┌───┐     ┌─────────┐                                 ░ ┌─┐         \n",
       "«q6256_0: ┤ X ├──■──┤ Rz(π/3) ├─────────────────────────────────░─┤M├─────────\n",
       "«         └─┬─┘┌─┴─┐└─────────┘           ┌───┐     ┌─────────┐ ░ └╥┘┌─┐      \n",
       "«q6256_1: ──■──┤ X ├─────■────────────────┤ X ├──■──┤ Rz(π/3) ├─░──╫─┤M├──────\n",
       "«         ┌───┐└───┘   ┌─┴─┐   ┌─────────┐└─┬─┘┌─┴─┐├─────────┤ ░  ║ └╥┘┌─┐   \n",
       "«q6256_2: ┤ X ├──■─────┤ X ├───┤ Rz(π/2) ├──■──┤ X ├┤ Rz(π/3) ├─░──╫──╫─┤M├───\n",
       "«         └─┬─┘┌─┴─┐┌──┴───┴──┐└─────────┘     └───┘└─────────┘ ░  ║  ║ └╥┘┌─┐\n",
       "«q6256_3: ──■──┤ X ├┤ Rz(π/3) ├─────────────────────────────────░──╫──╫──╫─┤M├\n",
       "«              └───┘└─────────┘                                 ░  ║  ║  ║ └╥┘\n",
       "« c130: 4/═════════════════════════════════════════════════════════╩══╩══╩══╩═\n",
       "«                                                                  0  1  2  3 "
      ]
     },
     "metadata": {},
     "output_type": "display_data"
    }
   ],
   "source": [
    "swap_qaoa_q = QuantumRegister(4)\n",
    "swap_qaoa_c = ClassicalRegister(4)\n",
    "swap_qaoa_circ = QuantumCircuit(swap_qaoa_q, swap_qaoa_c)\n",
    "swap_qaoa_circ.h(swap_qaoa_q[0:4])\n",
    "swap_qaoa_circ.cx(swap_qaoa_q[0], swap_qaoa_q[1])\n",
    "swap_qaoa_circ.cx(swap_qaoa_q[2], swap_qaoa_q[3])\n",
    "swap_qaoa_circ.rz(np.pi/2, 1)\n",
    "swap_qaoa_circ.rz(np.pi/2, 2)\n",
    "swap_qaoa_circ.cx(swap_qaoa_q[1], swap_qaoa_q[0])\n",
    "swap_qaoa_circ.cx(swap_qaoa_q[3], swap_qaoa_q[2])\n",
    "swap_qaoa_circ.cx(swap_qaoa_q[0], swap_qaoa_q[1])\n",
    "swap_qaoa_circ.cx(swap_qaoa_q[2], swap_qaoa_q[3])\n",
    "swap_qaoa_circ.cx(swap_qaoa_q[1], swap_qaoa_q[2])\n",
    "swap_qaoa_circ.rz(np.pi/2, 3)\n",
    "swap_qaoa_circ.cx(swap_qaoa_q[2], swap_qaoa_q[1])\n",
    "swap_qaoa_circ.cx(swap_qaoa_q[1], swap_qaoa_q[2])\n",
    "swap_qaoa_circ.cx(swap_qaoa_q[0], swap_qaoa_q[1])\n",
    "swap_qaoa_circ.cx(swap_qaoa_q[2], swap_qaoa_q[3])\n",
    "swap_qaoa_circ.rz(np.pi/2, 1)\n",
    "swap_qaoa_circ.rz(np.pi/2, 3)\n",
    "swap_qaoa_circ.cx(swap_qaoa_q[1], swap_qaoa_q[0])\n",
    "swap_qaoa_circ.cx(swap_qaoa_q[3], swap_qaoa_q[2])\n",
    "swap_qaoa_circ.cx(swap_qaoa_q[0], swap_qaoa_q[1])\n",
    "swap_qaoa_circ.cx(swap_qaoa_q[2], swap_qaoa_q[3])\n",
    "swap_qaoa_circ.cx(swap_qaoa_q[1], swap_qaoa_q[2])\n",
    "swap_qaoa_circ.rz(np.pi/2, 2)\n",
    "swap_qaoa_circ.cx(swap_qaoa_q[2], swap_qaoa_q[1])\n",
    "swap_qaoa_circ.cx(swap_qaoa_q[1], swap_qaoa_q[2])\n",
    "swap_qaoa_circ.rz(np.pi/3, 0)\n",
    "swap_qaoa_circ.rz(np.pi/3, 1)\n",
    "swap_qaoa_circ.rz(np.pi/3, 2)\n",
    "swap_qaoa_circ.rz(np.pi/3, 3)\n",
    "swap_qaoa_circ.barrier()\n",
    "swap_qaoa_circ.measure(swap_qaoa_q[0:4], swap_qaoa_c[0:4])\n",
    "display(swap_qaoa_circ.draw())\n"
   ]
  },
  {
   "cell_type": "code",
   "execution_count": 833,
   "id": "89d598da-963c-4933-8f4b-a784757bc4cb",
   "metadata": {},
   "outputs": [
    {
     "data": {
      "image/png": "[encoded data removed]",
      "text/plain": [
       "<Figure size 1463.79x325.08 with 1 Axes>"
      ]
     },
     "execution_count": 833,
     "metadata": {},
     "output_type": "execute_result"
    }
   ],
   "source": [
    "circuit_drawer(swap_qaoa_circ, output='mpl', style={'backgroundcolor': '#EEEEEE'}, filename='./Images/Circuits/swap_qaoa_circ.pdf')"
   ]
  },
  {
   "cell_type": "code",
   "execution_count": 834,
   "id": "c4089856-10f9-4c6a-a0f7-1e2d0d355e8f",
   "metadata": {},
   "outputs": [
    {
     "data": {
      "image/png": "[encoded data removed]",
      "text/plain": [
       "<Figure size 720x432 with 1 Axes>"
      ]
     },
     "metadata": {
      "needs_background": "light"
     },
     "output_type": "display_data"
    },
    {
     "name": "stdout",
     "output_type": "stream",
     "text": [
      " TVD Distribution\n",
      "1110\n",
      "70 65\n",
      "0.00244140625\n",
      "1011\n",
      "75 71\n",
      "0.00439453125\n",
      "1101\n",
      "53 79\n",
      "0.01708984375\n",
      "0001\n",
      "63 65\n",
      "0.01806640625\n",
      "1010\n",
      "61 58\n",
      "0.01953125\n",
      "1111\n",
      "61 52\n",
      "0.02392578125\n",
      "1000\n",
      "67 75\n",
      "0.02783203125\n",
      "0010\n",
      "68 50\n",
      "0.03662109375\n",
      "0110\n",
      "71 56\n",
      "0.0439453125\n",
      "0100\n",
      "54 66\n",
      "0.0498046875\n",
      "0111\n",
      "67 68\n",
      "0.05029296875\n",
      "0000\n",
      "61 54\n",
      "0.0537109375\n",
      "0011\n",
      "56 60\n",
      "0.0556640625\n",
      "1001\n",
      "71 70\n",
      "0.05615234375\n",
      "0101\n",
      "51 71\n",
      "0.06591796875\n",
      "1100\n",
      "75 64\n",
      "0.0712890625\n",
      "Jensen-Shannon Distance\n",
      "0.06427713136927665\n",
      "Hellinger Distance\n",
      "2.058446562495172\n",
      "2.058446562495172\n",
      "2.058446562495172\n"
     ]
    },
    {
     "data": {
      "text/plain": [
       "(0.0712890625,\n",
       " 0.06427713136927665,\n",
       " 2.058446562495172,\n",
       " 2.058446562495172,\n",
       " 2.058446562495172)"
      ]
     },
     "execution_count": 834,
     "metadata": {},
     "output_type": "execute_result"
    }
   ],
   "source": [
    "bit_error(swap_qaoa_circ, len(swap_qaoa_q), 'swap_qaoa')"
   ]
  },
  {
   "cell_type": "code",
   "execution_count": 835,
   "id": "84fd7edb-8b35-4aae-b500-5a105adc8aa8",
   "metadata": {},
   "outputs": [
    {
     "data": {
      "image/png": "[encoded data removed]",
      "text/plain": [
       "<Figure size 720x432 with 1 Axes>"
      ]
     },
     "metadata": {
      "needs_background": "light"
     },
     "output_type": "display_data"
    },
    {
     "name": "stdout",
     "output_type": "stream",
     "text": [
      "TVD Distribution\n",
      "1101\n",
      "57 56\n",
      "0.0029296875\n",
      "0001\n",
      "66 56\n",
      "0.0029296875\n",
      "1110\n",
      "80 58\n",
      "0.015625\n",
      "1011\n",
      "84 67\n",
      "0.02490234375\n",
      "0101\n",
      "53 77\n",
      "0.0302734375\n",
      "1100\n",
      "60 71\n",
      "0.033203125\n",
      "1111\n",
      "52 77\n",
      "0.0361328125\n",
      "1010\n",
      "63 62\n",
      "0.037109375\n",
      "1000\n",
      "83 67\n",
      "0.0390625\n",
      "1001\n",
      "65 68\n",
      "0.04736328125\n",
      "0111\n",
      "57 64\n",
      "0.0478515625\n",
      "0011\n",
      "55 54\n",
      "0.05126953125\n",
      "0000\n",
      "51 55\n",
      "0.0732421875\n",
      "0010\n",
      "64 66\n",
      "0.0732421875\n",
      "0110\n",
      "60 72\n",
      "0.076171875\n",
      "0100\n",
      "74 54\n",
      "0.080078125\n",
      "Jensen-Shannon Distance\n",
      "0.09506843812350321\n",
      "Hellinger Distance\n",
      "3.047329938295048\n",
      "3.047329938295048\n",
      "3.047329938295048\n"
     ]
    },
    {
     "data": {
      "text/plain": [
       "(0.080078125,\n",
       " 0.09506843812350321,\n",
       " 3.047329938295048,\n",
       " 3.047329938295048,\n",
       " 3.047329938295048)"
      ]
     },
     "execution_count": 835,
     "metadata": {},
     "output_type": "execute_result"
    }
   ],
   "source": [
    "t1_t2(len(swap_qaoa_q), swap_qaoa_circ, 'swap_qaoa')"
   ]
  },
  {
   "cell_type": "code",
   "execution_count": 836,
   "id": "f33e03df-e423-4500-aa84-8ceb64ae0b46",
   "metadata": {},
   "outputs": [
    {
     "data": {
      "image/png": "[encoded data removed]",
      "text/plain": [
       "<Figure size 720x432 with 1 Axes>"
      ]
     },
     "metadata": {
      "needs_background": "light"
     },
     "output_type": "display_data"
    },
    {
     "name": "stdout",
     "output_type": "stream",
     "text": [
      "TVD Distribution\n",
      "1011\n",
      "57 67\n",
      "0.0048828125\n",
      "0001\n",
      "63 69\n",
      "0.0078125\n",
      "1110\n",
      "63 61\n",
      "0.0087890625\n",
      "1000\n",
      "66 64\n",
      "0.009765625\n",
      "0111\n",
      "55 63\n",
      "0.013671875\n",
      "0000\n",
      "58 73\n",
      "0.02099609375\n",
      "0011\n",
      "54 61\n",
      "0.0244140625\n",
      "0010\n",
      "59 69\n",
      "0.029296875\n",
      "1101\n",
      "58 73\n",
      "0.03662109375\n",
      "0100\n",
      "69 60\n",
      "0.041015625\n",
      "0110\n",
      "59 65\n",
      "0.0439453125\n",
      "1001\n",
      "78 59\n",
      "0.05322265625\n",
      "1010\n",
      "72 65\n",
      "0.056640625\n",
      "1111\n",
      "69 49\n",
      "0.06640625\n",
      "1100\n",
      "73 73\n",
      "0.06640625\n",
      "0101\n",
      "71 53\n",
      "0.0751953125\n",
      "Jensen-Shannon Distance\n",
      "0.05591039749292874\n",
      "Hellinger Distance\n",
      "1.7914552281789928\n",
      "1.7914552281789928\n",
      "1.7914552281789928\n"
     ]
    },
    {
     "data": {
      "text/plain": [
       "(0.0751953125,\n",
       " 0.05591039749292874,\n",
       " 1.7914552281789928,\n",
       " 1.7914552281789928,\n",
       " 1.7914552281789928)"
      ]
     },
     "execution_count": 836,
     "metadata": {},
     "output_type": "execute_result"
    }
   ],
   "source": [
    "depolar(len(swap_qaoa_q), swap_qaoa_circ, 'swap_qaoa')"
   ]
  },
  {
   "cell_type": "code",
   "execution_count": 837,
   "id": "acc435fc-511d-4487-b6d2-19f227263db9",
   "metadata": {},
   "outputs": [
    {
     "data": {
      "text/html": [
       "<pre style=\"word-wrap: normal;white-space: pre;background: #fff0;line-height: 1.1;font-family: &quot;Courier New&quot;,Courier,monospace\">         ┌───┐                                          ┌─────────┐           »\n",
       "q6317_0: ┤ H ├──■───────────────■────■───────────────■──┤ Rz(π/3) ├───────────»\n",
       "         ├───┤┌─┴─┐┌─────────┐┌─┴─┐  │               │  └─────────┘           »\n",
       "q6317_1: ┤ H ├┤ X ├┤ Rz(π/2) ├┤ X ├──┼───────────────┼───────■────────────────»\n",
       "         ├───┤└───┘└─────────┘└───┘┌─┴─┐┌─────────┐┌─┴─┐   ┌─┴─┐   ┌─────────┐»\n",
       "q6317_2: ┤ H ├─────────────────────┤ X ├┤ Rz(π/2) ├┤ X ├───┤ X ├───┤ Rz(π/2) ├»\n",
       "         └───┘                     └───┘└─────────┘└───┘   └───┘   └─────────┘»\n",
       " c131: 3/═════════════════════════════════════════════════════════════════════»\n",
       "                                                                              »\n",
       "«                          ░ ┌─┐      \n",
       "«q6317_0: ─────────────────░─┤M├──────\n",
       "«              ┌─────────┐ ░ └╥┘┌─┐   \n",
       "«q6317_1: ──■──┤ Rz(π/3) ├─░──╫─┤M├───\n",
       "«         ┌─┴─┐├─────────┤ ░  ║ └╥┘┌─┐\n",
       "«q6317_2: ┤ X ├┤ Rz(π/3) ├─░──╫──╫─┤M├\n",
       "«         └───┘└─────────┘ ░  ║  ║ └╥┘\n",
       "« c131: 3/════════════════════╩══╩══╩═\n",
       "«                             0  1  2 </pre>"
      ],
      "text/plain": [
       "         ┌───┐                                          ┌─────────┐           »\n",
       "q6317_0: ┤ H ├──■───────────────■────■───────────────■──┤ Rz(π/3) ├───────────»\n",
       "         ├───┤┌─┴─┐┌─────────┐┌─┴─┐  │               │  └─────────┘           »\n",
       "q6317_1: ┤ H ├┤ X ├┤ Rz(π/2) ├┤ X ├──┼───────────────┼───────■────────────────»\n",
       "         ├───┤└───┘└─────────┘└───┘┌─┴─┐┌─────────┐┌─┴─┐   ┌─┴─┐   ┌─────────┐»\n",
       "q6317_2: ┤ H ├─────────────────────┤ X ├┤ Rz(π/2) ├┤ X ├───┤ X ├───┤ Rz(π/2) ├»\n",
       "         └───┘                     └───┘└─────────┘└───┘   └───┘   └─────────┘»\n",
       " c131: 3/═════════════════════════════════════════════════════════════════════»\n",
       "                                                                              »\n",
       "«                          ░ ┌─┐      \n",
       "«q6317_0: ─────────────────░─┤M├──────\n",
       "«              ┌─────────┐ ░ └╥┘┌─┐   \n",
       "«q6317_1: ──■──┤ Rz(π/3) ├─░──╫─┤M├───\n",
       "«         ┌─┴─┐├─────────┤ ░  ║ └╥┘┌─┐\n",
       "«q6317_2: ┤ X ├┤ Rz(π/3) ├─░──╫──╫─┤M├\n",
       "«         └───┘└─────────┘ ░  ║  ║ └╥┘\n",
       "« c131: 3/════════════════════╩══╩══╩═\n",
       "«                             0  1  2 "
      ]
     },
     "metadata": {},
     "output_type": "display_data"
    }
   ],
   "source": [
    "vanilla_qaoa_q = QuantumRegister(3)\n",
    "vanilla_qaoa_c = ClassicalRegister(3)\n",
    "vanilla_qaoa_circ = QuantumCircuit(vanilla_qaoa_q, vanilla_qaoa_c)\n",
    "vanilla_qaoa_circ.h(vanilla_qaoa_q[0:3])\n",
    "vanilla_qaoa_circ.cx(vanilla_qaoa_q[0], vanilla_qaoa_q[1])\n",
    "vanilla_qaoa_circ.rz(np.pi/2, 1)\n",
    "vanilla_qaoa_circ.cx(vanilla_qaoa_q[0], vanilla_qaoa_q[1])\n",
    "vanilla_qaoa_circ.cx(vanilla_qaoa_q[0], vanilla_qaoa_q[2])\n",
    "vanilla_qaoa_circ.rz(np.pi/2, 2)\n",
    "vanilla_qaoa_circ.cx(vanilla_qaoa_q[0], vanilla_qaoa_q[2])\n",
    "vanilla_qaoa_circ.cx(vanilla_qaoa_q[1], vanilla_qaoa_q[2])\n",
    "vanilla_qaoa_circ.rz(np.pi/2, 2)\n",
    "vanilla_qaoa_circ.cx(vanilla_qaoa_q[1], vanilla_qaoa_q[2])\n",
    "vanilla_qaoa_circ.rz(np.pi/3, 0)\n",
    "vanilla_qaoa_circ.rz(np.pi/3, 1)\n",
    "vanilla_qaoa_circ.rz(np.pi/3, 2)\n",
    "vanilla_qaoa_circ.barrier()\n",
    "vanilla_qaoa_circ.measure(vanilla_qaoa_q[0:3], vanilla_qaoa_c[0:3])\n",
    "display(vanilla_qaoa_circ.draw())"
   ]
  },
  {
   "cell_type": "code",
   "execution_count": 838,
   "id": "69b9bca1-bb79-4bd2-b6bc-19c2527b9c53",
   "metadata": {},
   "outputs": [
    {
     "data": {
      "image/png": "[encoded data removed]",
      "text/plain": [
       "<Figure size 1042.39x264.88 with 1 Axes>"
      ]
     },
     "execution_count": 838,
     "metadata": {},
     "output_type": "execute_result"
    }
   ],
   "source": [
    "circuit_drawer(vanilla_qaoa_circ, output='mpl', style={'backgroundcolor': '#EEEEEE'}, filename='./Images/Circuits/vanilla_qaoa_circ.pdf')"
   ]
  },
  {
   "cell_type": "code",
   "execution_count": 839,
   "id": "9567cff2-15f4-4d54-b17a-05aee830119e",
   "metadata": {},
   "outputs": [
    {
     "data": {
      "image/png": "[encoded data removed]",
      "text/plain": [
       "<Figure size 720x432 with 1 Axes>"
      ]
     },
     "metadata": {
      "needs_background": "light"
     },
     "output_type": "display_data"
    },
    {
     "name": "stdout",
     "output_type": "stream",
     "text": [
      " TVD Distribution\n",
      "101\n",
      "114 135\n",
      "0.01025390625\n",
      "001\n",
      "131 134\n",
      "0.01171875\n",
      "010\n",
      "130 151\n",
      "0.02197265625\n",
      "000\n",
      "132 115\n",
      "0.0302734375\n",
      "011\n",
      "135 124\n",
      "0.03564453125\n",
      "111\n",
      "124 124\n",
      "0.03564453125\n",
      "110\n",
      "128 132\n",
      "0.03759765625\n",
      "100\n",
      "130 109\n",
      "0.0478515625\n",
      "Jensen-Shannon Distance\n",
      "0.04136142767316674\n",
      "Hellinger Distance\n",
      "1.323908778779863\n",
      "1.323908778779863\n",
      "1.323908778779863\n"
     ]
    },
    {
     "data": {
      "text/plain": [
       "(0.0478515625,\n",
       " 0.04136142767316674,\n",
       " 1.323908778779863,\n",
       " 1.323908778779863,\n",
       " 1.323908778779863)"
      ]
     },
     "execution_count": 839,
     "metadata": {},
     "output_type": "execute_result"
    }
   ],
   "source": [
    "bit_error(vanilla_qaoa_circ, len(vanilla_qaoa_q), 'vanilla_qaoa')"
   ]
  },
  {
   "cell_type": "code",
   "execution_count": 840,
   "id": "9ebadf2a-5ee8-4cbe-9685-9dede7f6a91c",
   "metadata": {},
   "outputs": [
    {
     "data": {
      "image/png": "[encoded data removed]",
      "text/plain": [
       "<Figure size 720x432 with 1 Axes>"
      ]
     },
     "metadata": {
      "needs_background": "light"
     },
     "output_type": "display_data"
    },
    {
     "name": "stdout",
     "output_type": "stream",
     "text": [
      "TVD Distribution\n",
      "111\n",
      "137 125\n",
      "0.0009765625\n",
      "000\n",
      "144 150\n",
      "0.00537109375\n",
      "011\n",
      "134 137\n",
      "0.0166015625\n",
      "010\n",
      "116 121\n",
      "0.02392578125\n",
      "100\n",
      "134 122\n",
      "0.03173828125\n",
      "110\n",
      "128 127\n",
      "0.0322265625\n",
      "001\n",
      "104 126\n",
      "0.0400390625\n",
      "101\n",
      "127 116\n",
      "0.046875\n",
      "Jensen-Shannon Distance\n",
      "0.04829747666499302\n",
      "Hellinger Distance\n",
      "1.5462061051625218\n",
      "1.5462061051625218\n",
      "1.5462061051625218\n"
     ]
    },
    {
     "data": {
      "text/plain": [
       "(0.046875,\n",
       " 0.04829747666499302,\n",
       " 1.5462061051625218,\n",
       " 1.5462061051625218,\n",
       " 1.5462061051625218)"
      ]
     },
     "execution_count": 840,
     "metadata": {},
     "output_type": "execute_result"
    }
   ],
   "source": [
    "t1_t2(len(vanilla_qaoa_q), vanilla_qaoa_circ, 'vanilla_qaoa')"
   ]
  },
  {
   "cell_type": "code",
   "execution_count": 841,
   "id": "0e0c2eb4-901e-44dc-90d1-d11fd9f14ce3",
   "metadata": {},
   "outputs": [
    {
     "data": {
      "image/png": "[encoded data removed]",
      "text/plain": [
       "<Figure size 720x432 with 1 Axes>"
      ]
     },
     "metadata": {
      "needs_background": "light"
     },
     "output_type": "display_data"
    },
    {
     "name": "stdout",
     "output_type": "stream",
     "text": [
      "TVD Distribution\n",
      "101\n",
      "114 123\n",
      "0.00439453125\n",
      "010\n",
      "117 136\n",
      "0.013671875\n",
      "111\n",
      "112 121\n",
      "0.01806640625\n",
      "000\n",
      "139 131\n",
      "0.02197265625\n",
      "011\n",
      "132 145\n",
      "0.0283203125\n",
      "110\n",
      "137 128\n",
      "0.03271484375\n",
      "100\n",
      "122 122\n",
      "0.03271484375\n",
      "001\n",
      "151 118\n",
      "0.048828125\n",
      "Jensen-Shannon Distance\n",
      "0.0482208229078535\n",
      "Hellinger Distance\n",
      "1.5436338329395725\n",
      "1.5436338329395725\n",
      "1.5436338329395725\n"
     ]
    },
    {
     "data": {
      "text/plain": [
       "(0.048828125,\n",
       " 0.0482208229078535,\n",
       " 1.5436338329395725,\n",
       " 1.5436338329395725,\n",
       " 1.5436338329395725)"
      ]
     },
     "execution_count": 841,
     "metadata": {},
     "output_type": "execute_result"
    }
   ],
   "source": [
    "depolar(len(vanilla_qaoa_q), vanilla_qaoa_circ, 'vanilla_qaoa')"
   ]
  },
  {
   "cell_type": "code",
   "execution_count": 842,
   "id": "de7a615a-f8a8-4263-aef0-b4d5f53a7c53",
   "metadata": {},
   "outputs": [
    {
     "data": {
      "text/html": [
       "<pre style=\"word-wrap: normal;white-space: pre;background: #fff0;line-height: 1.1;font-family: &quot;Courier New&quot;,Courier,monospace\">         ┌───┐┌─────────┐┌───┐                                           ░ ┌─┐»\n",
       "q6378_0: ┤ H ├┤ Rz(π/2) ├┤ H ├──■───────────────■────────────────────────░─┤M├»\n",
       "         ├───┤├─────────┤├───┤┌─┴─┐┌─────────┐┌─┴─┐                      ░ └╥┘»\n",
       "q6378_1: ┤ H ├┤ Rz(π/2) ├┤ H ├┤ X ├┤ Rz(π/3) ├┤ X ├──■───────────────■───░──╫─»\n",
       "         ├───┤├─────────┤├───┤└───┘└─────────┘└───┘┌─┴─┐┌─────────┐┌─┴─┐ ░  ║ »\n",
       "q6378_2: ┤ H ├┤ Rz(π/2) ├┤ H ├─────────────────────┤ X ├┤ Rz(π/3) ├┤ X ├─░──╫─»\n",
       "         └───┘└─────────┘└───┘                     └───┘└─────────┘└───┘ ░  ║ »\n",
       " c132: 3/═══════════════════════════════════════════════════════════════════╩═»\n",
       "                                                                            0 »\n",
       "«               \n",
       "«q6378_0: ──────\n",
       "«         ┌─┐   \n",
       "«q6378_1: ┤M├───\n",
       "«         └╥┘┌─┐\n",
       "«q6378_2: ─╫─┤M├\n",
       "«          ║ └╥┘\n",
       "« c132: 3/═╩══╩═\n",
       "«          1  2 </pre>"
      ],
      "text/plain": [
       "         ┌───┐┌─────────┐┌───┐                                           ░ ┌─┐»\n",
       "q6378_0: ┤ H ├┤ Rz(π/2) ├┤ H ├──■───────────────■────────────────────────░─┤M├»\n",
       "         ├───┤├─────────┤├───┤┌─┴─┐┌─────────┐┌─┴─┐                      ░ └╥┘»\n",
       "q6378_1: ┤ H ├┤ Rz(π/2) ├┤ H ├┤ X ├┤ Rz(π/3) ├┤ X ├──■───────────────■───░──╫─»\n",
       "         ├───┤├─────────┤├───┤└───┘└─────────┘└───┘┌─┴─┐┌─────────┐┌─┴─┐ ░  ║ »\n",
       "q6378_2: ┤ H ├┤ Rz(π/2) ├┤ H ├─────────────────────┤ X ├┤ Rz(π/3) ├┤ X ├─░──╫─»\n",
       "         └───┘└─────────┘└───┘                     └───┘└─────────┘└───┘ ░  ║ »\n",
       " c132: 3/═══════════════════════════════════════════════════════════════════╩═»\n",
       "                                                                            0 »\n",
       "«               \n",
       "«q6378_0: ──────\n",
       "«         ┌─┐   \n",
       "«q6378_1: ┤M├───\n",
       "«         └╥┘┌─┐\n",
       "«q6378_2: ─╫─┤M├\n",
       "«          ║ └╥┘\n",
       "« c132: 3/═╩══╩═\n",
       "«          1  2 "
      ]
     },
     "metadata": {},
     "output_type": "display_data"
    }
   ],
   "source": [
    "hamilton_q = QuantumRegister(3)\n",
    "hamilton_c = ClassicalRegister(3)\n",
    "hamilton_circ = QuantumCircuit(hamilton_q, hamilton_c)\n",
    "hamilton_circ.h(hamilton_q[0:4])\n",
    "hamilton_circ.rz(np.pi/2, hamilton_q[0:4])\n",
    "hamilton_circ.h(hamilton_q[0:4])\n",
    "hamilton_circ.cx(hamilton_q[0], hamilton_q[1])\n",
    "hamilton_circ.rz(np.pi/3, 1)\n",
    "hamilton_circ.cx(hamilton_q[0], hamilton_q[1])\n",
    "hamilton_circ.cx(hamilton_q[1], hamilton_q[2])\n",
    "hamilton_circ.rz(np.pi/3, 2)\n",
    "hamilton_circ.cx(hamilton_q[1], hamilton_q[2])\n",
    "hamilton_circ.barrier()\n",
    "hamilton_circ.measure(hamilton_q[0:3], hamilton_c[0:3])\n",
    "display(hamilton_circ.draw())"
   ]
  },
  {
   "cell_type": "code",
   "execution_count": 843,
   "id": "2e9a891f-af1a-46d8-9d9d-8b0c60b55a7c",
   "metadata": {},
   "outputs": [
    {
     "data": {
      "image/png": "[encoded data removed]",
      "text/plain": [
       "<Figure size 921.992x264.88 with 1 Axes>"
      ]
     },
     "execution_count": 843,
     "metadata": {},
     "output_type": "execute_result"
    }
   ],
   "source": [
    "circuit_drawer(hamilton_circ, output='mpl', style={'backgroundcolor': '#EEEEEE'}, filename='./Images/Circuits/hamilton_circ.pdf')"
   ]
  },
  {
   "cell_type": "code",
   "execution_count": 844,
   "id": "f183c945-bb69-4b42-b650-08af7b7348ec",
   "metadata": {},
   "outputs": [
    {
     "data": {
      "image/png": "[encoded data removed]",
      "text/plain": [
       "<Figure size 720x432 with 1 Axes>"
      ]
     },
     "metadata": {
      "needs_background": "light"
     },
     "output_type": "display_data"
    },
    {
     "name": "stdout",
     "output_type": "stream",
     "text": [
      " TVD Distribution\n",
      "011\n",
      "108 135\n",
      "0.01318359375\n",
      "000\n",
      "122 132\n",
      "0.01806640625\n",
      "111\n",
      "130 137\n",
      "0.021484375\n",
      "100\n",
      "125 122\n",
      "0.02294921875\n",
      "110\n",
      "132 116\n",
      "0.03076171875\n",
      "010\n",
      "147 141\n",
      "0.03369140625\n",
      "001\n",
      "134 121\n",
      "0.0400390625\n",
      "101\n",
      "126 120\n",
      "0.04296875\n",
      "Jensen-Shannon Distance\n",
      "0.02598827084191154\n",
      "Hellinger Distance\n",
      "0.8317242190058916\n",
      "0.8317242190058916\n",
      "0.8317242190058916\n"
     ]
    },
    {
     "data": {
      "text/plain": [
       "(0.04296875,\n",
       " 0.02598827084191154,\n",
       " 0.8317242190058916,\n",
       " 0.8317242190058916,\n",
       " 0.8317242190058916)"
      ]
     },
     "execution_count": 844,
     "metadata": {},
     "output_type": "execute_result"
    }
   ],
   "source": [
    "bit_error(hamilton_circ, len(hamilton_q), 'hamilton_circ')"
   ]
  },
  {
   "cell_type": "code",
   "execution_count": 845,
   "id": "c602ee49-5790-4775-93f5-ab94b5c15bba",
   "metadata": {},
   "outputs": [
    {
     "data": {
      "image/png": "[encoded data removed]",
      "text/plain": [
       "<Figure size 720x432 with 1 Axes>"
      ]
     },
     "metadata": {
      "needs_background": "light"
     },
     "output_type": "display_data"
    },
    {
     "name": "stdout",
     "output_type": "stream",
     "text": [
      "TVD Distribution\n",
      "101\n",
      "109 130\n",
      "0.00537109375\n",
      "001\n",
      "113 101\n",
      "0.0107421875\n",
      "100\n",
      "138 138\n",
      "0.01806640625\n",
      "110\n",
      "139 129\n",
      "0.02978515625\n",
      "010\n",
      "121 136\n",
      "0.0302734375\n",
      "011\n",
      "142 137\n",
      "0.03564453125\n",
      "000\n",
      "130 135\n",
      "0.0517578125\n",
      "111\n",
      "132 118\n",
      "0.0537109375\n",
      "Jensen-Shannon Distance\n",
      "0.03901063857307048\n",
      "Hellinger Distance\n",
      "1.2486541780654488\n",
      "1.2486541780654488\n",
      "1.2486541780654488\n"
     ]
    },
    {
     "data": {
      "text/plain": [
       "(0.0537109375,\n",
       " 0.03901063857307048,\n",
       " 1.2486541780654488,\n",
       " 1.2486541780654488,\n",
       " 1.2486541780654488)"
      ]
     },
     "execution_count": 845,
     "metadata": {},
     "output_type": "execute_result"
    }
   ],
   "source": [
    "t1_t2(len(hamilton_q), hamilton_circ, 'hamilton_circ')"
   ]
  },
  {
   "cell_type": "code",
   "execution_count": 846,
   "id": "29c36857-ffb2-44a6-9a44-21b171346ee0",
   "metadata": {},
   "outputs": [
    {
     "data": {
      "image/png": "[encoded data removed]",
      "text/plain": [
       "<Figure size 720x432 with 1 Axes>"
      ]
     },
     "metadata": {
      "needs_background": "light"
     },
     "output_type": "display_data"
    },
    {
     "name": "stdout",
     "output_type": "stream",
     "text": [
      "TVD Distribution\n",
      "100\n",
      "144 140\n",
      "0.001953125\n",
      "110\n",
      "125 122\n",
      "0.00341796875\n",
      "010\n",
      "134 153\n",
      "0.0126953125\n",
      "001\n",
      "130 126\n",
      "0.0146484375\n",
      "101\n",
      "123 125\n",
      "0.015625\n",
      "000\n",
      "133 133\n",
      "0.015625\n",
      "111\n",
      "132 115\n",
      "0.02392578125\n",
      "011\n",
      "103 110\n",
      "0.02734375\n",
      "Jensen-Shannon Distance\n",
      "0.05180475223142366\n",
      "Hellinger Distance\n",
      "1.6587834841616733\n",
      "1.6587834841616733\n",
      "1.6587834841616733\n"
     ]
    },
    {
     "data": {
      "text/plain": [
       "(0.02734375,\n",
       " 0.05180475223142366,\n",
       " 1.6587834841616733,\n",
       " 1.6587834841616733,\n",
       " 1.6587834841616733)"
      ]
     },
     "execution_count": 846,
     "metadata": {},
     "output_type": "execute_result"
    }
   ],
   "source": [
    "depolar(len(hamilton_q), hamilton_circ, 'hamilton_circ')"
   ]
  },
  {
   "cell_type": "code",
   "execution_count": null,
   "id": "80aaa246-3e79-4101-9f04-11ce32298d6d",
   "metadata": {},
   "outputs": [],
   "source": []
  }
 ],
 "metadata": {
  "kernelspec": {
   "display_name": "Python 3",
   "language": "python",
   "name": "python3"
  },
  "language_info": {
   "codemirror_mode": {
    "name": "ipython",
    "version": 3
   },
   "file_extension": ".py",
   "mimetype": "text/x-python",
   "name": "python",
   "nbconvert_exporter": "python",
   "pygments_lexer": "ipython3",
   "version": "3.9.12"
  },
  "widgets": {
   "application/vnd.jupyter.widget-state+json": {
    "state": {},
    "version_major": 2,
    "version_minor": 0
   }
  }
 },
 "nbformat": 4,
 "nbformat_minor": 5
}
